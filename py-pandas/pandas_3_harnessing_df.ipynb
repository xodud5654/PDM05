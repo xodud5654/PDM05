{
  "nbformat": 4,
  "nbformat_minor": 0,
  "metadata": {
    "kernelspec": {
      "name": "python3",
      "display_name": "Python 3"
    },
    "language_info": {
      "codemirror_mode": {
        "name": "ipython",
        "version": 3
      },
      "file_extension": ".py",
      "mimetype": "text/x-python",
      "name": "python",
      "nbconvert_exporter": "python",
      "pygments_lexer": "ipython3",
      "version": "3.6.6"
    },
    "colab": {
      "name": "pandas_3_harnessing_df.ipynb",
      "provenance": [],
      "collapsed_sections": [],
      "include_colab_link": true
    }
  },
  "cells": [
    {
      "cell_type": "markdown",
      "metadata": {
        "id": "view-in-github",
        "colab_type": "text"
      },
      "source": [
        "<a href=\"https://colab.research.google.com/github/xodud5654/PDM05/blob/main/py-pandas/pandas_3_harnessing_df.ipynb\" target=\"_parent\"><img src=\"https://colab.research.google.com/assets/colab-badge.svg\" alt=\"Open In Colab\"/></a>"
      ]
    },
    {
      "cell_type": "markdown",
      "metadata": {
        "id": "-a_Ksvwdx5pf"
      },
      "source": [
        "### Python module 3. **pandas**"
      ]
    },
    {
      "cell_type": "markdown",
      "metadata": {
        "id": "P_F0RSPKx5pl"
      },
      "source": [
        "# Using pandas"
      ]
    },
    {
      "cell_type": "markdown",
      "metadata": {
        "id": "FfxMgWUFx5pm"
      },
      "source": [
        "* [10 Minutes to pandas](https://pandas.pydata.org/pandas-docs/stable/10min.html)\n",
        "* [Pandas tutorial with interactive exercises](https://www.kaggle.com/pistak/pandas-tutorial-with-interactive-exercises)"
      ]
    },
    {
      "cell_type": "code",
      "metadata": {
        "id": "2mpGSeRlx5po"
      },
      "source": [
        "import pandas as pd\n",
        "import numpy as np\n",
        "import matplotlib.pyplot as plt\n",
        "# %matplotlib inline  # work for Jupyter notebook or lab"
      ],
      "execution_count": 37,
      "outputs": []
    },
    {
      "cell_type": "code",
      "metadata": {
        "id": "w2eNkCfLx5p-",
        "colab": {
          "base_uri": "https://localhost:8080/"
        },
        "outputId": "e76b9e9f-44bb-4c87-c28a-0f410bae7ff8"
      },
      "source": [
        "# Creating a DataFrame by passing a NumPy array, with a datetime index and labeled columns:\n",
        "dates = pd.date_range('20210927', periods=6)\n",
        "dates"
      ],
      "execution_count": 38,
      "outputs": [
        {
          "output_type": "execute_result",
          "data": {
            "text/plain": [
              "DatetimeIndex(['2021-09-27', '2021-09-28', '2021-09-29', '2021-09-30',\n",
              "               '2021-10-01', '2021-10-02'],\n",
              "              dtype='datetime64[ns]', freq='D')"
            ]
          },
          "metadata": {},
          "execution_count": 38
        }
      ]
    },
    {
      "cell_type": "code",
      "metadata": {
        "id": "dHwUodTGx5qj",
        "colab": {
          "base_uri": "https://localhost:8080/",
          "height": 237
        },
        "outputId": "b7a43c04-65cd-4923-bd45-cf2f7b972440"
      },
      "source": [
        "# dataframe\n",
        "np.random.seed(1234)\n",
        "df = pd.DataFrame(np.random.randn(6,4), index=dates, columns=list('ABCD'))\n",
        "df"
      ],
      "execution_count": 39,
      "outputs": [
        {
          "output_type": "execute_result",
          "data": {
            "text/html": [
              "<div>\n",
              "<style scoped>\n",
              "    .dataframe tbody tr th:only-of-type {\n",
              "        vertical-align: middle;\n",
              "    }\n",
              "\n",
              "    .dataframe tbody tr th {\n",
              "        vertical-align: top;\n",
              "    }\n",
              "\n",
              "    .dataframe thead th {\n",
              "        text-align: right;\n",
              "    }\n",
              "</style>\n",
              "<table border=\"1\" class=\"dataframe\">\n",
              "  <thead>\n",
              "    <tr style=\"text-align: right;\">\n",
              "      <th></th>\n",
              "      <th>A</th>\n",
              "      <th>B</th>\n",
              "      <th>C</th>\n",
              "      <th>D</th>\n",
              "    </tr>\n",
              "  </thead>\n",
              "  <tbody>\n",
              "    <tr>\n",
              "      <th>2021-09-27</th>\n",
              "      <td>0.471435</td>\n",
              "      <td>-1.190976</td>\n",
              "      <td>1.432707</td>\n",
              "      <td>-0.312652</td>\n",
              "    </tr>\n",
              "    <tr>\n",
              "      <th>2021-09-28</th>\n",
              "      <td>-0.720589</td>\n",
              "      <td>0.887163</td>\n",
              "      <td>0.859588</td>\n",
              "      <td>-0.636524</td>\n",
              "    </tr>\n",
              "    <tr>\n",
              "      <th>2021-09-29</th>\n",
              "      <td>0.015696</td>\n",
              "      <td>-2.242685</td>\n",
              "      <td>1.150036</td>\n",
              "      <td>0.991946</td>\n",
              "    </tr>\n",
              "    <tr>\n",
              "      <th>2021-09-30</th>\n",
              "      <td>0.953324</td>\n",
              "      <td>-2.021255</td>\n",
              "      <td>-0.334077</td>\n",
              "      <td>0.002118</td>\n",
              "    </tr>\n",
              "    <tr>\n",
              "      <th>2021-10-01</th>\n",
              "      <td>0.405453</td>\n",
              "      <td>0.289092</td>\n",
              "      <td>1.321158</td>\n",
              "      <td>-1.546906</td>\n",
              "    </tr>\n",
              "    <tr>\n",
              "      <th>2021-10-02</th>\n",
              "      <td>-0.202646</td>\n",
              "      <td>-0.655969</td>\n",
              "      <td>0.193421</td>\n",
              "      <td>0.553439</td>\n",
              "    </tr>\n",
              "  </tbody>\n",
              "</table>\n",
              "</div>"
            ],
            "text/plain": [
              "                   A         B         C         D\n",
              "2021-09-27  0.471435 -1.190976  1.432707 -0.312652\n",
              "2021-09-28 -0.720589  0.887163  0.859588 -0.636524\n",
              "2021-09-29  0.015696 -2.242685  1.150036  0.991946\n",
              "2021-09-30  0.953324 -2.021255 -0.334077  0.002118\n",
              "2021-10-01  0.405453  0.289092  1.321158 -1.546906\n",
              "2021-10-02 -0.202646 -0.655969  0.193421  0.553439"
            ]
          },
          "metadata": {},
          "execution_count": 39
        }
      ]
    },
    {
      "cell_type": "markdown",
      "metadata": {
        "id": "wq1nIp3F1fFB"
      },
      "source": [
        "\n",
        "\n",
        "---\n",
        "\n"
      ]
    },
    {
      "cell_type": "markdown",
      "metadata": {
        "id": "I1IgbN4Gx5s4"
      },
      "source": [
        "### 데이터 재구성(setting) 또는 확장"
      ]
    },
    {
      "cell_type": "code",
      "metadata": {
        "id": "sy6TR7lUx5s5",
        "colab": {
          "base_uri": "https://localhost:8080/"
        },
        "outputId": "c8739f0b-c8ba-4b8a-ff27-ca2ed2194ef8"
      },
      "source": [
        "# Setting a new column automatically aligns the data by the indexes.\n",
        "s1 = pd.Series([1,2,3,4,5,6], index=pd.date_range('20210927', periods=6))\n",
        "s1"
      ],
      "execution_count": 40,
      "outputs": [
        {
          "output_type": "execute_result",
          "data": {
            "text/plain": [
              "2021-09-27    1\n",
              "2021-09-28    2\n",
              "2021-09-29    3\n",
              "2021-09-30    4\n",
              "2021-10-01    5\n",
              "2021-10-02    6\n",
              "Freq: D, dtype: int64"
            ]
          },
          "metadata": {},
          "execution_count": 40
        }
      ]
    },
    {
      "cell_type": "code",
      "metadata": {
        "id": "XsEv8uSFx5tA"
      },
      "source": [
        "df['F'] = s1"
      ],
      "execution_count": 41,
      "outputs": []
    },
    {
      "cell_type": "code",
      "metadata": {
        "id": "TtstLrMRx5tE",
        "colab": {
          "base_uri": "https://localhost:8080/",
          "height": 237
        },
        "outputId": "be758f80-b424-48d1-d5d4-5b31b60a1444"
      },
      "source": [
        "df  # 기존 df의 구조에 맞춰서 확장, 재구성됨."
      ],
      "execution_count": 42,
      "outputs": [
        {
          "output_type": "execute_result",
          "data": {
            "text/html": [
              "<div>\n",
              "<style scoped>\n",
              "    .dataframe tbody tr th:only-of-type {\n",
              "        vertical-align: middle;\n",
              "    }\n",
              "\n",
              "    .dataframe tbody tr th {\n",
              "        vertical-align: top;\n",
              "    }\n",
              "\n",
              "    .dataframe thead th {\n",
              "        text-align: right;\n",
              "    }\n",
              "</style>\n",
              "<table border=\"1\" class=\"dataframe\">\n",
              "  <thead>\n",
              "    <tr style=\"text-align: right;\">\n",
              "      <th></th>\n",
              "      <th>A</th>\n",
              "      <th>B</th>\n",
              "      <th>C</th>\n",
              "      <th>D</th>\n",
              "      <th>F</th>\n",
              "    </tr>\n",
              "  </thead>\n",
              "  <tbody>\n",
              "    <tr>\n",
              "      <th>2021-09-27</th>\n",
              "      <td>0.471435</td>\n",
              "      <td>-1.190976</td>\n",
              "      <td>1.432707</td>\n",
              "      <td>-0.312652</td>\n",
              "      <td>1</td>\n",
              "    </tr>\n",
              "    <tr>\n",
              "      <th>2021-09-28</th>\n",
              "      <td>-0.720589</td>\n",
              "      <td>0.887163</td>\n",
              "      <td>0.859588</td>\n",
              "      <td>-0.636524</td>\n",
              "      <td>2</td>\n",
              "    </tr>\n",
              "    <tr>\n",
              "      <th>2021-09-29</th>\n",
              "      <td>0.015696</td>\n",
              "      <td>-2.242685</td>\n",
              "      <td>1.150036</td>\n",
              "      <td>0.991946</td>\n",
              "      <td>3</td>\n",
              "    </tr>\n",
              "    <tr>\n",
              "      <th>2021-09-30</th>\n",
              "      <td>0.953324</td>\n",
              "      <td>-2.021255</td>\n",
              "      <td>-0.334077</td>\n",
              "      <td>0.002118</td>\n",
              "      <td>4</td>\n",
              "    </tr>\n",
              "    <tr>\n",
              "      <th>2021-10-01</th>\n",
              "      <td>0.405453</td>\n",
              "      <td>0.289092</td>\n",
              "      <td>1.321158</td>\n",
              "      <td>-1.546906</td>\n",
              "      <td>5</td>\n",
              "    </tr>\n",
              "    <tr>\n",
              "      <th>2021-10-02</th>\n",
              "      <td>-0.202646</td>\n",
              "      <td>-0.655969</td>\n",
              "      <td>0.193421</td>\n",
              "      <td>0.553439</td>\n",
              "      <td>6</td>\n",
              "    </tr>\n",
              "  </tbody>\n",
              "</table>\n",
              "</div>"
            ],
            "text/plain": [
              "                   A         B         C         D  F\n",
              "2021-09-27  0.471435 -1.190976  1.432707 -0.312652  1\n",
              "2021-09-28 -0.720589  0.887163  0.859588 -0.636524  2\n",
              "2021-09-29  0.015696 -2.242685  1.150036  0.991946  3\n",
              "2021-09-30  0.953324 -2.021255 -0.334077  0.002118  4\n",
              "2021-10-01  0.405453  0.289092  1.321158 -1.546906  5\n",
              "2021-10-02 -0.202646 -0.655969  0.193421  0.553439  6"
            ]
          },
          "metadata": {},
          "execution_count": 42
        }
      ]
    },
    {
      "cell_type": "markdown",
      "metadata": {
        "id": "6i0kBRTJ9inS"
      },
      "source": [
        "#### Setting data by label & its index\n",
        "\n",
        "> **at, iat**\n",
        "\n",
        "- at : label을 이용하여 값 지정\n",
        "- iat: index를 이용하여 값 지정"
      ]
    },
    {
      "cell_type": "code",
      "metadata": {
        "colab": {
          "base_uri": "https://localhost:8080/"
        },
        "id": "BPGfX2gK-3PH",
        "outputId": "cb199022-5573-4bd4-c319-08c7fa9d3b56"
      },
      "source": [
        "type(dates[0])"
      ],
      "execution_count": 43,
      "outputs": [
        {
          "output_type": "execute_result",
          "data": {
            "text/plain": [
              "pandas._libs.tslibs.timestamps.Timestamp"
            ]
          },
          "metadata": {},
          "execution_count": 43
        }
      ]
    },
    {
      "cell_type": "code",
      "metadata": {
        "id": "clG41EzNx5tI",
        "colab": {
          "base_uri": "https://localhost:8080/",
          "height": 237
        },
        "outputId": "5c4b82ce-edf4-428d-de17-21475f2ef252"
      },
      "source": [
        "# Setting values by label:\n",
        "df.at[dates[0],'A'] = 0\n",
        "df"
      ],
      "execution_count": 44,
      "outputs": [
        {
          "output_type": "execute_result",
          "data": {
            "text/html": [
              "<div>\n",
              "<style scoped>\n",
              "    .dataframe tbody tr th:only-of-type {\n",
              "        vertical-align: middle;\n",
              "    }\n",
              "\n",
              "    .dataframe tbody tr th {\n",
              "        vertical-align: top;\n",
              "    }\n",
              "\n",
              "    .dataframe thead th {\n",
              "        text-align: right;\n",
              "    }\n",
              "</style>\n",
              "<table border=\"1\" class=\"dataframe\">\n",
              "  <thead>\n",
              "    <tr style=\"text-align: right;\">\n",
              "      <th></th>\n",
              "      <th>A</th>\n",
              "      <th>B</th>\n",
              "      <th>C</th>\n",
              "      <th>D</th>\n",
              "      <th>F</th>\n",
              "    </tr>\n",
              "  </thead>\n",
              "  <tbody>\n",
              "    <tr>\n",
              "      <th>2021-09-27</th>\n",
              "      <td>0.000000</td>\n",
              "      <td>-1.190976</td>\n",
              "      <td>1.432707</td>\n",
              "      <td>-0.312652</td>\n",
              "      <td>1</td>\n",
              "    </tr>\n",
              "    <tr>\n",
              "      <th>2021-09-28</th>\n",
              "      <td>-0.720589</td>\n",
              "      <td>0.887163</td>\n",
              "      <td>0.859588</td>\n",
              "      <td>-0.636524</td>\n",
              "      <td>2</td>\n",
              "    </tr>\n",
              "    <tr>\n",
              "      <th>2021-09-29</th>\n",
              "      <td>0.015696</td>\n",
              "      <td>-2.242685</td>\n",
              "      <td>1.150036</td>\n",
              "      <td>0.991946</td>\n",
              "      <td>3</td>\n",
              "    </tr>\n",
              "    <tr>\n",
              "      <th>2021-09-30</th>\n",
              "      <td>0.953324</td>\n",
              "      <td>-2.021255</td>\n",
              "      <td>-0.334077</td>\n",
              "      <td>0.002118</td>\n",
              "      <td>4</td>\n",
              "    </tr>\n",
              "    <tr>\n",
              "      <th>2021-10-01</th>\n",
              "      <td>0.405453</td>\n",
              "      <td>0.289092</td>\n",
              "      <td>1.321158</td>\n",
              "      <td>-1.546906</td>\n",
              "      <td>5</td>\n",
              "    </tr>\n",
              "    <tr>\n",
              "      <th>2021-10-02</th>\n",
              "      <td>-0.202646</td>\n",
              "      <td>-0.655969</td>\n",
              "      <td>0.193421</td>\n",
              "      <td>0.553439</td>\n",
              "      <td>6</td>\n",
              "    </tr>\n",
              "  </tbody>\n",
              "</table>\n",
              "</div>"
            ],
            "text/plain": [
              "                   A         B         C         D  F\n",
              "2021-09-27  0.000000 -1.190976  1.432707 -0.312652  1\n",
              "2021-09-28 -0.720589  0.887163  0.859588 -0.636524  2\n",
              "2021-09-29  0.015696 -2.242685  1.150036  0.991946  3\n",
              "2021-09-30  0.953324 -2.021255 -0.334077  0.002118  4\n",
              "2021-10-01  0.405453  0.289092  1.321158 -1.546906  5\n",
              "2021-10-02 -0.202646 -0.655969  0.193421  0.553439  6"
            ]
          },
          "metadata": {},
          "execution_count": 44
        }
      ]
    },
    {
      "cell_type": "code",
      "metadata": {
        "id": "JO26rUNSx5tL",
        "colab": {
          "base_uri": "https://localhost:8080/",
          "height": 237
        },
        "outputId": "ebce505c-1775-4d0d-82da-bd68caf9d0d6"
      },
      "source": [
        "# Setting values by position (index):\n",
        "df.iat[0,1] = 0\n",
        "df"
      ],
      "execution_count": 45,
      "outputs": [
        {
          "output_type": "execute_result",
          "data": {
            "text/html": [
              "<div>\n",
              "<style scoped>\n",
              "    .dataframe tbody tr th:only-of-type {\n",
              "        vertical-align: middle;\n",
              "    }\n",
              "\n",
              "    .dataframe tbody tr th {\n",
              "        vertical-align: top;\n",
              "    }\n",
              "\n",
              "    .dataframe thead th {\n",
              "        text-align: right;\n",
              "    }\n",
              "</style>\n",
              "<table border=\"1\" class=\"dataframe\">\n",
              "  <thead>\n",
              "    <tr style=\"text-align: right;\">\n",
              "      <th></th>\n",
              "      <th>A</th>\n",
              "      <th>B</th>\n",
              "      <th>C</th>\n",
              "      <th>D</th>\n",
              "      <th>F</th>\n",
              "    </tr>\n",
              "  </thead>\n",
              "  <tbody>\n",
              "    <tr>\n",
              "      <th>2021-09-27</th>\n",
              "      <td>0.000000</td>\n",
              "      <td>0.000000</td>\n",
              "      <td>1.432707</td>\n",
              "      <td>-0.312652</td>\n",
              "      <td>1</td>\n",
              "    </tr>\n",
              "    <tr>\n",
              "      <th>2021-09-28</th>\n",
              "      <td>-0.720589</td>\n",
              "      <td>0.887163</td>\n",
              "      <td>0.859588</td>\n",
              "      <td>-0.636524</td>\n",
              "      <td>2</td>\n",
              "    </tr>\n",
              "    <tr>\n",
              "      <th>2021-09-29</th>\n",
              "      <td>0.015696</td>\n",
              "      <td>-2.242685</td>\n",
              "      <td>1.150036</td>\n",
              "      <td>0.991946</td>\n",
              "      <td>3</td>\n",
              "    </tr>\n",
              "    <tr>\n",
              "      <th>2021-09-30</th>\n",
              "      <td>0.953324</td>\n",
              "      <td>-2.021255</td>\n",
              "      <td>-0.334077</td>\n",
              "      <td>0.002118</td>\n",
              "      <td>4</td>\n",
              "    </tr>\n",
              "    <tr>\n",
              "      <th>2021-10-01</th>\n",
              "      <td>0.405453</td>\n",
              "      <td>0.289092</td>\n",
              "      <td>1.321158</td>\n",
              "      <td>-1.546906</td>\n",
              "      <td>5</td>\n",
              "    </tr>\n",
              "    <tr>\n",
              "      <th>2021-10-02</th>\n",
              "      <td>-0.202646</td>\n",
              "      <td>-0.655969</td>\n",
              "      <td>0.193421</td>\n",
              "      <td>0.553439</td>\n",
              "      <td>6</td>\n",
              "    </tr>\n",
              "  </tbody>\n",
              "</table>\n",
              "</div>"
            ],
            "text/plain": [
              "                   A         B         C         D  F\n",
              "2021-09-27  0.000000  0.000000  1.432707 -0.312652  1\n",
              "2021-09-28 -0.720589  0.887163  0.859588 -0.636524  2\n",
              "2021-09-29  0.015696 -2.242685  1.150036  0.991946  3\n",
              "2021-09-30  0.953324 -2.021255 -0.334077  0.002118  4\n",
              "2021-10-01  0.405453  0.289092  1.321158 -1.546906  5\n",
              "2021-10-02 -0.202646 -0.655969  0.193421  0.553439  6"
            ]
          },
          "metadata": {},
          "execution_count": 45
        }
      ]
    },
    {
      "cell_type": "code",
      "metadata": {
        "id": "4i3DL7n54ybq",
        "colab": {
          "base_uri": "https://localhost:8080/"
        },
        "outputId": "e4d5a203-e0b4-476b-8170-fcc638182863"
      },
      "source": [
        "# Important properties of DataFrame\n",
        "len(df), df.shape, df.size"
      ],
      "execution_count": 46,
      "outputs": [
        {
          "output_type": "execute_result",
          "data": {
            "text/plain": [
              "(6, (6, 5), 30)"
            ]
          },
          "metadata": {},
          "execution_count": 46
        }
      ]
    },
    {
      "cell_type": "code",
      "metadata": {
        "id": "FzBfedfWx5tO",
        "colab": {
          "base_uri": "https://localhost:8080/",
          "height": 237
        },
        "outputId": "3fd46409-1398-44c7-a9dc-dc6d715de00e"
      },
      "source": [
        "# Setting by assigning with a NumPy array:\n",
        "df.loc[:,'D'] = np.array([5] * len(df))\n",
        "df"
      ],
      "execution_count": 47,
      "outputs": [
        {
          "output_type": "execute_result",
          "data": {
            "text/html": [
              "<div>\n",
              "<style scoped>\n",
              "    .dataframe tbody tr th:only-of-type {\n",
              "        vertical-align: middle;\n",
              "    }\n",
              "\n",
              "    .dataframe tbody tr th {\n",
              "        vertical-align: top;\n",
              "    }\n",
              "\n",
              "    .dataframe thead th {\n",
              "        text-align: right;\n",
              "    }\n",
              "</style>\n",
              "<table border=\"1\" class=\"dataframe\">\n",
              "  <thead>\n",
              "    <tr style=\"text-align: right;\">\n",
              "      <th></th>\n",
              "      <th>A</th>\n",
              "      <th>B</th>\n",
              "      <th>C</th>\n",
              "      <th>D</th>\n",
              "      <th>F</th>\n",
              "    </tr>\n",
              "  </thead>\n",
              "  <tbody>\n",
              "    <tr>\n",
              "      <th>2021-09-27</th>\n",
              "      <td>0.000000</td>\n",
              "      <td>0.000000</td>\n",
              "      <td>1.432707</td>\n",
              "      <td>5</td>\n",
              "      <td>1</td>\n",
              "    </tr>\n",
              "    <tr>\n",
              "      <th>2021-09-28</th>\n",
              "      <td>-0.720589</td>\n",
              "      <td>0.887163</td>\n",
              "      <td>0.859588</td>\n",
              "      <td>5</td>\n",
              "      <td>2</td>\n",
              "    </tr>\n",
              "    <tr>\n",
              "      <th>2021-09-29</th>\n",
              "      <td>0.015696</td>\n",
              "      <td>-2.242685</td>\n",
              "      <td>1.150036</td>\n",
              "      <td>5</td>\n",
              "      <td>3</td>\n",
              "    </tr>\n",
              "    <tr>\n",
              "      <th>2021-09-30</th>\n",
              "      <td>0.953324</td>\n",
              "      <td>-2.021255</td>\n",
              "      <td>-0.334077</td>\n",
              "      <td>5</td>\n",
              "      <td>4</td>\n",
              "    </tr>\n",
              "    <tr>\n",
              "      <th>2021-10-01</th>\n",
              "      <td>0.405453</td>\n",
              "      <td>0.289092</td>\n",
              "      <td>1.321158</td>\n",
              "      <td>5</td>\n",
              "      <td>5</td>\n",
              "    </tr>\n",
              "    <tr>\n",
              "      <th>2021-10-02</th>\n",
              "      <td>-0.202646</td>\n",
              "      <td>-0.655969</td>\n",
              "      <td>0.193421</td>\n",
              "      <td>5</td>\n",
              "      <td>6</td>\n",
              "    </tr>\n",
              "  </tbody>\n",
              "</table>\n",
              "</div>"
            ],
            "text/plain": [
              "                   A         B         C  D  F\n",
              "2021-09-27  0.000000  0.000000  1.432707  5  1\n",
              "2021-09-28 -0.720589  0.887163  0.859588  5  2\n",
              "2021-09-29  0.015696 -2.242685  1.150036  5  3\n",
              "2021-09-30  0.953324 -2.021255 -0.334077  5  4\n",
              "2021-10-01  0.405453  0.289092  1.321158  5  5\n",
              "2021-10-02 -0.202646 -0.655969  0.193421  5  6"
            ]
          },
          "metadata": {},
          "execution_count": 47
        }
      ]
    },
    {
      "cell_type": "markdown",
      "metadata": {
        "id": "mlglm6p4x5tR"
      },
      "source": [
        "### Missing data 처리\n",
        "> pandas primarily uses the value **np.nan** to represent missing data. \n",
        "- dropna()\n",
        "- fillna()\n",
        "- isna()"
      ]
    },
    {
      "cell_type": "code",
      "metadata": {
        "id": "9VkA1SVLUPkt",
        "colab": {
          "base_uri": "https://localhost:8080/",
          "height": 237
        },
        "outputId": "0bd6fb6c-cbac-4dfe-9094-66cb30ae04fe"
      },
      "source": [
        "df"
      ],
      "execution_count": 48,
      "outputs": [
        {
          "output_type": "execute_result",
          "data": {
            "text/html": [
              "<div>\n",
              "<style scoped>\n",
              "    .dataframe tbody tr th:only-of-type {\n",
              "        vertical-align: middle;\n",
              "    }\n",
              "\n",
              "    .dataframe tbody tr th {\n",
              "        vertical-align: top;\n",
              "    }\n",
              "\n",
              "    .dataframe thead th {\n",
              "        text-align: right;\n",
              "    }\n",
              "</style>\n",
              "<table border=\"1\" class=\"dataframe\">\n",
              "  <thead>\n",
              "    <tr style=\"text-align: right;\">\n",
              "      <th></th>\n",
              "      <th>A</th>\n",
              "      <th>B</th>\n",
              "      <th>C</th>\n",
              "      <th>D</th>\n",
              "      <th>F</th>\n",
              "    </tr>\n",
              "  </thead>\n",
              "  <tbody>\n",
              "    <tr>\n",
              "      <th>2021-09-27</th>\n",
              "      <td>0.000000</td>\n",
              "      <td>0.000000</td>\n",
              "      <td>1.432707</td>\n",
              "      <td>5</td>\n",
              "      <td>1</td>\n",
              "    </tr>\n",
              "    <tr>\n",
              "      <th>2021-09-28</th>\n",
              "      <td>-0.720589</td>\n",
              "      <td>0.887163</td>\n",
              "      <td>0.859588</td>\n",
              "      <td>5</td>\n",
              "      <td>2</td>\n",
              "    </tr>\n",
              "    <tr>\n",
              "      <th>2021-09-29</th>\n",
              "      <td>0.015696</td>\n",
              "      <td>-2.242685</td>\n",
              "      <td>1.150036</td>\n",
              "      <td>5</td>\n",
              "      <td>3</td>\n",
              "    </tr>\n",
              "    <tr>\n",
              "      <th>2021-09-30</th>\n",
              "      <td>0.953324</td>\n",
              "      <td>-2.021255</td>\n",
              "      <td>-0.334077</td>\n",
              "      <td>5</td>\n",
              "      <td>4</td>\n",
              "    </tr>\n",
              "    <tr>\n",
              "      <th>2021-10-01</th>\n",
              "      <td>0.405453</td>\n",
              "      <td>0.289092</td>\n",
              "      <td>1.321158</td>\n",
              "      <td>5</td>\n",
              "      <td>5</td>\n",
              "    </tr>\n",
              "    <tr>\n",
              "      <th>2021-10-02</th>\n",
              "      <td>-0.202646</td>\n",
              "      <td>-0.655969</td>\n",
              "      <td>0.193421</td>\n",
              "      <td>5</td>\n",
              "      <td>6</td>\n",
              "    </tr>\n",
              "  </tbody>\n",
              "</table>\n",
              "</div>"
            ],
            "text/plain": [
              "                   A         B         C  D  F\n",
              "2021-09-27  0.000000  0.000000  1.432707  5  1\n",
              "2021-09-28 -0.720589  0.887163  0.859588  5  2\n",
              "2021-09-29  0.015696 -2.242685  1.150036  5  3\n",
              "2021-09-30  0.953324 -2.021255 -0.334077  5  4\n",
              "2021-10-01  0.405453  0.289092  1.321158  5  5\n",
              "2021-10-02 -0.202646 -0.655969  0.193421  5  6"
            ]
          },
          "metadata": {},
          "execution_count": 48
        }
      ]
    },
    {
      "cell_type": "code",
      "metadata": {
        "id": "iF1aCeMDUXtX",
        "colab": {
          "base_uri": "https://localhost:8080/"
        },
        "outputId": "9a2619c3-2db7-41cf-cdf8-8abb86a82106"
      },
      "source": [
        "df.columns"
      ],
      "execution_count": 49,
      "outputs": [
        {
          "output_type": "execute_result",
          "data": {
            "text/plain": [
              "Index(['A', 'B', 'C', 'D', 'F'], dtype='object')"
            ]
          },
          "metadata": {},
          "execution_count": 49
        }
      ]
    },
    {
      "cell_type": "code",
      "metadata": {
        "id": "a__I8mi7x5tT",
        "colab": {
          "base_uri": "https://localhost:8080/",
          "height": 174
        },
        "outputId": "2a282d6f-f3f0-4cc0-d0d2-80c225c8e177"
      },
      "source": [
        "# Reindexing allows you to change/add/delete the index on a specified axis.\n",
        "df1 = df.reindex(index=dates[0:4], columns=list(df.columns) + ['E'])\n",
        "df1"
      ],
      "execution_count": 50,
      "outputs": [
        {
          "output_type": "execute_result",
          "data": {
            "text/html": [
              "<div>\n",
              "<style scoped>\n",
              "    .dataframe tbody tr th:only-of-type {\n",
              "        vertical-align: middle;\n",
              "    }\n",
              "\n",
              "    .dataframe tbody tr th {\n",
              "        vertical-align: top;\n",
              "    }\n",
              "\n",
              "    .dataframe thead th {\n",
              "        text-align: right;\n",
              "    }\n",
              "</style>\n",
              "<table border=\"1\" class=\"dataframe\">\n",
              "  <thead>\n",
              "    <tr style=\"text-align: right;\">\n",
              "      <th></th>\n",
              "      <th>A</th>\n",
              "      <th>B</th>\n",
              "      <th>C</th>\n",
              "      <th>D</th>\n",
              "      <th>F</th>\n",
              "      <th>E</th>\n",
              "    </tr>\n",
              "  </thead>\n",
              "  <tbody>\n",
              "    <tr>\n",
              "      <th>2021-09-27</th>\n",
              "      <td>0.000000</td>\n",
              "      <td>0.000000</td>\n",
              "      <td>1.432707</td>\n",
              "      <td>5</td>\n",
              "      <td>1</td>\n",
              "      <td>NaN</td>\n",
              "    </tr>\n",
              "    <tr>\n",
              "      <th>2021-09-28</th>\n",
              "      <td>-0.720589</td>\n",
              "      <td>0.887163</td>\n",
              "      <td>0.859588</td>\n",
              "      <td>5</td>\n",
              "      <td>2</td>\n",
              "      <td>NaN</td>\n",
              "    </tr>\n",
              "    <tr>\n",
              "      <th>2021-09-29</th>\n",
              "      <td>0.015696</td>\n",
              "      <td>-2.242685</td>\n",
              "      <td>1.150036</td>\n",
              "      <td>5</td>\n",
              "      <td>3</td>\n",
              "      <td>NaN</td>\n",
              "    </tr>\n",
              "    <tr>\n",
              "      <th>2021-09-30</th>\n",
              "      <td>0.953324</td>\n",
              "      <td>-2.021255</td>\n",
              "      <td>-0.334077</td>\n",
              "      <td>5</td>\n",
              "      <td>4</td>\n",
              "      <td>NaN</td>\n",
              "    </tr>\n",
              "  </tbody>\n",
              "</table>\n",
              "</div>"
            ],
            "text/plain": [
              "                   A         B         C  D  F   E\n",
              "2021-09-27  0.000000  0.000000  1.432707  5  1 NaN\n",
              "2021-09-28 -0.720589  0.887163  0.859588  5  2 NaN\n",
              "2021-09-29  0.015696 -2.242685  1.150036  5  3 NaN\n",
              "2021-09-30  0.953324 -2.021255 -0.334077  5  4 NaN"
            ]
          },
          "metadata": {},
          "execution_count": 50
        }
      ]
    },
    {
      "cell_type": "code",
      "metadata": {
        "id": "ndYxap_zx5tY",
        "colab": {
          "base_uri": "https://localhost:8080/",
          "height": 174
        },
        "outputId": "db0d3322-b400-48f6-a141-cae58a3ff3ab"
      },
      "source": [
        "df1.loc[dates[0]:dates[1],'E'] = 1\n",
        "df1"
      ],
      "execution_count": 51,
      "outputs": [
        {
          "output_type": "execute_result",
          "data": {
            "text/html": [
              "<div>\n",
              "<style scoped>\n",
              "    .dataframe tbody tr th:only-of-type {\n",
              "        vertical-align: middle;\n",
              "    }\n",
              "\n",
              "    .dataframe tbody tr th {\n",
              "        vertical-align: top;\n",
              "    }\n",
              "\n",
              "    .dataframe thead th {\n",
              "        text-align: right;\n",
              "    }\n",
              "</style>\n",
              "<table border=\"1\" class=\"dataframe\">\n",
              "  <thead>\n",
              "    <tr style=\"text-align: right;\">\n",
              "      <th></th>\n",
              "      <th>A</th>\n",
              "      <th>B</th>\n",
              "      <th>C</th>\n",
              "      <th>D</th>\n",
              "      <th>F</th>\n",
              "      <th>E</th>\n",
              "    </tr>\n",
              "  </thead>\n",
              "  <tbody>\n",
              "    <tr>\n",
              "      <th>2021-09-27</th>\n",
              "      <td>0.000000</td>\n",
              "      <td>0.000000</td>\n",
              "      <td>1.432707</td>\n",
              "      <td>5</td>\n",
              "      <td>1</td>\n",
              "      <td>1.0</td>\n",
              "    </tr>\n",
              "    <tr>\n",
              "      <th>2021-09-28</th>\n",
              "      <td>-0.720589</td>\n",
              "      <td>0.887163</td>\n",
              "      <td>0.859588</td>\n",
              "      <td>5</td>\n",
              "      <td>2</td>\n",
              "      <td>1.0</td>\n",
              "    </tr>\n",
              "    <tr>\n",
              "      <th>2021-09-29</th>\n",
              "      <td>0.015696</td>\n",
              "      <td>-2.242685</td>\n",
              "      <td>1.150036</td>\n",
              "      <td>5</td>\n",
              "      <td>3</td>\n",
              "      <td>NaN</td>\n",
              "    </tr>\n",
              "    <tr>\n",
              "      <th>2021-09-30</th>\n",
              "      <td>0.953324</td>\n",
              "      <td>-2.021255</td>\n",
              "      <td>-0.334077</td>\n",
              "      <td>5</td>\n",
              "      <td>4</td>\n",
              "      <td>NaN</td>\n",
              "    </tr>\n",
              "  </tbody>\n",
              "</table>\n",
              "</div>"
            ],
            "text/plain": [
              "                   A         B         C  D  F    E\n",
              "2021-09-27  0.000000  0.000000  1.432707  5  1  1.0\n",
              "2021-09-28 -0.720589  0.887163  0.859588  5  2  1.0\n",
              "2021-09-29  0.015696 -2.242685  1.150036  5  3  NaN\n",
              "2021-09-30  0.953324 -2.021255 -0.334077  5  4  NaN"
            ]
          },
          "metadata": {},
          "execution_count": 51
        }
      ]
    },
    {
      "cell_type": "code",
      "metadata": {
        "id": "jgEz6fkXh1mi",
        "colab": {
          "base_uri": "https://localhost:8080/"
        },
        "outputId": "cc442530-0a67-4c4b-8a78-93b01b25a185"
      },
      "source": [
        "df1.info()"
      ],
      "execution_count": 52,
      "outputs": [
        {
          "output_type": "stream",
          "name": "stdout",
          "text": [
            "<class 'pandas.core.frame.DataFrame'>\n",
            "DatetimeIndex: 4 entries, 2021-09-27 to 2021-09-30\n",
            "Freq: D\n",
            "Data columns (total 6 columns):\n",
            " #   Column  Non-Null Count  Dtype  \n",
            "---  ------  --------------  -----  \n",
            " 0   A       4 non-null      float64\n",
            " 1   B       4 non-null      float64\n",
            " 2   C       4 non-null      float64\n",
            " 3   D       4 non-null      int64  \n",
            " 4   F       4 non-null      int64  \n",
            " 5   E       2 non-null      float64\n",
            "dtypes: float64(4), int64(2)\n",
            "memory usage: 384.0 bytes\n"
          ]
        }
      ]
    },
    {
      "cell_type": "markdown",
      "metadata": {
        "id": "mNniCmjuiE7M"
      },
      "source": [
        "### Check 0 or NaN in dataframe\n",
        "- df.isnull().sum()\n",
        "- df.isna().sum()"
      ]
    },
    {
      "cell_type": "code",
      "metadata": {
        "id": "crI6XYQ0iggH",
        "colab": {
          "base_uri": "https://localhost:8080/"
        },
        "outputId": "9e40c9c3-aa82-44c7-8c92-2eb63d0ab992"
      },
      "source": [
        "df1.isnull().sum()"
      ],
      "execution_count": 53,
      "outputs": [
        {
          "output_type": "execute_result",
          "data": {
            "text/plain": [
              "A    0\n",
              "B    0\n",
              "C    0\n",
              "D    0\n",
              "F    0\n",
              "E    2\n",
              "dtype: int64"
            ]
          },
          "metadata": {},
          "execution_count": 53
        }
      ]
    },
    {
      "cell_type": "code",
      "metadata": {
        "id": "ekHDpHwdicbj",
        "colab": {
          "base_uri": "https://localhost:8080/"
        },
        "outputId": "533b059e-2595-4e30-f40f-22a580b9675a"
      },
      "source": [
        "df1.isna().sum()"
      ],
      "execution_count": 54,
      "outputs": [
        {
          "output_type": "execute_result",
          "data": {
            "text/plain": [
              "A    0\n",
              "B    0\n",
              "C    0\n",
              "D    0\n",
              "F    0\n",
              "E    2\n",
              "dtype: int64"
            ]
          },
          "metadata": {},
          "execution_count": 54
        }
      ]
    },
    {
      "cell_type": "markdown",
      "metadata": {
        "id": "ALNJZqY3Unph"
      },
      "source": [
        "## Drop missing data from DataFrame"
      ]
    },
    {
      "cell_type": "code",
      "metadata": {
        "id": "AutSyiPmx5tc",
        "colab": {
          "base_uri": "https://localhost:8080/",
          "height": 112
        },
        "outputId": "83e58b0f-ad8e-441f-97d2-bec0dd76b213"
      },
      "source": [
        "# To drop any rows that have missing data.\n",
        "df1.dropna(how='any')"
      ],
      "execution_count": 55,
      "outputs": [
        {
          "output_type": "execute_result",
          "data": {
            "text/html": [
              "<div>\n",
              "<style scoped>\n",
              "    .dataframe tbody tr th:only-of-type {\n",
              "        vertical-align: middle;\n",
              "    }\n",
              "\n",
              "    .dataframe tbody tr th {\n",
              "        vertical-align: top;\n",
              "    }\n",
              "\n",
              "    .dataframe thead th {\n",
              "        text-align: right;\n",
              "    }\n",
              "</style>\n",
              "<table border=\"1\" class=\"dataframe\">\n",
              "  <thead>\n",
              "    <tr style=\"text-align: right;\">\n",
              "      <th></th>\n",
              "      <th>A</th>\n",
              "      <th>B</th>\n",
              "      <th>C</th>\n",
              "      <th>D</th>\n",
              "      <th>F</th>\n",
              "      <th>E</th>\n",
              "    </tr>\n",
              "  </thead>\n",
              "  <tbody>\n",
              "    <tr>\n",
              "      <th>2021-09-27</th>\n",
              "      <td>0.000000</td>\n",
              "      <td>0.000000</td>\n",
              "      <td>1.432707</td>\n",
              "      <td>5</td>\n",
              "      <td>1</td>\n",
              "      <td>1.0</td>\n",
              "    </tr>\n",
              "    <tr>\n",
              "      <th>2021-09-28</th>\n",
              "      <td>-0.720589</td>\n",
              "      <td>0.887163</td>\n",
              "      <td>0.859588</td>\n",
              "      <td>5</td>\n",
              "      <td>2</td>\n",
              "      <td>1.0</td>\n",
              "    </tr>\n",
              "  </tbody>\n",
              "</table>\n",
              "</div>"
            ],
            "text/plain": [
              "                   A         B         C  D  F    E\n",
              "2021-09-27  0.000000  0.000000  1.432707  5  1  1.0\n",
              "2021-09-28 -0.720589  0.887163  0.859588  5  2  1.0"
            ]
          },
          "metadata": {},
          "execution_count": 55
        }
      ]
    },
    {
      "cell_type": "code",
      "metadata": {
        "id": "dNKFCrRMx5tj",
        "colab": {
          "base_uri": "https://localhost:8080/",
          "height": 174
        },
        "outputId": "75fa6de7-ecda-4058-d395-267243fbd759"
      },
      "source": [
        "# Filling missing data.\n",
        "df1.fillna(value=5)"
      ],
      "execution_count": 56,
      "outputs": [
        {
          "output_type": "execute_result",
          "data": {
            "text/html": [
              "<div>\n",
              "<style scoped>\n",
              "    .dataframe tbody tr th:only-of-type {\n",
              "        vertical-align: middle;\n",
              "    }\n",
              "\n",
              "    .dataframe tbody tr th {\n",
              "        vertical-align: top;\n",
              "    }\n",
              "\n",
              "    .dataframe thead th {\n",
              "        text-align: right;\n",
              "    }\n",
              "</style>\n",
              "<table border=\"1\" class=\"dataframe\">\n",
              "  <thead>\n",
              "    <tr style=\"text-align: right;\">\n",
              "      <th></th>\n",
              "      <th>A</th>\n",
              "      <th>B</th>\n",
              "      <th>C</th>\n",
              "      <th>D</th>\n",
              "      <th>F</th>\n",
              "      <th>E</th>\n",
              "    </tr>\n",
              "  </thead>\n",
              "  <tbody>\n",
              "    <tr>\n",
              "      <th>2021-09-27</th>\n",
              "      <td>0.000000</td>\n",
              "      <td>0.000000</td>\n",
              "      <td>1.432707</td>\n",
              "      <td>5</td>\n",
              "      <td>1</td>\n",
              "      <td>1.0</td>\n",
              "    </tr>\n",
              "    <tr>\n",
              "      <th>2021-09-28</th>\n",
              "      <td>-0.720589</td>\n",
              "      <td>0.887163</td>\n",
              "      <td>0.859588</td>\n",
              "      <td>5</td>\n",
              "      <td>2</td>\n",
              "      <td>1.0</td>\n",
              "    </tr>\n",
              "    <tr>\n",
              "      <th>2021-09-29</th>\n",
              "      <td>0.015696</td>\n",
              "      <td>-2.242685</td>\n",
              "      <td>1.150036</td>\n",
              "      <td>5</td>\n",
              "      <td>3</td>\n",
              "      <td>5.0</td>\n",
              "    </tr>\n",
              "    <tr>\n",
              "      <th>2021-09-30</th>\n",
              "      <td>0.953324</td>\n",
              "      <td>-2.021255</td>\n",
              "      <td>-0.334077</td>\n",
              "      <td>5</td>\n",
              "      <td>4</td>\n",
              "      <td>5.0</td>\n",
              "    </tr>\n",
              "  </tbody>\n",
              "</table>\n",
              "</div>"
            ],
            "text/plain": [
              "                   A         B         C  D  F    E\n",
              "2021-09-27  0.000000  0.000000  1.432707  5  1  1.0\n",
              "2021-09-28 -0.720589  0.887163  0.859588  5  2  1.0\n",
              "2021-09-29  0.015696 -2.242685  1.150036  5  3  5.0\n",
              "2021-09-30  0.953324 -2.021255 -0.334077  5  4  5.0"
            ]
          },
          "metadata": {},
          "execution_count": 56
        }
      ]
    },
    {
      "cell_type": "code",
      "metadata": {
        "id": "tUNtkHnex5tn",
        "colab": {
          "base_uri": "https://localhost:8080/",
          "height": 174
        },
        "outputId": "9437258c-6737-4a65-853f-f0551849f6aa"
      },
      "source": [
        "# Get the boolean mask where values are nan.\n",
        "pd.isna(df1)"
      ],
      "execution_count": 57,
      "outputs": [
        {
          "output_type": "execute_result",
          "data": {
            "text/html": [
              "<div>\n",
              "<style scoped>\n",
              "    .dataframe tbody tr th:only-of-type {\n",
              "        vertical-align: middle;\n",
              "    }\n",
              "\n",
              "    .dataframe tbody tr th {\n",
              "        vertical-align: top;\n",
              "    }\n",
              "\n",
              "    .dataframe thead th {\n",
              "        text-align: right;\n",
              "    }\n",
              "</style>\n",
              "<table border=\"1\" class=\"dataframe\">\n",
              "  <thead>\n",
              "    <tr style=\"text-align: right;\">\n",
              "      <th></th>\n",
              "      <th>A</th>\n",
              "      <th>B</th>\n",
              "      <th>C</th>\n",
              "      <th>D</th>\n",
              "      <th>F</th>\n",
              "      <th>E</th>\n",
              "    </tr>\n",
              "  </thead>\n",
              "  <tbody>\n",
              "    <tr>\n",
              "      <th>2021-09-27</th>\n",
              "      <td>False</td>\n",
              "      <td>False</td>\n",
              "      <td>False</td>\n",
              "      <td>False</td>\n",
              "      <td>False</td>\n",
              "      <td>False</td>\n",
              "    </tr>\n",
              "    <tr>\n",
              "      <th>2021-09-28</th>\n",
              "      <td>False</td>\n",
              "      <td>False</td>\n",
              "      <td>False</td>\n",
              "      <td>False</td>\n",
              "      <td>False</td>\n",
              "      <td>False</td>\n",
              "    </tr>\n",
              "    <tr>\n",
              "      <th>2021-09-29</th>\n",
              "      <td>False</td>\n",
              "      <td>False</td>\n",
              "      <td>False</td>\n",
              "      <td>False</td>\n",
              "      <td>False</td>\n",
              "      <td>True</td>\n",
              "    </tr>\n",
              "    <tr>\n",
              "      <th>2021-09-30</th>\n",
              "      <td>False</td>\n",
              "      <td>False</td>\n",
              "      <td>False</td>\n",
              "      <td>False</td>\n",
              "      <td>False</td>\n",
              "      <td>True</td>\n",
              "    </tr>\n",
              "  </tbody>\n",
              "</table>\n",
              "</div>"
            ],
            "text/plain": [
              "                A      B      C      D      F      E\n",
              "2021-09-27  False  False  False  False  False  False\n",
              "2021-09-28  False  False  False  False  False  False\n",
              "2021-09-29  False  False  False  False  False   True\n",
              "2021-09-30  False  False  False  False  False   True"
            ]
          },
          "metadata": {},
          "execution_count": 57
        }
      ]
    },
    {
      "cell_type": "markdown",
      "metadata": {
        "id": "w2Unp3z_5hah"
      },
      "source": [
        "\n",
        "\n",
        "---\n",
        "\n"
      ]
    },
    {
      "cell_type": "markdown",
      "metadata": {
        "id": "j66hx2P0x5ts"
      },
      "source": [
        "### 데이터 통계 (Statistics)"
      ]
    },
    {
      "cell_type": "code",
      "metadata": {
        "id": "RmrvQ0VPx5tu",
        "colab": {
          "base_uri": "https://localhost:8080/",
          "height": 237
        },
        "outputId": "c978bee1-99dd-4e2f-e2aa-183751009d30"
      },
      "source": [
        "df"
      ],
      "execution_count": 58,
      "outputs": [
        {
          "output_type": "execute_result",
          "data": {
            "text/html": [
              "<div>\n",
              "<style scoped>\n",
              "    .dataframe tbody tr th:only-of-type {\n",
              "        vertical-align: middle;\n",
              "    }\n",
              "\n",
              "    .dataframe tbody tr th {\n",
              "        vertical-align: top;\n",
              "    }\n",
              "\n",
              "    .dataframe thead th {\n",
              "        text-align: right;\n",
              "    }\n",
              "</style>\n",
              "<table border=\"1\" class=\"dataframe\">\n",
              "  <thead>\n",
              "    <tr style=\"text-align: right;\">\n",
              "      <th></th>\n",
              "      <th>A</th>\n",
              "      <th>B</th>\n",
              "      <th>C</th>\n",
              "      <th>D</th>\n",
              "      <th>F</th>\n",
              "    </tr>\n",
              "  </thead>\n",
              "  <tbody>\n",
              "    <tr>\n",
              "      <th>2021-09-27</th>\n",
              "      <td>0.000000</td>\n",
              "      <td>0.000000</td>\n",
              "      <td>1.432707</td>\n",
              "      <td>5</td>\n",
              "      <td>1</td>\n",
              "    </tr>\n",
              "    <tr>\n",
              "      <th>2021-09-28</th>\n",
              "      <td>-0.720589</td>\n",
              "      <td>0.887163</td>\n",
              "      <td>0.859588</td>\n",
              "      <td>5</td>\n",
              "      <td>2</td>\n",
              "    </tr>\n",
              "    <tr>\n",
              "      <th>2021-09-29</th>\n",
              "      <td>0.015696</td>\n",
              "      <td>-2.242685</td>\n",
              "      <td>1.150036</td>\n",
              "      <td>5</td>\n",
              "      <td>3</td>\n",
              "    </tr>\n",
              "    <tr>\n",
              "      <th>2021-09-30</th>\n",
              "      <td>0.953324</td>\n",
              "      <td>-2.021255</td>\n",
              "      <td>-0.334077</td>\n",
              "      <td>5</td>\n",
              "      <td>4</td>\n",
              "    </tr>\n",
              "    <tr>\n",
              "      <th>2021-10-01</th>\n",
              "      <td>0.405453</td>\n",
              "      <td>0.289092</td>\n",
              "      <td>1.321158</td>\n",
              "      <td>5</td>\n",
              "      <td>5</td>\n",
              "    </tr>\n",
              "    <tr>\n",
              "      <th>2021-10-02</th>\n",
              "      <td>-0.202646</td>\n",
              "      <td>-0.655969</td>\n",
              "      <td>0.193421</td>\n",
              "      <td>5</td>\n",
              "      <td>6</td>\n",
              "    </tr>\n",
              "  </tbody>\n",
              "</table>\n",
              "</div>"
            ],
            "text/plain": [
              "                   A         B         C  D  F\n",
              "2021-09-27  0.000000  0.000000  1.432707  5  1\n",
              "2021-09-28 -0.720589  0.887163  0.859588  5  2\n",
              "2021-09-29  0.015696 -2.242685  1.150036  5  3\n",
              "2021-09-30  0.953324 -2.021255 -0.334077  5  4\n",
              "2021-10-01  0.405453  0.289092  1.321158  5  5\n",
              "2021-10-02 -0.202646 -0.655969  0.193421  5  6"
            ]
          },
          "metadata": {},
          "execution_count": 58
        }
      ]
    },
    {
      "cell_type": "code",
      "metadata": {
        "id": "417gj6C9x5t3",
        "colab": {
          "base_uri": "https://localhost:8080/"
        },
        "outputId": "4a999379-9fa2-4a3f-a7f0-4e61214161af"
      },
      "source": [
        "df.mean()"
      ],
      "execution_count": 59,
      "outputs": [
        {
          "output_type": "execute_result",
          "data": {
            "text/plain": [
              "A    0.075206\n",
              "B   -0.623942\n",
              "C    0.770472\n",
              "D    5.000000\n",
              "F    3.500000\n",
              "dtype: float64"
            ]
          },
          "metadata": {},
          "execution_count": 59
        }
      ]
    },
    {
      "cell_type": "code",
      "metadata": {
        "id": "6aFj7FIix5t8",
        "colab": {
          "base_uri": "https://localhost:8080/"
        },
        "outputId": "ec83b33f-ae1e-4483-f1e0-990c6038da44"
      },
      "source": [
        "df.mean(0)"
      ],
      "execution_count": 60,
      "outputs": [
        {
          "output_type": "execute_result",
          "data": {
            "text/plain": [
              "A    0.075206\n",
              "B   -0.623942\n",
              "C    0.770472\n",
              "D    5.000000\n",
              "F    3.500000\n",
              "dtype: float64"
            ]
          },
          "metadata": {},
          "execution_count": 60
        }
      ]
    },
    {
      "cell_type": "code",
      "metadata": {
        "id": "MUt62dGHx5uC",
        "colab": {
          "base_uri": "https://localhost:8080/"
        },
        "outputId": "8448d700-3c2e-4e49-9d15-ac28680c4a75"
      },
      "source": [
        "df.mean(1)"
      ],
      "execution_count": 61,
      "outputs": [
        {
          "output_type": "execute_result",
          "data": {
            "text/plain": [
              "2021-09-27    1.486541\n",
              "2021-09-28    1.605233\n",
              "2021-09-29    1.384609\n",
              "2021-09-30    1.519598\n",
              "2021-10-01    2.403141\n",
              "2021-10-02    2.066961\n",
              "Freq: D, dtype: float64"
            ]
          },
          "metadata": {},
          "execution_count": 61
        }
      ]
    },
    {
      "cell_type": "code",
      "metadata": {
        "id": "vS3NS0Ln6WCF",
        "colab": {
          "base_uri": "https://localhost:8080/"
        },
        "outputId": "b478600b-9d2b-4945-c552-30cd0267b35a"
      },
      "source": [
        "df.std(0) #, df.std(1)"
      ],
      "execution_count": 62,
      "outputs": [
        {
          "output_type": "execute_result",
          "data": {
            "text/plain": [
              "A    0.565658\n",
              "B    1.271236\n",
              "C    0.699548\n",
              "D    0.000000\n",
              "F    1.870829\n",
              "dtype: float64"
            ]
          },
          "metadata": {},
          "execution_count": 62
        }
      ]
    },
    {
      "cell_type": "markdown",
      "metadata": {
        "id": "vaKGa-Yx6cvg"
      },
      "source": [
        "#### [DIY: 도전] 데이터프레임 df의 평균(mean(0))과 표준편차를 이용한 그래프\n",
        "- 평균에 대한 꺽은선그래프\n",
        "- 평균과 표준편차를 이용한 막대그래프\n",
        "> x-축은 A,B,C,D,E"
      ]
    },
    {
      "cell_type": "code",
      "metadata": {
        "id": "q6q2mxK5AdiC"
      },
      "source": [
        "import numpy as np\n",
        "import matplotlib.pyplot as plt\n",
        "# 노트북 셀 내에 그림 출력 (Jupyter notebook or lab)\n",
        "# %matplotlib inline"
      ],
      "execution_count": 63,
      "outputs": []
    },
    {
      "cell_type": "code",
      "metadata": {
        "id": "tAzAyew9_8zQ",
        "colab": {
          "base_uri": "https://localhost:8080/",
          "height": 265
        },
        "outputId": "b0e278f0-68b5-4283-f6ee-b0f7e6681ff0"
      },
      "source": [
        "# 막대그래프(bar graph)를 그린다.\n",
        "means = [1, 2, 3]\n",
        "stddevs = [0.2, 0.4, 0.5]\n",
        "bar_labels = ['bar 1', 'bar 2', 'bar 3']\n",
        "\n",
        "# plot bars\n",
        "x_pos = list(range(1,len(bar_labels)+1))\n",
        "plt.bar(x_pos, means, yerr=stddevs)\n",
        "\n",
        "plt.show()"
      ],
      "execution_count": 64,
      "outputs": [
        {
          "output_type": "display_data",
          "data": {
            "image/png": "[encoded data removed]",
            "text/plain": [
              "<Figure size 432x288 with 1 Axes>"
            ]
          },
          "metadata": {
            "needs_background": "light"
          }
        }
      ]
    },
    {
      "cell_type": "code",
      "metadata": {
        "id": "epE56yO5Apfp",
        "colab": {
          "base_uri": "https://localhost:8080/",
          "height": 283
        },
        "outputId": "d37b9f80-1e04-4b3e-cd6a-4fdb50c2960b"
      },
      "source": [
        "plt.plot(df.mean(0), '-o', ms=8)"
      ],
      "execution_count": 65,
      "outputs": [
        {
          "output_type": "execute_result",
          "data": {
            "text/plain": [
              "[<matplotlib.lines.Line2D at 0x7fb1ff2e8f90>]"
            ]
          },
          "metadata": {},
          "execution_count": 65
        },
        {
          "output_type": "display_data",
          "data": {
            "image/png": "[encoded data removed]",
            "text/plain": [
              "<Figure size 432x288 with 1 Axes>"
            ]
          },
          "metadata": {
            "needs_background": "light"
          }
        }
      ]
    },
    {
      "cell_type": "code",
      "metadata": {
        "id": "A2YtMydfBFUV",
        "colab": {
          "base_uri": "https://localhost:8080/",
          "height": 340
        },
        "outputId": "9b90b266-7edd-4a78-bcf0-94df200f10dc"
      },
      "source": [
        "# df의 평균(mean(0))과 표준편차를 이용한 막대그래프\n",
        "bar_labels = df.columns\n",
        "# plot bars\n",
        "plt.bar(bar_labels, df.mean(0), yerr=df.std(0), color='rgbcy')"
      ],
      "execution_count": 66,
      "outputs": [
        {
          "output_type": "stream",
          "name": "stderr",
          "text": [
            "/usr/local/lib/python3.7/dist-packages/ipykernel_launcher.py:4: MatplotlibDeprecationWarning: Using a string of single character colors as a color sequence is deprecated. Use an explicit list instead.\n",
            "  after removing the cwd from sys.path.\n"
          ]
        },
        {
          "output_type": "execute_result",
          "data": {
            "text/plain": [
              "<BarContainer object of 5 artists>"
            ]
          },
          "metadata": {},
          "execution_count": 66
        },
        {
          "output_type": "display_data",
          "data": {
            "image/png": "[encoded data removed]",
            "text/plain": [
              "<Figure size 432x288 with 1 Axes>"
            ]
          },
          "metadata": {
            "needs_background": "light"
          }
        }
      ]
    },
    {
      "cell_type": "code",
      "metadata": {
        "id": "3gPno8Shj0YQ",
        "colab": {
          "base_uri": "https://localhost:8080/",
          "height": 237
        },
        "outputId": "6b48dfef-9103-44a7-d142-6c20c9ad8cff"
      },
      "source": [
        "df"
      ],
      "execution_count": 67,
      "outputs": [
        {
          "output_type": "execute_result",
          "data": {
            "text/html": [
              "<div>\n",
              "<style scoped>\n",
              "    .dataframe tbody tr th:only-of-type {\n",
              "        vertical-align: middle;\n",
              "    }\n",
              "\n",
              "    .dataframe tbody tr th {\n",
              "        vertical-align: top;\n",
              "    }\n",
              "\n",
              "    .dataframe thead th {\n",
              "        text-align: right;\n",
              "    }\n",
              "</style>\n",
              "<table border=\"1\" class=\"dataframe\">\n",
              "  <thead>\n",
              "    <tr style=\"text-align: right;\">\n",
              "      <th></th>\n",
              "      <th>A</th>\n",
              "      <th>B</th>\n",
              "      <th>C</th>\n",
              "      <th>D</th>\n",
              "      <th>F</th>\n",
              "    </tr>\n",
              "  </thead>\n",
              "  <tbody>\n",
              "    <tr>\n",
              "      <th>2021-09-27</th>\n",
              "      <td>0.000000</td>\n",
              "      <td>0.000000</td>\n",
              "      <td>1.432707</td>\n",
              "      <td>5</td>\n",
              "      <td>1</td>\n",
              "    </tr>\n",
              "    <tr>\n",
              "      <th>2021-09-28</th>\n",
              "      <td>-0.720589</td>\n",
              "      <td>0.887163</td>\n",
              "      <td>0.859588</td>\n",
              "      <td>5</td>\n",
              "      <td>2</td>\n",
              "    </tr>\n",
              "    <tr>\n",
              "      <th>2021-09-29</th>\n",
              "      <td>0.015696</td>\n",
              "      <td>-2.242685</td>\n",
              "      <td>1.150036</td>\n",
              "      <td>5</td>\n",
              "      <td>3</td>\n",
              "    </tr>\n",
              "    <tr>\n",
              "      <th>2021-09-30</th>\n",
              "      <td>0.953324</td>\n",
              "      <td>-2.021255</td>\n",
              "      <td>-0.334077</td>\n",
              "      <td>5</td>\n",
              "      <td>4</td>\n",
              "    </tr>\n",
              "    <tr>\n",
              "      <th>2021-10-01</th>\n",
              "      <td>0.405453</td>\n",
              "      <td>0.289092</td>\n",
              "      <td>1.321158</td>\n",
              "      <td>5</td>\n",
              "      <td>5</td>\n",
              "    </tr>\n",
              "    <tr>\n",
              "      <th>2021-10-02</th>\n",
              "      <td>-0.202646</td>\n",
              "      <td>-0.655969</td>\n",
              "      <td>0.193421</td>\n",
              "      <td>5</td>\n",
              "      <td>6</td>\n",
              "    </tr>\n",
              "  </tbody>\n",
              "</table>\n",
              "</div>"
            ],
            "text/plain": [
              "                   A         B         C  D  F\n",
              "2021-09-27  0.000000  0.000000  1.432707  5  1\n",
              "2021-09-28 -0.720589  0.887163  0.859588  5  2\n",
              "2021-09-29  0.015696 -2.242685  1.150036  5  3\n",
              "2021-09-30  0.953324 -2.021255 -0.334077  5  4\n",
              "2021-10-01  0.405453  0.289092  1.321158  5  5\n",
              "2021-10-02 -0.202646 -0.655969  0.193421  5  6"
            ]
          },
          "metadata": {},
          "execution_count": 67
        }
      ]
    },
    {
      "cell_type": "code",
      "metadata": {
        "id": "qZVosChIji11",
        "colab": {
          "base_uri": "https://localhost:8080/",
          "height": 283
        },
        "outputId": "ea238ad6-7dc5-4aa1-d792-997465a4d945"
      },
      "source": [
        "# [DIY] df의 날짜별 평균(mean(1))과 표준편차를 이용한 막대그래프\n",
        "# Your code\n",
        "#plt.plot(df.mean(1), '-o', ms=8)\n",
        "bar_labels = df.index\n",
        "plt.bar(bar_labels, df.mean(1), yerr=df.std(1)) #, color='rgbcy')\n",
        "#df.mean(1)--> 1은 인덱스 0은 칼럼\n"
      ],
      "execution_count": 75,
      "outputs": [
        {
          "output_type": "execute_result",
          "data": {
            "text/plain": [
              "<BarContainer object of 6 artists>"
            ]
          },
          "metadata": {},
          "execution_count": 75
        },
        {
          "output_type": "display_data",
          "data": {
            "image/png": "[encoded data removed]",
            "text/plain": [
              "<Figure size 432x288 with 1 Axes>"
            ]
          },
          "metadata": {
            "needs_background": "light"
          }
        }
      ]
    },
    {
      "cell_type": "markdown",
      "metadata": {
        "id": "zl2_Xvcik7ol"
      },
      "source": [
        "---"
      ]
    }
  ]
}