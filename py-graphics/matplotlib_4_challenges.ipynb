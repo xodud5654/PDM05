{
  "nbformat": 4,
  "nbformat_minor": 0,
  "metadata": {
    "colab": {
      "name": "matplotlib_4_challenges.ipynb",
      "provenance": [],
      "collapsed_sections": [],
      "include_colab_link": true
    },
    "kernelspec": {
      "name": "python3",
      "display_name": "Python 3"
    }
  },
  "cells": [
    {
      "cell_type": "markdown",
      "metadata": {
        "id": "view-in-github",
        "colab_type": "text"
      },
      "source": [
        "<a href=\"https://colab.research.google.com/github/xodud5654/PDM05/blob/main/py-graphics/matplotlib_4_challenges.ipynb\" target=\"_parent\"><img src=\"https://colab.research.google.com/assets/colab-badge.svg\" alt=\"Open In Colab\"/></a>"
      ]
    },
    {
      "cell_type": "markdown",
      "metadata": {
        "id": "9Wej-7GZ4f3N"
      },
      "source": [
        "# Challenge\n",
        "## Python module 2. **matplotlib**\n",
        "### Python graphics using matplotlib\n",
        "- Visualization\n",
        "- Front-end deployment to WEB or Mobile"
      ]
    },
    {
      "cell_type": "markdown",
      "metadata": {
        "id": "h6yEJiGJ4Lbk"
      },
      "source": [
        "### 무작위수 분포 그려보기"
      ]
    },
    {
      "cell_type": "markdown",
      "metadata": {
        "id": "b-JcgSU-Ktyz"
      },
      "source": [
        "### [도전1.] 균일분포와 정규분포를 비교하는 그림을 그리시오.\n",
        "- subplot 이용\n",
        "- style(제목, x-축 레이블, y-축 레이블, ...)\n",
        "\n",
        "> [hint] 검색: \"How to add title to subplots in Matplotlib?\""
      ]
    },
    {
      "cell_type": "code",
      "metadata": {
        "id": "KUzPd8UWprpn"
      },
      "source": [
        "import numpy as np\n",
        "import matplotlib.pyplot as plt"
      ],
      "execution_count": 1,
      "outputs": []
    },
    {
      "cell_type": "code",
      "metadata": {
        "id": "9O6fRTtOpzhE"
      },
      "source": [
        ""
      ],
      "execution_count": 1,
      "outputs": []
    },
    {
      "cell_type": "code",
      "metadata": {
        "id": "k0XaT2f9JGZy",
        "colab": {
          "base_uri": "https://localhost:8080/",
          "height": 238
        },
        "outputId": "ed1a8715-91c9-4deb-eeb2-6b122203ffc5"
      },
      "source": [
        "plt.hist(np.random.rand(1000))"
      ],
      "execution_count": 11,
      "outputs": [
        {
          "output_type": "execute_result",
          "data": {
            "text/plain": [
              "(array([106., 104., 101., 104.,  98.,  99.,  94., 101.,  81., 112.]),\n",
              " array([0.00273405, 0.10237861, 0.20202318, 0.30166775, 0.40131231,\n",
              "        0.50095688, 0.60060145, 0.70024601, 0.79989058, 0.89953514,\n",
              "        0.99917971]),\n",
              " <a list of 10 Patch objects>)"
            ]
          },
          "metadata": {},
          "execution_count": 11
        },
        {
          "output_type": "display_data",
          "data": {
            "image/png": "[encoded data removed]",
            "text/plain": [
              "<Figure size 432x288 with 1 Axes>"
            ]
          },
          "metadata": {
            "needs_background": "light"
          }
        }
      ]
    },
    {
      "cell_type": "code",
      "metadata": {
        "id": "T8SCqKVeMhBF",
        "colab": {
          "base_uri": "https://localhost:8080/",
          "height": 238
        },
        "outputId": "65ddf158-f3d8-4928-b1b1-208a2643d9c2"
      },
      "source": [
        "plt.hist(np.random.randn(1000))"
      ],
      "execution_count": 12,
      "outputs": [
        {
          "output_type": "execute_result",
          "data": {
            "text/plain": [
              "(array([  4.,  34., 122., 235., 248., 238., 100.,  16.,   2.,   1.]),\n",
              " array([-3.09228928, -2.38619951, -1.68010973, -0.97401996, -0.26793018,\n",
              "         0.4381596 ,  1.14424937,  1.85033915,  2.55642892,  3.2625187 ,\n",
              "         3.96860847]),\n",
              " <a list of 10 Patch objects>)"
            ]
          },
          "metadata": {},
          "execution_count": 12
        },
        {
          "output_type": "display_data",
          "data": {
            "image/png": "[encoded data removed]",
            "text/plain": [
              "<Figure size 432x288 with 1 Axes>"
            ]
          },
          "metadata": {
            "needs_background": "light"
          }
        }
      ]
    },
    {
      "cell_type": "code",
      "metadata": {
        "colab": {
          "base_uri": "https://localhost:8080/",
          "height": 729
        },
        "id": "Fle-KZRGpxk2",
        "outputId": "b8c3e112-17cd-4ba3-ffe8-47869f9b764e"
      },
      "source": [
        "plt.figure(figsize=(12,10))\n",
        "\n",
        "plt.subplot(121).set_title(\"Uniform\")\n",
        "plt.xlabel('x')\n",
        "plt.ylabel('y')\n",
        "plt.hist(np.random.rand(1000))\n",
        "\n",
        "plt.subplot(122).set_title(\"Normal\")\n",
        "plt.xlabel('x')\n",
        "plt.ylabel('y')\n",
        "plt.hist(np.random.randn(1000))\n",
        "\n",
        "plt.suptitle(\"Uniform <-> Normal\")\n",
        "plt.tight_layout()\n",
        "plt.show()"
      ],
      "execution_count": 17,
      "outputs": [
        {
          "output_type": "display_data",
          "data": {
            "image/png": "[encoded data removed]",
            "text/plain": [
              "<Figure size 864x720 with 2 Axes>"
            ]
          },
          "metadata": {
            "needs_background": "light"
          }
        }
      ]
    },
    {
      "cell_type": "markdown",
      "metadata": {
        "id": "D5XGB1v_PAeU"
      },
      "source": [
        "### [도전 2.] 0~9 사이의 무작위 정수 1000개를 만들어서 각 수의 빈도에 대한 히스토그램, 막대그래프, 꺽은선 그래프를 그리고 비교하시오.\n",
        "- subplot 이용\n",
        "- style(제목, x-축 레이블, y-축 레이블, ...)\n",
        "\n"
      ]
    },
    {
      "cell_type": "code",
      "metadata": {
        "id": "5TiTU_mwqMpr"
      },
      "source": [
        "n1000 = np.random.randint(0,10,1000)"
      ],
      "execution_count": 8,
      "outputs": []
    },
    {
      "cell_type": "code",
      "metadata": {
        "id": "xza_yV8nMshU"
      },
      "source": [
        "value, count= np.unique(n1000, return_counts=True)\n",
        "# count"
      ],
      "execution_count": 9,
      "outputs": []
    },
    {
      "cell_type": "code",
      "metadata": {
        "id": "CtOSk4RpQTXG",
        "colab": {
          "base_uri": "https://localhost:8080/",
          "height": 286
        },
        "outputId": "5c15d99b-71da-4dcc-9ee5-e52b01531a12"
      },
      "source": [
        "plt.bar(value,count) #,color=\"bgrcmyk\")  # 'bgrcmykw"
      ],
      "execution_count": 10,
      "outputs": [
        {
          "output_type": "execute_result",
          "data": {
            "text/plain": [
              "<BarContainer object of 10 artists>"
            ]
          },
          "metadata": {},
          "execution_count": 10
        },
        {
          "output_type": "display_data",
          "data": {
            "image/png": "[encoded data removed]",
            "text/plain": [
              "<Figure size 432x288 with 1 Axes>"
            ]
          },
          "metadata": {
            "needs_background": "light"
          }
        }
      ]
    },
    {
      "cell_type": "code",
      "metadata": {
        "colab": {
          "base_uri": "https://localhost:8080/",
          "height": 323
        },
        "id": "gy7X0yGksm1I",
        "outputId": "1cf99fcd-ad0c-4035-e7f5-ca981b3d1792"
      },
      "source": [
        "plt.hist(n1000)"
      ],
      "execution_count": 18,
      "outputs": [
        {
          "output_type": "execute_result",
          "data": {
            "text/plain": [
              "(array([112.,  90., 103., 100.,  96., 102., 115.,  87.,  95., 100.]),\n",
              " array([0. , 0.9, 1.8, 2.7, 3.6, 4.5, 5.4, 6.3, 7.2, 8.1, 9. ]),\n",
              " <a list of 10 Patch objects>)"
            ]
          },
          "metadata": {},
          "execution_count": 18
        },
        {
          "output_type": "display_data",
          "data": {
            "image/png": "[encoded data removed]",
            "text/plain": [
              "<Figure size 432x288 with 1 Axes>"
            ]
          },
          "metadata": {
            "needs_background": "light"
          }
        }
      ]
    },
    {
      "cell_type": "code",
      "metadata": {
        "colab": {
          "base_uri": "https://localhost:8080/",
          "height": 283
        },
        "id": "Hvkri39BssFY",
        "outputId": "b4ed8de3-52a2-4fce-feda-034926a70eb8"
      },
      "source": [
        "plt.plot(value,count,marker='*')"
      ],
      "execution_count": 19,
      "outputs": [
        {
          "output_type": "execute_result",
          "data": {
            "text/plain": [
              "[<matplotlib.lines.Line2D at 0x7fd3f814c510>]"
            ]
          },
          "metadata": {},
          "execution_count": 19
        },
        {
          "output_type": "display_data",
          "data": {
            "image/png": "[encoded data removed]",
            "text/plain": [
              "<Figure size 432x288 with 1 Axes>"
            ]
          },
          "metadata": {
            "needs_background": "light"
          }
        }
      ]
    },
    {
      "cell_type": "code",
      "metadata": {
        "colab": {
          "base_uri": "https://localhost:8080/",
          "height": 445
        },
        "id": "og27mtgys1tg",
        "outputId": "0734da64-a005-419b-bdd1-c2eff655a6fa"
      },
      "source": [
        "plt.figure(figsize=(12,5))\n",
        "\n",
        "plt.subplot(131).set_title(\"Histogram\")\n",
        "plt.xlabel('number') \n",
        "plt.ylabel('count') \n",
        "plt.hist(n1000)\n",
        "\n",
        "plt.subplot(132).set_title(\"Bar graph\") \n",
        "plt.xlabel('number')\n",
        "\n",
        "plt.bar(value,count,color=\"bgrcm\")\n",
        "\n",
        "plt.subplot(133).set_title(\"Line graph\") \n",
        "plt.xlabel('number')\n",
        "\n",
        "plt.plot(value,count,'y-',marker='*',ms=10, markeredgecolor='black')\n",
        "\n",
        "plt.suptitle(\"Hist, bar, line\")\n"
      ],
      "execution_count": 25,
      "outputs": [
        {
          "output_type": "stream",
          "name": "stderr",
          "text": [
            "/usr/local/lib/python3.7/dist-packages/ipykernel_launcher.py:11: MatplotlibDeprecationWarning: Using a string of single character colors as a color sequence is deprecated. Use an explicit list instead.\n",
            "  # This is added back by InteractiveShellApp.init_path()\n"
          ]
        },
        {
          "output_type": "execute_result",
          "data": {
            "text/plain": [
              "Text(0.5, 0.98, 'Hist, bar, line')"
            ]
          },
          "metadata": {},
          "execution_count": 25
        },
        {
          "output_type": "display_data",
          "data": {
            "image/png": "[encoded data removed]",
            "text/plain": [
              "<Figure size 864x360 with 3 Axes>"
            ]
          },
          "metadata": {
            "needs_background": "light"
          }
        }
      ]
    },
    {
      "cell_type": "markdown",
      "metadata": {
        "id": "vJOiAMJ5Jpnq"
      },
      "source": [
        "> [Python 그래픽스](https://datascienceschool.net/01%20python/05.01%20%EC%8B%9C%EA%B0%81%ED%99%94%20%ED%8C%A8%ED%82%A4%EC%A7%80%20%EB%A7%B7%ED%94%8C%EB%A1%AF%EB%A6%AC%EB%B8%8C%20%EC%86%8C%EA%B0%9C.html)\n"
      ]
    },
    {
      "cell_type": "code",
      "metadata": {
        "id": "zWcu1ISPYqHA"
      },
      "source": [
        ""
      ],
      "execution_count": null,
      "outputs": []
    }
  ]
}