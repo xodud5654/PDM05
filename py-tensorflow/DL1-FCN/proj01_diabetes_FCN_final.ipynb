{
  "nbformat": 4,
  "nbformat_minor": 0,
  "metadata": {
    "kernelspec": {
      "display_name": "Python 3",
      "language": "python",
      "name": "python3"
    },
    "language_info": {
      "codemirror_mode": {
        "name": "ipython",
        "version": 3
      },
      "file_extension": ".py",
      "mimetype": "text/x-python",
      "name": "python",
      "nbconvert_exporter": "python",
      "pygments_lexer": "ipython3",
      "version": "3.6.5"
    },
    "colab": {
      "name": "proj01_diabetes_FCN_final.ipynb",
      "provenance": [],
      "collapsed_sections": [],
      "include_colab_link": true
    }
  },
  "cells": [
    {
      "cell_type": "markdown",
      "metadata": {
        "id": "view-in-github",
        "colab_type": "text"
      },
      "source": [
        "<a href=\"https://colab.research.google.com/github/xodud5654/PDM05/blob/main/py-tensorflow/DL1-FCN/proj01_diabetes_FCN_final.ipynb\" target=\"_parent\"><img src=\"https://colab.research.google.com/assets/colab-badge.svg\" alt=\"Open In Colab\"/></a>"
      ]
    },
    {
      "cell_type": "markdown",
      "metadata": {
        "id": "nOvJjCFrkWDc"
      },
      "source": [
        "# **DL: FCN of Pima-Indians-Diabetes-Data** \n",
        "\n",
        "> https://medium.com/@soumen.atta/analyzing-pima-indians-diabetes-data-using-python-89a021b5f4eb\n",
        "\n",
        "### Diabetes Prediction using Neural Networks \n",
        "- [Deep learning approach for diabetes prediction using PIMA Indian dataset](https://link.springer.com/article/10.1007/s40200-020-00520-5)"
      ]
    },
    {
      "cell_type": "code",
      "metadata": {
        "_cell_guid": "8e27055d-7b00-49f6-b0e8-f53ff433ddca",
        "_uuid": "1e1e2b84-2d40-497b-92bd-f238f939cfa8",
        "id": "WUOW3NKRkWDd",
        "colab": {
          "base_uri": "https://localhost:8080/"
        },
        "outputId": "2481ea98-fa94-45f6-ff0c-54ebca3c1731"
      },
      "source": [
        "# Load the required packages \n",
        "import numpy as np\n",
        "import tensorflow as tf\n",
        "from tensorflow import keras\n",
        "import pandas as pd\n",
        "from pandas import read_csv\n",
        "import matplotlib.pyplot as plt\n",
        "# %matplotlib inline\n",
        "\n",
        "tf.random.set_seed(0)\n",
        "\n",
        "print(tf.__version__)"
      ],
      "execution_count": 71,
      "outputs": [
        {
          "output_type": "stream",
          "name": "stdout",
          "text": [
            "2.7.0\n"
          ]
        }
      ]
    },
    {
      "cell_type": "markdown",
      "metadata": {
        "id": "TcfPniN2kWDg"
      },
      "source": [
        "**Load CSV file using Pandas**"
      ]
    },
    {
      "cell_type": "code",
      "metadata": {
        "id": "Ahd9x_NVkWDg",
        "colab": {
          "base_uri": "https://localhost:8080/"
        },
        "outputId": "1f5071e1-695d-4b77-a075-1a17d9b8b328"
      },
      "source": [
        "# Specify the file name \n",
        "url = \"https://github.com/Redwoods/Py/raw/master/pdm2020/my-note/py-pandas/data/diabetes.csv\"\n",
        "filename = url\n",
        "# filename = 'diabetes.csv'  # access to local file\n",
        "\n",
        "# Read the data \n",
        "df = read_csv(filename) \n",
        "\n",
        "# Print the shape \n",
        "df.shape"
      ],
      "execution_count": 72,
      "outputs": [
        {
          "output_type": "execute_result",
          "data": {
            "text/plain": [
              "(768, 9)"
            ]
          },
          "metadata": {},
          "execution_count": 72
        }
      ]
    },
    {
      "cell_type": "code",
      "metadata": {
        "id": "q_g68MTvkWDi",
        "colab": {
          "base_uri": "https://localhost:8080/",
          "height": 206
        },
        "outputId": "454495b8-f968-4b09-e68b-8758b6e04a25"
      },
      "source": [
        "# Print the first 5 rows \n",
        "df.head()"
      ],
      "execution_count": 73,
      "outputs": [
        {
          "output_type": "execute_result",
          "data": {
            "text/html": [
              "<div>\n",
              "<style scoped>\n",
              "    .dataframe tbody tr th:only-of-type {\n",
              "        vertical-align: middle;\n",
              "    }\n",
              "\n",
              "    .dataframe tbody tr th {\n",
              "        vertical-align: top;\n",
              "    }\n",
              "\n",
              "    .dataframe thead th {\n",
              "        text-align: right;\n",
              "    }\n",
              "</style>\n",
              "<table border=\"1\" class=\"dataframe\">\n",
              "  <thead>\n",
              "    <tr style=\"text-align: right;\">\n",
              "      <th></th>\n",
              "      <th>Pregnancies</th>\n",
              "      <th>Glucose</th>\n",
              "      <th>BloodPressure</th>\n",
              "      <th>SkinThickness</th>\n",
              "      <th>Insulin</th>\n",
              "      <th>BMI</th>\n",
              "      <th>DiabetesPedigreeFunction</th>\n",
              "      <th>Age</th>\n",
              "      <th>Outcome</th>\n",
              "    </tr>\n",
              "  </thead>\n",
              "  <tbody>\n",
              "    <tr>\n",
              "      <th>0</th>\n",
              "      <td>6</td>\n",
              "      <td>148</td>\n",
              "      <td>72</td>\n",
              "      <td>35</td>\n",
              "      <td>0</td>\n",
              "      <td>33.6</td>\n",
              "      <td>0.627</td>\n",
              "      <td>50</td>\n",
              "      <td>1</td>\n",
              "    </tr>\n",
              "    <tr>\n",
              "      <th>1</th>\n",
              "      <td>1</td>\n",
              "      <td>85</td>\n",
              "      <td>66</td>\n",
              "      <td>29</td>\n",
              "      <td>0</td>\n",
              "      <td>26.6</td>\n",
              "      <td>0.351</td>\n",
              "      <td>31</td>\n",
              "      <td>0</td>\n",
              "    </tr>\n",
              "    <tr>\n",
              "      <th>2</th>\n",
              "      <td>8</td>\n",
              "      <td>183</td>\n",
              "      <td>64</td>\n",
              "      <td>0</td>\n",
              "      <td>0</td>\n",
              "      <td>23.3</td>\n",
              "      <td>0.672</td>\n",
              "      <td>32</td>\n",
              "      <td>1</td>\n",
              "    </tr>\n",
              "    <tr>\n",
              "      <th>3</th>\n",
              "      <td>1</td>\n",
              "      <td>89</td>\n",
              "      <td>66</td>\n",
              "      <td>23</td>\n",
              "      <td>94</td>\n",
              "      <td>28.1</td>\n",
              "      <td>0.167</td>\n",
              "      <td>21</td>\n",
              "      <td>0</td>\n",
              "    </tr>\n",
              "    <tr>\n",
              "      <th>4</th>\n",
              "      <td>0</td>\n",
              "      <td>137</td>\n",
              "      <td>40</td>\n",
              "      <td>35</td>\n",
              "      <td>168</td>\n",
              "      <td>43.1</td>\n",
              "      <td>2.288</td>\n",
              "      <td>33</td>\n",
              "      <td>1</td>\n",
              "    </tr>\n",
              "  </tbody>\n",
              "</table>\n",
              "</div>"
            ],
            "text/plain": [
              "   Pregnancies  Glucose  BloodPressure  ...  DiabetesPedigreeFunction  Age  Outcome\n",
              "0            6      148             72  ...                     0.627   50        1\n",
              "1            1       85             66  ...                     0.351   31        0\n",
              "2            8      183             64  ...                     0.672   32        1\n",
              "3            1       89             66  ...                     0.167   21        0\n",
              "4            0      137             40  ...                     2.288   33        1\n",
              "\n",
              "[5 rows x 9 columns]"
            ]
          },
          "metadata": {},
          "execution_count": 73
        }
      ]
    },
    {
      "cell_type": "markdown",
      "metadata": {
        "id": "crLvVWcozxxL"
      },
      "source": [
        "## create X and y datasets for training from df"
      ]
    },
    {
      "cell_type": "code",
      "metadata": {
        "id": "nPXuV-pmzxxL"
      },
      "source": [
        "from sklearn import model_selection"
      ],
      "execution_count": 74,
      "outputs": []
    },
    {
      "cell_type": "code",
      "metadata": {
        "id": "vO3Bzh7uPEv2"
      },
      "source": [
        "# create X and Y datasets for training from raw df\n",
        "X = np.array(df.drop(['Outcome'], 1))\n",
        "y = np.array(df['Outcome'])\n",
        "\n",
        "# set random number seed\n",
        "np.random.seed(1234)\n",
        "tf.random.set_seed(1234)\n",
        "X_train, X_test, y_train, y_test = model_selection.train_test_split(X, y, test_size = 0.2)"
      ],
      "execution_count": 75,
      "outputs": []
    },
    {
      "cell_type": "code",
      "metadata": {
        "id": "stfPciBcb7EP",
        "colab": {
          "base_uri": "https://localhost:8080/"
        },
        "outputId": "2d03b59d-9df8-4c1c-cb61-6e76cf9714bc"
      },
      "source": [
        "X_train.shape, X_test.shape, y_train.shape, y_test.shape"
      ],
      "execution_count": 76,
      "outputs": [
        {
          "output_type": "execute_result",
          "data": {
            "text/plain": [
              "((614, 8), (154, 8), (614,), (154,))"
            ]
          },
          "metadata": {},
          "execution_count": 76
        }
      ]
    },
    {
      "cell_type": "code",
      "metadata": {
        "id": "QkKoN2VFzxxL",
        "colab": {
          "base_uri": "https://localhost:8080/"
        },
        "outputId": "ed101002-73be-4ab5-fda6-4562d766bad4"
      },
      "source": [
        "print(X_train[0])\n",
        "y_train[:10]"
      ],
      "execution_count": 77,
      "outputs": [
        {
          "output_type": "stream",
          "name": "stdout",
          "text": [
            "[  2.    106.     56.     27.    165.     29.      0.426  22.   ]\n"
          ]
        },
        {
          "output_type": "execute_result",
          "data": {
            "text/plain": [
              "array([0, 1, 1, 0, 0, 0, 1, 0, 0, 1])"
            ]
          },
          "metadata": {},
          "execution_count": 77
        }
      ]
    },
    {
      "cell_type": "code",
      "metadata": {
        "id": "Ksp_VaslzxxL",
        "colab": {
          "base_uri": "https://localhost:8080/"
        },
        "outputId": "1dbcf08c-fe4f-4473-a25a-b48f6f464a95"
      },
      "source": [
        "np.unique(y_train, return_counts=True),np.unique(y_test, return_counts=True)  #[1]"
      ],
      "execution_count": 78,
      "outputs": [
        {
          "output_type": "execute_result",
          "data": {
            "text/plain": [
              "((array([0, 1]), array([401, 213])), (array([0, 1]), array([99, 55])))"
            ]
          },
          "metadata": {},
          "execution_count": 78
        }
      ]
    },
    {
      "cell_type": "code",
      "metadata": {
        "id": "z6nGrXvXzxxM",
        "colab": {
          "base_uri": "https://localhost:8080/"
        },
        "outputId": "d981bb1d-0d3c-4da9-f050-9c253ec798c9"
      },
      "source": [
        "X_train[:3]"
      ],
      "execution_count": 79,
      "outputs": [
        {
          "output_type": "execute_result",
          "data": {
            "text/plain": [
              "array([[  2.   , 106.   ,  56.   ,  27.   , 165.   ,  29.   ,   0.426,\n",
              "         22.   ],\n",
              "       [  4.   , 158.   ,  78.   ,   0.   ,   0.   ,  32.9  ,   0.803,\n",
              "         31.   ],\n",
              "       [  1.   , 196.   ,  76.   ,  36.   , 249.   ,  36.5  ,   0.875,\n",
              "         29.   ]])"
            ]
          },
          "metadata": {},
          "execution_count": 79
        }
      ]
    },
    {
      "cell_type": "code",
      "metadata": {
        "id": "wAFYD041Xb1A"
      },
      "source": [
        "# import TF2 submodules\n",
        "from tensorflow.keras import layers, models, callbacks\n",
        "from keras.models import Sequential\n",
        "from keras.layers import Dense,Flatten\n",
        "from keras.callbacks import ModelCheckpoint, EarlyStopping"
      ],
      "execution_count": 80,
      "outputs": []
    },
    {
      "cell_type": "markdown",
      "metadata": {
        "id": "qJ305pLHm5HF"
      },
      "source": [
        "## Deep learning of Diabetes dataset\n",
        "- noDM(0), DM(1)\n",
        "\n",
        "### Prediction by sigmoid function in the output layer\n",
        "- 0 if output < 0.5\n",
        "- 1 if output >= 0.5"
      ]
    },
    {
      "cell_type": "markdown",
      "metadata": {
        "id": "AZGiaDRh3-Ze"
      },
      "source": [
        "## Simple FCN\n",
        "- 3 layers FCN: 2 hidden + output"
      ]
    },
    {
      "cell_type": "code",
      "metadata": {
        "id": "0B5Xc0atXtuC"
      },
      "source": [
        "# set random number seed\n",
        "np.random.seed(1234)\n",
        "tf.random.set_seed(1234)\n",
        "\n",
        "# define the keras model: simple FCN\n",
        "model = Sequential()\n",
        "model.add(Dense(12, input_dim=8, activation='relu'))\n",
        "model.add(Dense(8, activation='relu'))\n",
        "model.add(Dense(1, activation='sigmoid'))\n",
        "# compile the keras model\n",
        "model.compile(loss='binary_crossentropy', \n",
        "              optimizer='adam', \n",
        "              metrics=['accuracy'])\n"
      ],
      "execution_count": 81,
      "outputs": []
    },
    {
      "cell_type": "code",
      "metadata": {
        "id": "ROjU8SG-X2XU",
        "colab": {
          "base_uri": "https://localhost:8080/"
        },
        "outputId": "f4412f63-b28c-400b-8ff1-08b07f637e8d"
      },
      "source": [
        "# fit the keras model on the dataset\n",
        "hist = model.fit(X_train, y_train, epochs=150, batch_size=10, verbose=1, \n",
        "                 validation_data=(X_test, y_test))\n"
      ],
      "execution_count": 82,
      "outputs": [
        {
          "output_type": "stream",
          "name": "stdout",
          "text": [
            "Epoch 1/150\n",
            "62/62 [==============================] - 1s 5ms/step - loss: 7.5488 - accuracy: 0.5537 - val_loss: 3.4242 - val_accuracy: 0.6429\n",
            "Epoch 2/150\n",
            "62/62 [==============================] - 0s 2ms/step - loss: 2.4032 - accuracy: 0.5928 - val_loss: 1.7341 - val_accuracy: 0.6234\n",
            "Epoch 3/150\n",
            "62/62 [==============================] - 0s 2ms/step - loss: 1.2483 - accuracy: 0.5717 - val_loss: 0.9172 - val_accuracy: 0.6364\n",
            "Epoch 4/150\n",
            "62/62 [==============================] - 0s 2ms/step - loss: 0.7927 - accuracy: 0.6156 - val_loss: 0.8362 - val_accuracy: 0.6039\n",
            "Epoch 5/150\n",
            "62/62 [==============================] - 0s 2ms/step - loss: 0.7411 - accuracy: 0.6270 - val_loss: 0.7949 - val_accuracy: 0.6558\n",
            "Epoch 6/150\n",
            "62/62 [==============================] - 0s 2ms/step - loss: 0.7469 - accuracy: 0.6417 - val_loss: 0.7583 - val_accuracy: 0.6039\n",
            "Epoch 7/150\n",
            "62/62 [==============================] - 0s 2ms/step - loss: 0.7345 - accuracy: 0.6678 - val_loss: 0.7421 - val_accuracy: 0.6494\n",
            "Epoch 8/150\n",
            "62/62 [==============================] - 0s 2ms/step - loss: 0.6903 - accuracy: 0.6596 - val_loss: 0.7094 - val_accuracy: 0.6753\n",
            "Epoch 9/150\n",
            "62/62 [==============================] - 0s 2ms/step - loss: 0.6682 - accuracy: 0.6759 - val_loss: 0.7268 - val_accuracy: 0.6494\n",
            "Epoch 10/150\n",
            "62/62 [==============================] - 0s 2ms/step - loss: 0.6674 - accuracy: 0.6808 - val_loss: 0.7105 - val_accuracy: 0.6948\n",
            "Epoch 11/150\n",
            "62/62 [==============================] - 0s 2ms/step - loss: 0.6649 - accuracy: 0.6857 - val_loss: 0.6797 - val_accuracy: 0.7078\n",
            "Epoch 12/150\n",
            "62/62 [==============================] - 0s 2ms/step - loss: 0.6412 - accuracy: 0.6906 - val_loss: 0.6999 - val_accuracy: 0.6883\n",
            "Epoch 13/150\n",
            "62/62 [==============================] - 0s 2ms/step - loss: 0.6500 - accuracy: 0.6906 - val_loss: 0.7037 - val_accuracy: 0.7013\n",
            "Epoch 14/150\n",
            "62/62 [==============================] - 0s 2ms/step - loss: 0.6318 - accuracy: 0.6840 - val_loss: 0.6887 - val_accuracy: 0.7013\n",
            "Epoch 15/150\n",
            "62/62 [==============================] - 0s 2ms/step - loss: 0.6307 - accuracy: 0.7003 - val_loss: 0.6818 - val_accuracy: 0.7143\n",
            "Epoch 16/150\n",
            "62/62 [==============================] - 0s 2ms/step - loss: 0.6286 - accuracy: 0.6824 - val_loss: 0.7239 - val_accuracy: 0.6883\n",
            "Epoch 17/150\n",
            "62/62 [==============================] - 0s 2ms/step - loss: 0.6313 - accuracy: 0.6792 - val_loss: 0.6693 - val_accuracy: 0.7208\n",
            "Epoch 18/150\n",
            "62/62 [==============================] - 0s 2ms/step - loss: 0.6203 - accuracy: 0.6792 - val_loss: 0.6720 - val_accuracy: 0.7338\n",
            "Epoch 19/150\n",
            "62/62 [==============================] - 0s 2ms/step - loss: 0.6161 - accuracy: 0.7003 - val_loss: 0.7213 - val_accuracy: 0.6429\n",
            "Epoch 20/150\n",
            "62/62 [==============================] - 0s 2ms/step - loss: 0.6238 - accuracy: 0.6824 - val_loss: 0.6789 - val_accuracy: 0.7013\n",
            "Epoch 21/150\n",
            "62/62 [==============================] - 0s 2ms/step - loss: 0.6151 - accuracy: 0.6857 - val_loss: 0.6682 - val_accuracy: 0.6818\n",
            "Epoch 22/150\n",
            "62/62 [==============================] - 0s 2ms/step - loss: 0.6036 - accuracy: 0.6906 - val_loss: 0.6549 - val_accuracy: 0.7338\n",
            "Epoch 23/150\n",
            "62/62 [==============================] - 0s 2ms/step - loss: 0.5994 - accuracy: 0.6987 - val_loss: 0.7083 - val_accuracy: 0.6883\n",
            "Epoch 24/150\n",
            "62/62 [==============================] - 0s 3ms/step - loss: 0.6025 - accuracy: 0.7020 - val_loss: 0.6435 - val_accuracy: 0.7338\n",
            "Epoch 25/150\n",
            "62/62 [==============================] - 0s 2ms/step - loss: 0.6122 - accuracy: 0.6840 - val_loss: 0.6563 - val_accuracy: 0.7208\n",
            "Epoch 26/150\n",
            "62/62 [==============================] - 0s 2ms/step - loss: 0.6095 - accuracy: 0.7003 - val_loss: 0.6318 - val_accuracy: 0.7338\n",
            "Epoch 27/150\n",
            "62/62 [==============================] - 0s 2ms/step - loss: 0.5984 - accuracy: 0.7036 - val_loss: 0.6296 - val_accuracy: 0.7208\n",
            "Epoch 28/150\n",
            "62/62 [==============================] - 0s 2ms/step - loss: 0.5947 - accuracy: 0.7068 - val_loss: 0.6392 - val_accuracy: 0.7208\n",
            "Epoch 29/150\n",
            "62/62 [==============================] - 0s 2ms/step - loss: 0.5834 - accuracy: 0.7182 - val_loss: 0.6080 - val_accuracy: 0.7338\n",
            "Epoch 30/150\n",
            "62/62 [==============================] - 0s 2ms/step - loss: 0.6034 - accuracy: 0.7068 - val_loss: 0.6243 - val_accuracy: 0.6753\n",
            "Epoch 31/150\n",
            "62/62 [==============================] - 0s 2ms/step - loss: 0.5806 - accuracy: 0.7117 - val_loss: 0.6360 - val_accuracy: 0.7013\n",
            "Epoch 32/150\n",
            "62/62 [==============================] - 0s 2ms/step - loss: 0.6131 - accuracy: 0.7003 - val_loss: 0.6282 - val_accuracy: 0.6948\n",
            "Epoch 33/150\n",
            "62/62 [==============================] - 0s 2ms/step - loss: 0.5764 - accuracy: 0.7182 - val_loss: 0.6325 - val_accuracy: 0.7078\n",
            "Epoch 34/150\n",
            "62/62 [==============================] - 0s 3ms/step - loss: 0.5900 - accuracy: 0.7036 - val_loss: 0.5916 - val_accuracy: 0.7403\n",
            "Epoch 35/150\n",
            "62/62 [==============================] - 0s 2ms/step - loss: 0.6035 - accuracy: 0.7068 - val_loss: 0.6631 - val_accuracy: 0.7273\n",
            "Epoch 36/150\n",
            "62/62 [==============================] - 0s 2ms/step - loss: 0.6082 - accuracy: 0.6938 - val_loss: 0.5929 - val_accuracy: 0.7403\n",
            "Epoch 37/150\n",
            "62/62 [==============================] - 0s 2ms/step - loss: 0.5878 - accuracy: 0.6922 - val_loss: 0.5913 - val_accuracy: 0.7597\n",
            "Epoch 38/150\n",
            "62/62 [==============================] - 0s 2ms/step - loss: 0.5684 - accuracy: 0.7329 - val_loss: 0.6069 - val_accuracy: 0.7532\n",
            "Epoch 39/150\n",
            "62/62 [==============================] - 0s 2ms/step - loss: 0.5741 - accuracy: 0.7068 - val_loss: 0.6109 - val_accuracy: 0.7013\n",
            "Epoch 40/150\n",
            "62/62 [==============================] - 0s 2ms/step - loss: 0.5954 - accuracy: 0.7101 - val_loss: 0.6207 - val_accuracy: 0.6818\n",
            "Epoch 41/150\n",
            "62/62 [==============================] - 0s 2ms/step - loss: 0.5824 - accuracy: 0.7199 - val_loss: 0.5673 - val_accuracy: 0.7468\n",
            "Epoch 42/150\n",
            "62/62 [==============================] - 0s 2ms/step - loss: 0.5984 - accuracy: 0.7150 - val_loss: 0.5938 - val_accuracy: 0.7143\n",
            "Epoch 43/150\n",
            "62/62 [==============================] - 0s 2ms/step - loss: 0.5876 - accuracy: 0.7068 - val_loss: 0.6174 - val_accuracy: 0.6818\n",
            "Epoch 44/150\n",
            "62/62 [==============================] - 0s 2ms/step - loss: 0.5810 - accuracy: 0.7068 - val_loss: 0.5890 - val_accuracy: 0.7662\n",
            "Epoch 45/150\n",
            "62/62 [==============================] - 0s 2ms/step - loss: 0.5886 - accuracy: 0.6759 - val_loss: 0.5818 - val_accuracy: 0.7208\n",
            "Epoch 46/150\n",
            "62/62 [==============================] - 0s 2ms/step - loss: 0.5667 - accuracy: 0.7117 - val_loss: 0.5979 - val_accuracy: 0.6948\n",
            "Epoch 47/150\n",
            "62/62 [==============================] - 0s 2ms/step - loss: 0.5781 - accuracy: 0.7101 - val_loss: 0.6123 - val_accuracy: 0.7143\n",
            "Epoch 48/150\n",
            "62/62 [==============================] - 0s 2ms/step - loss: 0.5651 - accuracy: 0.7101 - val_loss: 0.5876 - val_accuracy: 0.7143\n",
            "Epoch 49/150\n",
            "62/62 [==============================] - 0s 2ms/step - loss: 0.5693 - accuracy: 0.7264 - val_loss: 0.6246 - val_accuracy: 0.6688\n",
            "Epoch 50/150\n",
            "62/62 [==============================] - 0s 3ms/step - loss: 0.5621 - accuracy: 0.7215 - val_loss: 0.5905 - val_accuracy: 0.7532\n",
            "Epoch 51/150\n",
            "62/62 [==============================] - 0s 2ms/step - loss: 0.5733 - accuracy: 0.7166 - val_loss: 0.5670 - val_accuracy: 0.7597\n",
            "Epoch 52/150\n",
            "62/62 [==============================] - 0s 2ms/step - loss: 0.5617 - accuracy: 0.7296 - val_loss: 0.5888 - val_accuracy: 0.6948\n",
            "Epoch 53/150\n",
            "62/62 [==============================] - 0s 2ms/step - loss: 0.5530 - accuracy: 0.7101 - val_loss: 0.5597 - val_accuracy: 0.7727\n",
            "Epoch 54/150\n",
            "62/62 [==============================] - 0s 2ms/step - loss: 0.5893 - accuracy: 0.7052 - val_loss: 0.5958 - val_accuracy: 0.7468\n",
            "Epoch 55/150\n",
            "62/62 [==============================] - 0s 2ms/step - loss: 0.5589 - accuracy: 0.7215 - val_loss: 0.5919 - val_accuracy: 0.7078\n",
            "Epoch 56/150\n",
            "62/62 [==============================] - 0s 3ms/step - loss: 0.5539 - accuracy: 0.7362 - val_loss: 0.5760 - val_accuracy: 0.7727\n",
            "Epoch 57/150\n",
            "62/62 [==============================] - 0s 2ms/step - loss: 0.5635 - accuracy: 0.7248 - val_loss: 0.5729 - val_accuracy: 0.7662\n",
            "Epoch 58/150\n",
            "62/62 [==============================] - 0s 2ms/step - loss: 0.5618 - accuracy: 0.7362 - val_loss: 0.5589 - val_accuracy: 0.7727\n",
            "Epoch 59/150\n",
            "62/62 [==============================] - 0s 2ms/step - loss: 0.6002 - accuracy: 0.6889 - val_loss: 0.6217 - val_accuracy: 0.6688\n",
            "Epoch 60/150\n",
            "62/62 [==============================] - 0s 2ms/step - loss: 0.5592 - accuracy: 0.7231 - val_loss: 0.5807 - val_accuracy: 0.7468\n",
            "Epoch 61/150\n",
            "62/62 [==============================] - 0s 2ms/step - loss: 0.5641 - accuracy: 0.7215 - val_loss: 0.6483 - val_accuracy: 0.6623\n",
            "Epoch 62/150\n",
            "62/62 [==============================] - 0s 2ms/step - loss: 0.5702 - accuracy: 0.7199 - val_loss: 0.6013 - val_accuracy: 0.7468\n",
            "Epoch 63/150\n",
            "62/62 [==============================] - 0s 2ms/step - loss: 0.5584 - accuracy: 0.7199 - val_loss: 0.5877 - val_accuracy: 0.7338\n",
            "Epoch 64/150\n",
            "62/62 [==============================] - 0s 2ms/step - loss: 0.5501 - accuracy: 0.7362 - val_loss: 0.5672 - val_accuracy: 0.7078\n",
            "Epoch 65/150\n",
            "62/62 [==============================] - 0s 3ms/step - loss: 0.5605 - accuracy: 0.7345 - val_loss: 0.5795 - val_accuracy: 0.7078\n",
            "Epoch 66/150\n",
            "62/62 [==============================] - 0s 2ms/step - loss: 0.5573 - accuracy: 0.7199 - val_loss: 0.5828 - val_accuracy: 0.7143\n",
            "Epoch 67/150\n",
            "62/62 [==============================] - 0s 2ms/step - loss: 0.5506 - accuracy: 0.7329 - val_loss: 0.5579 - val_accuracy: 0.7727\n",
            "Epoch 68/150\n",
            "62/62 [==============================] - 0s 2ms/step - loss: 0.5421 - accuracy: 0.7248 - val_loss: 0.5811 - val_accuracy: 0.7013\n",
            "Epoch 69/150\n",
            "62/62 [==============================] - 0s 2ms/step - loss: 0.5614 - accuracy: 0.7231 - val_loss: 0.5646 - val_accuracy: 0.7727\n",
            "Epoch 70/150\n",
            "62/62 [==============================] - 0s 2ms/step - loss: 0.5529 - accuracy: 0.7280 - val_loss: 0.5968 - val_accuracy: 0.7727\n",
            "Epoch 71/150\n",
            "62/62 [==============================] - 0s 2ms/step - loss: 0.5598 - accuracy: 0.7296 - val_loss: 0.5612 - val_accuracy: 0.7662\n",
            "Epoch 72/150\n",
            "62/62 [==============================] - 0s 2ms/step - loss: 0.5531 - accuracy: 0.7427 - val_loss: 0.5866 - val_accuracy: 0.7143\n",
            "Epoch 73/150\n",
            "62/62 [==============================] - 0s 2ms/step - loss: 0.5603 - accuracy: 0.7329 - val_loss: 0.5880 - val_accuracy: 0.6688\n",
            "Epoch 74/150\n",
            "62/62 [==============================] - 0s 2ms/step - loss: 0.5604 - accuracy: 0.7231 - val_loss: 0.5744 - val_accuracy: 0.7662\n",
            "Epoch 75/150\n",
            "62/62 [==============================] - 0s 2ms/step - loss: 0.5599 - accuracy: 0.7215 - val_loss: 0.5584 - val_accuracy: 0.7792\n",
            "Epoch 76/150\n",
            "62/62 [==============================] - 0s 2ms/step - loss: 0.5403 - accuracy: 0.7313 - val_loss: 0.5558 - val_accuracy: 0.7727\n",
            "Epoch 77/150\n",
            "62/62 [==============================] - 0s 2ms/step - loss: 0.5494 - accuracy: 0.7280 - val_loss: 0.5579 - val_accuracy: 0.7727\n",
            "Epoch 78/150\n",
            "62/62 [==============================] - 0s 2ms/step - loss: 0.5322 - accuracy: 0.7231 - val_loss: 0.5876 - val_accuracy: 0.7273\n",
            "Epoch 79/150\n",
            "62/62 [==============================] - 0s 2ms/step - loss: 0.5516 - accuracy: 0.7329 - val_loss: 0.5546 - val_accuracy: 0.7662\n",
            "Epoch 80/150\n",
            "62/62 [==============================] - 0s 2ms/step - loss: 0.5383 - accuracy: 0.7394 - val_loss: 0.5845 - val_accuracy: 0.7597\n",
            "Epoch 81/150\n",
            "62/62 [==============================] - 0s 2ms/step - loss: 0.5460 - accuracy: 0.7508 - val_loss: 0.6314 - val_accuracy: 0.6623\n",
            "Epoch 82/150\n",
            "62/62 [==============================] - 0s 2ms/step - loss: 0.5480 - accuracy: 0.7345 - val_loss: 0.5728 - val_accuracy: 0.7597\n",
            "Epoch 83/150\n",
            "62/62 [==============================] - 0s 2ms/step - loss: 0.5719 - accuracy: 0.7068 - val_loss: 0.5533 - val_accuracy: 0.7727\n",
            "Epoch 84/150\n",
            "62/62 [==============================] - 0s 2ms/step - loss: 0.5568 - accuracy: 0.7166 - val_loss: 0.5641 - val_accuracy: 0.7468\n",
            "Epoch 85/150\n",
            "62/62 [==============================] - 0s 2ms/step - loss: 0.5415 - accuracy: 0.7313 - val_loss: 0.5658 - val_accuracy: 0.7727\n",
            "Epoch 86/150\n",
            "62/62 [==============================] - 0s 2ms/step - loss: 0.5462 - accuracy: 0.7280 - val_loss: 0.5638 - val_accuracy: 0.7532\n",
            "Epoch 87/150\n",
            "62/62 [==============================] - 0s 2ms/step - loss: 0.5435 - accuracy: 0.7394 - val_loss: 0.5611 - val_accuracy: 0.7597\n",
            "Epoch 88/150\n",
            "62/62 [==============================] - 0s 2ms/step - loss: 0.5724 - accuracy: 0.7329 - val_loss: 0.5516 - val_accuracy: 0.7857\n",
            "Epoch 89/150\n",
            "62/62 [==============================] - 0s 2ms/step - loss: 0.5496 - accuracy: 0.7394 - val_loss: 0.5494 - val_accuracy: 0.7727\n",
            "Epoch 90/150\n",
            "62/62 [==============================] - 0s 2ms/step - loss: 0.5338 - accuracy: 0.7394 - val_loss: 0.5619 - val_accuracy: 0.7597\n",
            "Epoch 91/150\n",
            "62/62 [==============================] - 0s 2ms/step - loss: 0.5348 - accuracy: 0.7329 - val_loss: 0.5638 - val_accuracy: 0.7597\n",
            "Epoch 92/150\n",
            "62/62 [==============================] - 0s 2ms/step - loss: 0.5549 - accuracy: 0.7264 - val_loss: 0.5633 - val_accuracy: 0.7727\n",
            "Epoch 93/150\n",
            "62/62 [==============================] - 0s 2ms/step - loss: 0.5452 - accuracy: 0.7313 - val_loss: 0.5431 - val_accuracy: 0.7532\n",
            "Epoch 94/150\n",
            "62/62 [==============================] - 0s 3ms/step - loss: 0.5436 - accuracy: 0.7313 - val_loss: 0.5623 - val_accuracy: 0.7597\n",
            "Epoch 95/150\n",
            "62/62 [==============================] - 0s 2ms/step - loss: 0.5659 - accuracy: 0.7052 - val_loss: 0.6569 - val_accuracy: 0.6364\n",
            "Epoch 96/150\n",
            "62/62 [==============================] - 0s 2ms/step - loss: 0.5359 - accuracy: 0.7443 - val_loss: 0.5668 - val_accuracy: 0.7532\n",
            "Epoch 97/150\n",
            "62/62 [==============================] - 0s 2ms/step - loss: 0.5583 - accuracy: 0.7117 - val_loss: 0.5493 - val_accuracy: 0.7338\n",
            "Epoch 98/150\n",
            "62/62 [==============================] - 0s 2ms/step - loss: 0.5493 - accuracy: 0.7345 - val_loss: 0.6043 - val_accuracy: 0.7013\n",
            "Epoch 99/150\n",
            "62/62 [==============================] - 0s 3ms/step - loss: 0.5461 - accuracy: 0.7313 - val_loss: 0.5499 - val_accuracy: 0.7662\n",
            "Epoch 100/150\n",
            "62/62 [==============================] - 0s 2ms/step - loss: 0.5304 - accuracy: 0.7378 - val_loss: 0.5766 - val_accuracy: 0.7662\n",
            "Epoch 101/150\n",
            "62/62 [==============================] - 0s 2ms/step - loss: 0.5395 - accuracy: 0.7280 - val_loss: 0.5749 - val_accuracy: 0.7013\n",
            "Epoch 102/150\n",
            "62/62 [==============================] - 0s 2ms/step - loss: 0.5407 - accuracy: 0.7345 - val_loss: 0.5545 - val_accuracy: 0.7662\n",
            "Epoch 103/150\n",
            "62/62 [==============================] - 0s 3ms/step - loss: 0.5394 - accuracy: 0.7427 - val_loss: 0.5489 - val_accuracy: 0.7727\n",
            "Epoch 104/150\n",
            "62/62 [==============================] - 0s 2ms/step - loss: 0.5302 - accuracy: 0.7215 - val_loss: 0.5549 - val_accuracy: 0.7532\n",
            "Epoch 105/150\n",
            "62/62 [==============================] - 0s 2ms/step - loss: 0.5354 - accuracy: 0.7427 - val_loss: 0.5507 - val_accuracy: 0.7662\n",
            "Epoch 106/150\n",
            "62/62 [==============================] - 0s 2ms/step - loss: 0.5386 - accuracy: 0.7329 - val_loss: 0.5627 - val_accuracy: 0.7662\n",
            "Epoch 107/150\n",
            "62/62 [==============================] - 0s 3ms/step - loss: 0.5278 - accuracy: 0.7508 - val_loss: 0.5473 - val_accuracy: 0.7792\n",
            "Epoch 108/150\n",
            "62/62 [==============================] - 0s 2ms/step - loss: 0.5185 - accuracy: 0.7443 - val_loss: 0.5889 - val_accuracy: 0.7013\n",
            "Epoch 109/150\n",
            "62/62 [==============================] - 0s 2ms/step - loss: 0.5485 - accuracy: 0.7427 - val_loss: 0.5917 - val_accuracy: 0.7403\n",
            "Epoch 110/150\n",
            "62/62 [==============================] - 0s 2ms/step - loss: 0.5376 - accuracy: 0.7655 - val_loss: 0.5543 - val_accuracy: 0.7662\n",
            "Epoch 111/150\n",
            "62/62 [==============================] - 0s 2ms/step - loss: 0.5336 - accuracy: 0.7427 - val_loss: 0.5546 - val_accuracy: 0.7597\n",
            "Epoch 112/150\n",
            "62/62 [==============================] - 0s 2ms/step - loss: 0.5265 - accuracy: 0.7443 - val_loss: 0.5669 - val_accuracy: 0.7078\n",
            "Epoch 113/150\n",
            "62/62 [==============================] - 0s 2ms/step - loss: 0.5305 - accuracy: 0.7443 - val_loss: 0.5717 - val_accuracy: 0.7078\n",
            "Epoch 114/150\n",
            "62/62 [==============================] - 0s 2ms/step - loss: 0.5251 - accuracy: 0.7476 - val_loss: 0.5365 - val_accuracy: 0.7597\n",
            "Epoch 115/150\n",
            "62/62 [==============================] - 0s 2ms/step - loss: 0.5284 - accuracy: 0.7443 - val_loss: 0.5612 - val_accuracy: 0.7273\n",
            "Epoch 116/150\n",
            "62/62 [==============================] - 0s 3ms/step - loss: 0.5327 - accuracy: 0.7459 - val_loss: 0.5421 - val_accuracy: 0.7468\n",
            "Epoch 117/150\n",
            "62/62 [==============================] - 0s 2ms/step - loss: 0.5391 - accuracy: 0.7280 - val_loss: 0.5318 - val_accuracy: 0.7792\n",
            "Epoch 118/150\n",
            "62/62 [==============================] - 0s 2ms/step - loss: 0.5124 - accuracy: 0.7590 - val_loss: 0.6121 - val_accuracy: 0.7143\n",
            "Epoch 119/150\n",
            "62/62 [==============================] - 0s 2ms/step - loss: 0.5396 - accuracy: 0.7606 - val_loss: 0.6000 - val_accuracy: 0.6883\n",
            "Epoch 120/150\n",
            "62/62 [==============================] - 0s 3ms/step - loss: 0.5236 - accuracy: 0.7443 - val_loss: 0.5509 - val_accuracy: 0.7403\n",
            "Epoch 121/150\n",
            "62/62 [==============================] - 0s 2ms/step - loss: 0.5292 - accuracy: 0.7296 - val_loss: 0.5637 - val_accuracy: 0.7338\n",
            "Epoch 122/150\n",
            "62/62 [==============================] - 0s 2ms/step - loss: 0.5319 - accuracy: 0.7394 - val_loss: 0.5649 - val_accuracy: 0.7273\n",
            "Epoch 123/150\n",
            "62/62 [==============================] - 0s 2ms/step - loss: 0.5191 - accuracy: 0.7524 - val_loss: 0.5636 - val_accuracy: 0.7662\n",
            "Epoch 124/150\n",
            "62/62 [==============================] - 0s 2ms/step - loss: 0.5235 - accuracy: 0.7443 - val_loss: 0.5814 - val_accuracy: 0.7532\n",
            "Epoch 125/150\n",
            "62/62 [==============================] - 0s 2ms/step - loss: 0.5262 - accuracy: 0.7427 - val_loss: 0.5405 - val_accuracy: 0.7532\n",
            "Epoch 126/150\n",
            "62/62 [==============================] - 0s 2ms/step - loss: 0.5223 - accuracy: 0.7508 - val_loss: 0.5549 - val_accuracy: 0.7078\n",
            "Epoch 127/150\n",
            "62/62 [==============================] - 0s 2ms/step - loss: 0.5232 - accuracy: 0.7362 - val_loss: 0.5586 - val_accuracy: 0.7532\n",
            "Epoch 128/150\n",
            "62/62 [==============================] - 0s 2ms/step - loss: 0.5132 - accuracy: 0.7687 - val_loss: 0.5620 - val_accuracy: 0.7468\n",
            "Epoch 129/150\n",
            "62/62 [==============================] - 0s 2ms/step - loss: 0.5168 - accuracy: 0.7362 - val_loss: 0.5379 - val_accuracy: 0.7727\n",
            "Epoch 130/150\n",
            "62/62 [==============================] - 0s 2ms/step - loss: 0.5084 - accuracy: 0.7557 - val_loss: 0.5679 - val_accuracy: 0.7468\n",
            "Epoch 131/150\n",
            "62/62 [==============================] - 0s 2ms/step - loss: 0.5257 - accuracy: 0.7459 - val_loss: 0.5457 - val_accuracy: 0.7468\n",
            "Epoch 132/150\n",
            "62/62 [==============================] - 0s 2ms/step - loss: 0.5126 - accuracy: 0.7687 - val_loss: 0.5442 - val_accuracy: 0.7792\n",
            "Epoch 133/150\n",
            "62/62 [==============================] - 0s 3ms/step - loss: 0.5197 - accuracy: 0.7476 - val_loss: 0.5284 - val_accuracy: 0.7468\n",
            "Epoch 134/150\n",
            "62/62 [==============================] - 0s 2ms/step - loss: 0.5224 - accuracy: 0.7476 - val_loss: 0.5531 - val_accuracy: 0.7403\n",
            "Epoch 135/150\n",
            "62/62 [==============================] - 0s 2ms/step - loss: 0.5172 - accuracy: 0.7590 - val_loss: 0.5550 - val_accuracy: 0.7338\n",
            "Epoch 136/150\n",
            "62/62 [==============================] - 0s 2ms/step - loss: 0.5433 - accuracy: 0.7459 - val_loss: 0.5471 - val_accuracy: 0.7662\n",
            "Epoch 137/150\n",
            "62/62 [==============================] - 0s 2ms/step - loss: 0.5087 - accuracy: 0.7508 - val_loss: 0.5504 - val_accuracy: 0.7597\n",
            "Epoch 138/150\n",
            "62/62 [==============================] - 0s 3ms/step - loss: 0.5226 - accuracy: 0.7476 - val_loss: 0.5447 - val_accuracy: 0.7662\n",
            "Epoch 139/150\n",
            "62/62 [==============================] - 0s 2ms/step - loss: 0.5323 - accuracy: 0.7427 - val_loss: 0.5874 - val_accuracy: 0.6883\n",
            "Epoch 140/150\n",
            "62/62 [==============================] - 0s 2ms/step - loss: 0.5077 - accuracy: 0.7655 - val_loss: 0.5524 - val_accuracy: 0.7597\n",
            "Epoch 141/150\n",
            "62/62 [==============================] - 0s 2ms/step - loss: 0.5091 - accuracy: 0.7541 - val_loss: 0.5808 - val_accuracy: 0.7143\n",
            "Epoch 142/150\n",
            "62/62 [==============================] - 0s 2ms/step - loss: 0.5153 - accuracy: 0.7573 - val_loss: 0.6040 - val_accuracy: 0.7338\n",
            "Epoch 143/150\n",
            "62/62 [==============================] - 0s 2ms/step - loss: 0.5096 - accuracy: 0.7573 - val_loss: 0.5417 - val_accuracy: 0.7208\n",
            "Epoch 144/150\n",
            "62/62 [==============================] - 0s 2ms/step - loss: 0.5123 - accuracy: 0.7573 - val_loss: 0.5376 - val_accuracy: 0.7273\n",
            "Epoch 145/150\n",
            "62/62 [==============================] - 0s 2ms/step - loss: 0.5020 - accuracy: 0.7573 - val_loss: 0.5563 - val_accuracy: 0.7273\n",
            "Epoch 146/150\n",
            "62/62 [==============================] - 0s 2ms/step - loss: 0.5182 - accuracy: 0.7573 - val_loss: 0.5396 - val_accuracy: 0.7727\n",
            "Epoch 147/150\n",
            "62/62 [==============================] - 0s 2ms/step - loss: 0.5166 - accuracy: 0.7394 - val_loss: 0.5407 - val_accuracy: 0.7338\n",
            "Epoch 148/150\n",
            "62/62 [==============================] - 0s 2ms/step - loss: 0.5244 - accuracy: 0.7508 - val_loss: 0.5678 - val_accuracy: 0.7143\n",
            "Epoch 149/150\n",
            "62/62 [==============================] - 0s 2ms/step - loss: 0.5066 - accuracy: 0.7590 - val_loss: 0.5480 - val_accuracy: 0.7143\n",
            "Epoch 150/150\n",
            "62/62 [==============================] - 0s 2ms/step - loss: 0.5211 - accuracy: 0.7280 - val_loss: 0.5491 - val_accuracy: 0.7273\n"
          ]
        }
      ]
    },
    {
      "cell_type": "code",
      "metadata": {
        "id": "31lyImw0oLoB",
        "colab": {
          "base_uri": "https://localhost:8080/",
          "height": 295
        },
        "outputId": "a64f4a08-5677-48a7-f263-e00d46eb4fc3"
      },
      "source": [
        "# 훈련 데이터와 검증 데이터에 대한 loss 시각화.\n",
        "epochs = range(1, len(hist.history['loss']) + 1)\n",
        "\n",
        "loss_list = hist.history['loss'] #[100 * i for i in history.history['loss']]\n",
        "vloss_list = hist.history['val_loss'] #[100 * i for i in history.history['val_loss']]\n",
        "\n",
        "plt.plot(epochs,loss_list)  \n",
        "plt.plot(epochs,vloss_list)\n",
        "\n",
        "plt.plot(np.argmin(np.array(vloss_list))+1,vloss_list[np.argmin(np.array(vloss_list))], 'r*')\n",
        "plt.title('Diabetes: FCN model - val_loss, min:' + str(np.round(vloss_list[np.argmin(np.array(vloss_list))],2)))\n",
        "plt.ylabel('val-Loss (%)')\n",
        "plt.xlabel('Epoch')\n",
        "plt.legend(['loss','val_loss','best'], loc='best')\n",
        "plt.show()"
      ],
      "execution_count": 83,
      "outputs": [
        {
          "output_type": "display_data",
          "data": {
            "image/png": "[encoded data removed]",
            "text/plain": [
              "<Figure size 432x288 with 1 Axes>"
            ]
          },
          "metadata": {
            "needs_background": "light"
          }
        }
      ]
    },
    {
      "cell_type": "code",
      "metadata": {
        "id": "U88jdeiqoWID",
        "colab": {
          "base_uri": "https://localhost:8080/",
          "height": 295
        },
        "outputId": "28281e1c-e41a-4b93-e633-6e2b13e670e3"
      },
      "source": [
        "# 훈련 데이터와 검증 데이터에 대한 accuracy 시각화.\n",
        "epochs = range(1, len(hist.history['accuracy']) + 1)\n",
        "\n",
        "acc_list = [100 * i for i in hist.history['accuracy']]\n",
        "vacc_list = [100 * i for i in hist.history['val_accuracy']]\n",
        "\n",
        "plt.plot(epochs,acc_list)  \n",
        "plt.plot(epochs,vacc_list)\n",
        "\n",
        "plt.plot(np.argmax(np.array(vacc_list))+1,vacc_list[np.argmax(np.array(vacc_list))], 'r*')\n",
        "plt.title('Diabetes: FCN model - val_accuracy, max:' + str(np.round(vacc_list[np.argmax(np.array(vacc_list))],2)))\n",
        "plt.ylabel('val-Accuracy (%)')\n",
        "plt.xlabel('Epoch')\n",
        "plt.legend(['accuracy','val_accuracy','best'], loc='best')\n",
        "plt.show()"
      ],
      "execution_count": 84,
      "outputs": [
        {
          "output_type": "display_data",
          "data": {
            "image/png": "[encoded data removed]",
            "text/plain": [
              "<Figure size 432x288 with 1 Axes>"
            ]
          },
          "metadata": {
            "needs_background": "light"
          }
        }
      ]
    },
    {
      "cell_type": "code",
      "metadata": {
        "id": "i-owBe_-nLfL",
        "colab": {
          "base_uri": "https://localhost:8080/"
        },
        "outputId": "a31787a0-bbb0-405b-d5d9-aab8eb1eace3"
      },
      "source": [
        "# model performance\n",
        "model.evaluate(X_test, y_test)"
      ],
      "execution_count": 85,
      "outputs": [
        {
          "output_type": "stream",
          "name": "stdout",
          "text": [
            "5/5 [==============================] - 0s 2ms/step - loss: 0.5491 - accuracy: 0.7273\n"
          ]
        },
        {
          "output_type": "execute_result",
          "data": {
            "text/plain": [
              "[0.5491381883621216, 0.7272727489471436]"
            ]
          },
          "metadata": {},
          "execution_count": 85
        }
      ]
    },
    {
      "cell_type": "markdown",
      "metadata": {
        "id": "Rq_lMBiv6NQl"
      },
      "source": [
        "## Predictiion of the train data"
      ]
    },
    {
      "cell_type": "code",
      "metadata": {
        "id": "cv0lPPtdbZIt",
        "colab": {
          "base_uri": "https://localhost:8080/"
        },
        "outputId": "2312d9a3-afbb-4106-c0b6-f7a853dcf5bb"
      },
      "source": [
        "y_train[:5],y_train.shape"
      ],
      "execution_count": 86,
      "outputs": [
        {
          "output_type": "execute_result",
          "data": {
            "text/plain": [
              "(array([0, 1, 1, 0, 0]), (614,))"
            ]
          },
          "metadata": {},
          "execution_count": 86
        }
      ]
    },
    {
      "cell_type": "code",
      "metadata": {
        "id": "u10xb1P7b-QT",
        "colab": {
          "base_uri": "https://localhost:8080/"
        },
        "outputId": "576848a9-7a93-4229-f3c7-757c2a7d23fc"
      },
      "source": [
        "model.predict(X_train)[0:5],[int(np.round(prob)) for prob in model.predict(X_train)[0:5]]"
      ],
      "execution_count": 87,
      "outputs": [
        {
          "output_type": "execute_result",
          "data": {
            "text/plain": [
              "(array([[0.24493968],\n",
              "        [0.60369086],\n",
              "        [0.6385635 ],\n",
              "        [0.08611673],\n",
              "        [0.14762789]], dtype=float32), [0, 1, 1, 0, 0])"
            ]
          },
          "metadata": {},
          "execution_count": 87
        }
      ]
    },
    {
      "cell_type": "markdown",
      "metadata": {
        "id": "z3Nmb5PQ5wMS"
      },
      "source": [
        "## Predictiion of the test data"
      ]
    },
    {
      "cell_type": "code",
      "metadata": {
        "id": "p88uIn2gdA_E",
        "colab": {
          "base_uri": "https://localhost:8080/"
        },
        "outputId": "e2b01b14-a0e6-427c-a235-8095ecd17906"
      },
      "source": [
        "# Prediction of the test data\n",
        "print(y_test[:10])\n",
        "model.predict(X_test)[0:10],[int(np.round(prob)) for prob in model.predict(X_test)[0:10]]"
      ],
      "execution_count": 88,
      "outputs": [
        {
          "output_type": "stream",
          "name": "stdout",
          "text": [
            "[0 0 1 1 0 0 0 0 1 0]\n"
          ]
        },
        {
          "output_type": "execute_result",
          "data": {
            "text/plain": [
              "(array([[0.10310945],\n",
              "        [0.22732303],\n",
              "        [0.44497377],\n",
              "        [0.3988219 ],\n",
              "        [0.18157223],\n",
              "        [0.5887275 ],\n",
              "        [0.43886495],\n",
              "        [0.19572264],\n",
              "        [0.5266051 ],\n",
              "        [0.22186834]], dtype=float32), [0, 0, 0, 0, 0, 1, 0, 0, 1, 0])"
            ]
          },
          "metadata": {},
          "execution_count": 88
        }
      ]
    },
    {
      "cell_type": "code",
      "metadata": {
        "id": "SgqKqqux6wBc"
      },
      "source": [
        "# y_test[:10]==[int(np.round(prob)) for prob in model.predict(X_test)[0:10]]"
      ],
      "execution_count": 89,
      "outputs": []
    },
    {
      "cell_type": "code",
      "metadata": {
        "id": "8C7SkexxkS5c",
        "colab": {
          "base_uri": "https://localhost:8080/"
        },
        "outputId": "bea012a0-cfb4-4729-f9ca-579f6fdd0264"
      },
      "source": [
        "# make class predictions for test data with the model\n",
        "predictions = [int(np.round(prob)) for prob in model.predict(X_test)]\n",
        "predictions[:10]"
      ],
      "execution_count": 90,
      "outputs": [
        {
          "output_type": "execute_result",
          "data": {
            "text/plain": [
              "[0, 0, 0, 0, 0, 1, 0, 0, 1, 0]"
            ]
          },
          "metadata": {},
          "execution_count": 90
        }
      ]
    },
    {
      "cell_type": "code",
      "metadata": {
        "id": "-l8Or1_8YV8H",
        "colab": {
          "base_uri": "https://localhost:8080/"
        },
        "outputId": "cc647ed0-0add-488f-957c-8663479086d7"
      },
      "source": [
        "# summarize the first 10 cases in testset\n",
        "for i in range(10):\n",
        "   print('%s => %d (expected %d)' % (X_test[i], predictions[i], y_test[i]))"
      ],
      "execution_count": 91,
      "outputs": [
        {
          "output_type": "stream",
          "name": "stdout",
          "text": [
            "[  0.    113.     80.     16.      0.     31.      0.874  21.   ] => 0 (expected 0)\n",
            "[  3.    180.     64.     25.     70.     34.      0.271  26.   ] => 0 (expected 0)\n",
            "[  7.    114.     64.      0.      0.     27.4     0.732  34.   ] => 0 (expected 1)\n",
            "[  1.    125.     50.     40.    167.     33.3     0.962  28.   ] => 0 (expected 1)\n",
            "[  2.    120.     76.     37.    105.     39.7     0.215  29.   ] => 0 (expected 0)\n",
            "[  2.    128.     64.     42.      0.     40.      1.101  24.   ] => 1 (expected 0)\n",
            "[  4.    137.     84.      0.      0.     31.2     0.252  30.   ] => 0 (expected 0)\n",
            "[  3.   103.    72.    30.   152.    27.6    0.73  27.  ] => 0 (expected 0)\n",
            "[  6.    190.     92.      0.      0.     35.5     0.278  66.   ] => 1 (expected 1)\n",
            "[  1.    109.     56.     21.    135.     25.2     0.833  23.   ] => 0 (expected 0)\n"
          ]
        }
      ]
    },
    {
      "cell_type": "markdown",
      "metadata": {
        "id": "zCh-95EO_-17"
      },
      "source": [
        "### Confusion matrix"
      ]
    },
    {
      "cell_type": "code",
      "metadata": {
        "id": "i4QJwcVvADpU"
      },
      "source": [
        "import seaborn as sns\n",
        "from sklearn.metrics import confusion_matrix, classification_report"
      ],
      "execution_count": 92,
      "outputs": []
    },
    {
      "cell_type": "code",
      "metadata": {
        "id": "PWrAwg5cH8gE",
        "colab": {
          "base_uri": "https://localhost:8080/"
        },
        "outputId": "85e3b0ae-3eb8-49fb-e59a-f6c5677f60c7"
      },
      "source": [
        "print(classification_report(y_test, predictions)) "
      ],
      "execution_count": 93,
      "outputs": [
        {
          "output_type": "stream",
          "name": "stdout",
          "text": [
            "              precision    recall  f1-score   support\n",
            "\n",
            "           0       0.74      0.89      0.81        99\n",
            "           1       0.69      0.44      0.53        55\n",
            "\n",
            "    accuracy                           0.73       154\n",
            "   macro avg       0.71      0.66      0.67       154\n",
            "weighted avg       0.72      0.73      0.71       154\n",
            "\n"
          ]
        }
      ]
    },
    {
      "cell_type": "code",
      "metadata": {
        "id": "hiPMQeYXt12l"
      },
      "source": [
        "cm = confusion_matrix(y_test, predictions)"
      ],
      "execution_count": 94,
      "outputs": []
    },
    {
      "cell_type": "code",
      "metadata": {
        "id": "YITaGwYjvatc"
      },
      "source": [
        "class_names = ['noDM','DM']"
      ],
      "execution_count": 95,
      "outputs": []
    },
    {
      "cell_type": "code",
      "metadata": {
        "id": "2qGHMNU3u8ut",
        "colab": {
          "base_uri": "https://localhost:8080/",
          "height": 334
        },
        "outputId": "2b74a869-52a7-49e3-805a-a4f38aa03c43"
      },
      "source": [
        "plt.figure(figsize=(5,5))\n",
        "sns.heatmap(cm, cbar=False, xticklabels=class_names, yticklabels=class_names, fmt='d', annot=True, cmap=plt.cm.coolwarm)\n",
        "plt.xlabel('Predicted')\n",
        "plt.ylabel('Actual')\n",
        "plt.show()"
      ],
      "execution_count": 96,
      "outputs": [
        {
          "output_type": "display_data",
          "data": {
            "image/png": "[encoded data removed]",
            "text/plain": [
              "<Figure size 360x360 with 1 Axes>"
            ]
          },
          "metadata": {
            "needs_background": "light"
          }
        }
      ]
    },
    {
      "cell_type": "markdown",
      "metadata": {
        "id": "xG6RmEh-rECP"
      },
      "source": [
        "## [DIY-1] Save the best model\n",
        "- hdf5 file"
      ]
    },
    {
      "cell_type": "code",
      "metadata": {
        "id": "UVgMnQNMrqL4"
      },
      "source": [
        "# set random number seed\n",
        "np.random.seed(1234)\n",
        "tf.random.set_seed(1234)\n",
        "# define the keras model\n",
        "model2 = Sequential([\n",
        "    Dense(12, input_dim=8, activation='relu'),  # 1st hidden layer \n",
        "    Dense(8, activation='relu'), \n",
        "    Dense(1, activation='sigmoid')                 \n",
        "])\n",
        "# compile the keras model\n",
        "model2.compile(loss='binary_crossentropy', \n",
        "              optimizer='adam', \n",
        "              metrics=['accuracy'])\n"
      ],
      "execution_count": 97,
      "outputs": []
    },
    {
      "cell_type": "markdown",
      "metadata": {
        "id": "JjB5zR4vsUHw"
      },
      "source": [
        "### callbacks"
      ]
    },
    {
      "cell_type": "code",
      "metadata": {
        "id": "V20fWcM4sTAk"
      },
      "source": [
        "cp_callback = callbacks.ModelCheckpoint(filepath=\"./diabetes_DL_best_weights.{epoch:03d}-{val_accuracy:.3f}.hdf5\", \n",
        "                              monitor='val_accuracy', verbose=0, save_best_only=True)\n",
        "es_callback = callbacks.EarlyStopping(monitor='val_accuracy', \n",
        "                            mode='max', verbose=1, patience=50)    # patience=10, 20, 50"
      ],
      "execution_count": 98,
      "outputs": []
    },
    {
      "cell_type": "code",
      "metadata": {
        "id": "hjNTHDcurqL5",
        "colab": {
          "base_uri": "https://localhost:8080/"
        },
        "outputId": "222a6c88-7a9c-48dd-e0e4-0cf72cf5923c"
      },
      "source": [
        "# fit the keras model on the dataset\n",
        "hist = model2.fit(X_train, y_train, epochs=500, batch_size=10, verbose=1, \n",
        "                  callbacks=[cp_callback, es_callback], \n",
        "                  validation_data=(X_test, y_test))\n"
      ],
      "execution_count": 99,
      "outputs": [
        {
          "output_type": "stream",
          "name": "stdout",
          "text": [
            "Epoch 1/500\n",
            "62/62 [==============================] - 1s 5ms/step - loss: 7.5488 - accuracy: 0.5537 - val_loss: 3.4242 - val_accuracy: 0.6429\n",
            "Epoch 2/500\n",
            "62/62 [==============================] - 0s 2ms/step - loss: 2.4032 - accuracy: 0.5928 - val_loss: 1.7341 - val_accuracy: 0.6234\n",
            "Epoch 3/500\n",
            "62/62 [==============================] - 0s 2ms/step - loss: 1.2483 - accuracy: 0.5717 - val_loss: 0.9172 - val_accuracy: 0.6364\n",
            "Epoch 4/500\n",
            "62/62 [==============================] - 0s 2ms/step - loss: 0.7927 - accuracy: 0.6156 - val_loss: 0.8362 - val_accuracy: 0.6039\n",
            "Epoch 5/500\n",
            "62/62 [==============================] - 0s 3ms/step - loss: 0.7411 - accuracy: 0.6270 - val_loss: 0.7949 - val_accuracy: 0.6558\n",
            "Epoch 6/500\n",
            "62/62 [==============================] - 0s 3ms/step - loss: 0.7469 - accuracy: 0.6417 - val_loss: 0.7583 - val_accuracy: 0.6039\n",
            "Epoch 7/500\n",
            "62/62 [==============================] - 0s 3ms/step - loss: 0.7345 - accuracy: 0.6678 - val_loss: 0.7421 - val_accuracy: 0.6494\n",
            "Epoch 8/500\n",
            "62/62 [==============================] - 0s 2ms/step - loss: 0.6903 - accuracy: 0.6596 - val_loss: 0.7094 - val_accuracy: 0.6753\n",
            "Epoch 9/500\n",
            "62/62 [==============================] - 0s 2ms/step - loss: 0.6682 - accuracy: 0.6759 - val_loss: 0.7268 - val_accuracy: 0.6494\n",
            "Epoch 10/500\n",
            "62/62 [==============================] - 0s 3ms/step - loss: 0.6674 - accuracy: 0.6808 - val_loss: 0.7105 - val_accuracy: 0.6948\n",
            "Epoch 11/500\n",
            "62/62 [==============================] - 0s 3ms/step - loss: 0.6649 - accuracy: 0.6857 - val_loss: 0.6797 - val_accuracy: 0.7078\n",
            "Epoch 12/500\n",
            "62/62 [==============================] - 0s 2ms/step - loss: 0.6412 - accuracy: 0.6906 - val_loss: 0.6999 - val_accuracy: 0.6883\n",
            "Epoch 13/500\n",
            "62/62 [==============================] - 0s 2ms/step - loss: 0.6500 - accuracy: 0.6906 - val_loss: 0.7037 - val_accuracy: 0.7013\n",
            "Epoch 14/500\n",
            "62/62 [==============================] - 0s 2ms/step - loss: 0.6318 - accuracy: 0.6840 - val_loss: 0.6887 - val_accuracy: 0.7013\n",
            "Epoch 15/500\n",
            "62/62 [==============================] - 0s 2ms/step - loss: 0.6307 - accuracy: 0.7003 - val_loss: 0.6818 - val_accuracy: 0.7143\n",
            "Epoch 16/500\n",
            "62/62 [==============================] - 0s 2ms/step - loss: 0.6286 - accuracy: 0.6824 - val_loss: 0.7239 - val_accuracy: 0.6883\n",
            "Epoch 17/500\n",
            "62/62 [==============================] - 0s 2ms/step - loss: 0.6313 - accuracy: 0.6792 - val_loss: 0.6693 - val_accuracy: 0.7208\n",
            "Epoch 18/500\n",
            "62/62 [==============================] - 0s 3ms/step - loss: 0.6203 - accuracy: 0.6792 - val_loss: 0.6720 - val_accuracy: 0.7338\n",
            "Epoch 19/500\n",
            "62/62 [==============================] - 0s 2ms/step - loss: 0.6161 - accuracy: 0.7003 - val_loss: 0.7213 - val_accuracy: 0.6429\n",
            "Epoch 20/500\n",
            "62/62 [==============================] - 0s 2ms/step - loss: 0.6238 - accuracy: 0.6824 - val_loss: 0.6789 - val_accuracy: 0.7013\n",
            "Epoch 21/500\n",
            "62/62 [==============================] - 0s 2ms/step - loss: 0.6151 - accuracy: 0.6857 - val_loss: 0.6682 - val_accuracy: 0.6818\n",
            "Epoch 22/500\n",
            "62/62 [==============================] - 0s 2ms/step - loss: 0.6036 - accuracy: 0.6906 - val_loss: 0.6549 - val_accuracy: 0.7338\n",
            "Epoch 23/500\n",
            "62/62 [==============================] - 0s 2ms/step - loss: 0.5994 - accuracy: 0.6987 - val_loss: 0.7083 - val_accuracy: 0.6883\n",
            "Epoch 24/500\n",
            "62/62 [==============================] - 0s 2ms/step - loss: 0.6025 - accuracy: 0.7020 - val_loss: 0.6435 - val_accuracy: 0.7338\n",
            "Epoch 25/500\n",
            "62/62 [==============================] - 0s 2ms/step - loss: 0.6122 - accuracy: 0.6840 - val_loss: 0.6563 - val_accuracy: 0.7208\n",
            "Epoch 26/500\n",
            "62/62 [==============================] - 0s 2ms/step - loss: 0.6095 - accuracy: 0.7003 - val_loss: 0.6318 - val_accuracy: 0.7338\n",
            "Epoch 27/500\n",
            "62/62 [==============================] - 0s 2ms/step - loss: 0.5984 - accuracy: 0.7036 - val_loss: 0.6296 - val_accuracy: 0.7208\n",
            "Epoch 28/500\n",
            "62/62 [==============================] - 0s 2ms/step - loss: 0.5947 - accuracy: 0.7068 - val_loss: 0.6392 - val_accuracy: 0.7208\n",
            "Epoch 29/500\n",
            "62/62 [==============================] - 0s 2ms/step - loss: 0.5834 - accuracy: 0.7182 - val_loss: 0.6080 - val_accuracy: 0.7338\n",
            "Epoch 30/500\n",
            "62/62 [==============================] - 0s 2ms/step - loss: 0.6034 - accuracy: 0.7068 - val_loss: 0.6243 - val_accuracy: 0.6753\n",
            "Epoch 31/500\n",
            "62/62 [==============================] - 0s 2ms/step - loss: 0.5806 - accuracy: 0.7117 - val_loss: 0.6360 - val_accuracy: 0.7013\n",
            "Epoch 32/500\n",
            "62/62 [==============================] - 0s 2ms/step - loss: 0.6131 - accuracy: 0.7003 - val_loss: 0.6282 - val_accuracy: 0.6948\n",
            "Epoch 33/500\n",
            "62/62 [==============================] - 0s 2ms/step - loss: 0.5764 - accuracy: 0.7182 - val_loss: 0.6325 - val_accuracy: 0.7078\n",
            "Epoch 34/500\n",
            "62/62 [==============================] - 0s 3ms/step - loss: 0.5900 - accuracy: 0.7036 - val_loss: 0.5916 - val_accuracy: 0.7403\n",
            "Epoch 35/500\n",
            "62/62 [==============================] - 0s 2ms/step - loss: 0.6035 - accuracy: 0.7068 - val_loss: 0.6631 - val_accuracy: 0.7273\n",
            "Epoch 36/500\n",
            "62/62 [==============================] - 0s 2ms/step - loss: 0.6082 - accuracy: 0.6938 - val_loss: 0.5929 - val_accuracy: 0.7403\n",
            "Epoch 37/500\n",
            "62/62 [==============================] - 0s 2ms/step - loss: 0.5878 - accuracy: 0.6922 - val_loss: 0.5913 - val_accuracy: 0.7597\n",
            "Epoch 38/500\n",
            "62/62 [==============================] - 0s 2ms/step - loss: 0.5684 - accuracy: 0.7329 - val_loss: 0.6069 - val_accuracy: 0.7532\n",
            "Epoch 39/500\n",
            "62/62 [==============================] - 0s 2ms/step - loss: 0.5741 - accuracy: 0.7068 - val_loss: 0.6109 - val_accuracy: 0.7013\n",
            "Epoch 40/500\n",
            "62/62 [==============================] - 0s 2ms/step - loss: 0.5954 - accuracy: 0.7101 - val_loss: 0.6207 - val_accuracy: 0.6818\n",
            "Epoch 41/500\n",
            "62/62 [==============================] - 0s 2ms/step - loss: 0.5824 - accuracy: 0.7199 - val_loss: 0.5673 - val_accuracy: 0.7468\n",
            "Epoch 42/500\n",
            "62/62 [==============================] - 0s 2ms/step - loss: 0.5984 - accuracy: 0.7150 - val_loss: 0.5938 - val_accuracy: 0.7143\n",
            "Epoch 43/500\n",
            "62/62 [==============================] - 0s 2ms/step - loss: 0.5876 - accuracy: 0.7068 - val_loss: 0.6174 - val_accuracy: 0.6818\n",
            "Epoch 44/500\n",
            "62/62 [==============================] - 0s 3ms/step - loss: 0.5810 - accuracy: 0.7068 - val_loss: 0.5890 - val_accuracy: 0.7662\n",
            "Epoch 45/500\n",
            "62/62 [==============================] - 0s 2ms/step - loss: 0.5886 - accuracy: 0.6759 - val_loss: 0.5818 - val_accuracy: 0.7208\n",
            "Epoch 46/500\n",
            "62/62 [==============================] - 0s 2ms/step - loss: 0.5667 - accuracy: 0.7117 - val_loss: 0.5979 - val_accuracy: 0.6948\n",
            "Epoch 47/500\n",
            "62/62 [==============================] - 0s 2ms/step - loss: 0.5781 - accuracy: 0.7101 - val_loss: 0.6123 - val_accuracy: 0.7143\n",
            "Epoch 48/500\n",
            "62/62 [==============================] - 0s 2ms/step - loss: 0.5651 - accuracy: 0.7101 - val_loss: 0.5876 - val_accuracy: 0.7143\n",
            "Epoch 49/500\n",
            "62/62 [==============================] - 0s 2ms/step - loss: 0.5693 - accuracy: 0.7264 - val_loss: 0.6246 - val_accuracy: 0.6688\n",
            "Epoch 50/500\n",
            "62/62 [==============================] - 0s 2ms/step - loss: 0.5621 - accuracy: 0.7215 - val_loss: 0.5905 - val_accuracy: 0.7532\n",
            "Epoch 51/500\n",
            "62/62 [==============================] - 0s 3ms/step - loss: 0.5733 - accuracy: 0.7166 - val_loss: 0.5670 - val_accuracy: 0.7597\n",
            "Epoch 52/500\n",
            "62/62 [==============================] - 0s 2ms/step - loss: 0.5617 - accuracy: 0.7296 - val_loss: 0.5888 - val_accuracy: 0.6948\n",
            "Epoch 53/500\n",
            "62/62 [==============================] - 0s 2ms/step - loss: 0.5530 - accuracy: 0.7101 - val_loss: 0.5597 - val_accuracy: 0.7727\n",
            "Epoch 54/500\n",
            "62/62 [==============================] - 0s 2ms/step - loss: 0.5893 - accuracy: 0.7052 - val_loss: 0.5958 - val_accuracy: 0.7468\n",
            "Epoch 55/500\n",
            "62/62 [==============================] - 0s 2ms/step - loss: 0.5589 - accuracy: 0.7215 - val_loss: 0.5919 - val_accuracy: 0.7078\n",
            "Epoch 56/500\n",
            "62/62 [==============================] - 0s 3ms/step - loss: 0.5539 - accuracy: 0.7362 - val_loss: 0.5760 - val_accuracy: 0.7727\n",
            "Epoch 57/500\n",
            "62/62 [==============================] - 0s 2ms/step - loss: 0.5635 - accuracy: 0.7248 - val_loss: 0.5729 - val_accuracy: 0.7662\n",
            "Epoch 58/500\n",
            "62/62 [==============================] - 0s 2ms/step - loss: 0.5618 - accuracy: 0.7362 - val_loss: 0.5589 - val_accuracy: 0.7727\n",
            "Epoch 59/500\n",
            "62/62 [==============================] - 0s 2ms/step - loss: 0.6002 - accuracy: 0.6889 - val_loss: 0.6217 - val_accuracy: 0.6688\n",
            "Epoch 60/500\n",
            "62/62 [==============================] - 0s 2ms/step - loss: 0.5592 - accuracy: 0.7231 - val_loss: 0.5807 - val_accuracy: 0.7468\n",
            "Epoch 61/500\n",
            "62/62 [==============================] - 0s 2ms/step - loss: 0.5641 - accuracy: 0.7215 - val_loss: 0.6483 - val_accuracy: 0.6623\n",
            "Epoch 62/500\n",
            "62/62 [==============================] - 0s 2ms/step - loss: 0.5702 - accuracy: 0.7199 - val_loss: 0.6013 - val_accuracy: 0.7468\n",
            "Epoch 63/500\n",
            "62/62 [==============================] - 0s 2ms/step - loss: 0.5584 - accuracy: 0.7199 - val_loss: 0.5877 - val_accuracy: 0.7338\n",
            "Epoch 64/500\n",
            "62/62 [==============================] - 0s 3ms/step - loss: 0.5501 - accuracy: 0.7362 - val_loss: 0.5672 - val_accuracy: 0.7078\n",
            "Epoch 65/500\n",
            "62/62 [==============================] - 0s 2ms/step - loss: 0.5605 - accuracy: 0.7345 - val_loss: 0.5795 - val_accuracy: 0.7078\n",
            "Epoch 66/500\n",
            "62/62 [==============================] - 0s 2ms/step - loss: 0.5573 - accuracy: 0.7199 - val_loss: 0.5828 - val_accuracy: 0.7143\n",
            "Epoch 67/500\n",
            "62/62 [==============================] - 0s 3ms/step - loss: 0.5506 - accuracy: 0.7329 - val_loss: 0.5579 - val_accuracy: 0.7727\n",
            "Epoch 68/500\n",
            "62/62 [==============================] - 0s 2ms/step - loss: 0.5421 - accuracy: 0.7248 - val_loss: 0.5811 - val_accuracy: 0.7013\n",
            "Epoch 69/500\n",
            "62/62 [==============================] - 0s 2ms/step - loss: 0.5614 - accuracy: 0.7231 - val_loss: 0.5646 - val_accuracy: 0.7727\n",
            "Epoch 70/500\n",
            "62/62 [==============================] - 0s 2ms/step - loss: 0.5529 - accuracy: 0.7280 - val_loss: 0.5968 - val_accuracy: 0.7727\n",
            "Epoch 71/500\n",
            "62/62 [==============================] - 0s 2ms/step - loss: 0.5598 - accuracy: 0.7296 - val_loss: 0.5612 - val_accuracy: 0.7662\n",
            "Epoch 72/500\n",
            "62/62 [==============================] - 0s 2ms/step - loss: 0.5531 - accuracy: 0.7427 - val_loss: 0.5866 - val_accuracy: 0.7143\n",
            "Epoch 73/500\n",
            "62/62 [==============================] - 0s 2ms/step - loss: 0.5603 - accuracy: 0.7329 - val_loss: 0.5880 - val_accuracy: 0.6688\n",
            "Epoch 74/500\n",
            "62/62 [==============================] - 0s 2ms/step - loss: 0.5604 - accuracy: 0.7231 - val_loss: 0.5744 - val_accuracy: 0.7662\n",
            "Epoch 75/500\n",
            "62/62 [==============================] - 0s 3ms/step - loss: 0.5599 - accuracy: 0.7215 - val_loss: 0.5584 - val_accuracy: 0.7792\n",
            "Epoch 76/500\n",
            "62/62 [==============================] - 0s 2ms/step - loss: 0.5403 - accuracy: 0.7313 - val_loss: 0.5558 - val_accuracy: 0.7727\n",
            "Epoch 77/500\n",
            "62/62 [==============================] - 0s 2ms/step - loss: 0.5494 - accuracy: 0.7280 - val_loss: 0.5579 - val_accuracy: 0.7727\n",
            "Epoch 78/500\n",
            "62/62 [==============================] - 0s 2ms/step - loss: 0.5322 - accuracy: 0.7231 - val_loss: 0.5876 - val_accuracy: 0.7273\n",
            "Epoch 79/500\n",
            "62/62 [==============================] - 0s 2ms/step - loss: 0.5516 - accuracy: 0.7329 - val_loss: 0.5546 - val_accuracy: 0.7662\n",
            "Epoch 80/500\n",
            "62/62 [==============================] - 0s 2ms/step - loss: 0.5383 - accuracy: 0.7394 - val_loss: 0.5845 - val_accuracy: 0.7597\n",
            "Epoch 81/500\n",
            "62/62 [==============================] - 0s 2ms/step - loss: 0.5460 - accuracy: 0.7508 - val_loss: 0.6314 - val_accuracy: 0.6623\n",
            "Epoch 82/500\n",
            "62/62 [==============================] - 0s 2ms/step - loss: 0.5480 - accuracy: 0.7345 - val_loss: 0.5728 - val_accuracy: 0.7597\n",
            "Epoch 83/500\n",
            "62/62 [==============================] - 0s 2ms/step - loss: 0.5719 - accuracy: 0.7068 - val_loss: 0.5533 - val_accuracy: 0.7727\n",
            "Epoch 84/500\n",
            "62/62 [==============================] - 0s 2ms/step - loss: 0.5568 - accuracy: 0.7166 - val_loss: 0.5641 - val_accuracy: 0.7468\n",
            "Epoch 85/500\n",
            "62/62 [==============================] - 0s 3ms/step - loss: 0.5415 - accuracy: 0.7313 - val_loss: 0.5658 - val_accuracy: 0.7727\n",
            "Epoch 86/500\n",
            "62/62 [==============================] - 0s 2ms/step - loss: 0.5462 - accuracy: 0.7280 - val_loss: 0.5638 - val_accuracy: 0.7532\n",
            "Epoch 87/500\n",
            "62/62 [==============================] - 0s 2ms/step - loss: 0.5435 - accuracy: 0.7394 - val_loss: 0.5611 - val_accuracy: 0.7597\n",
            "Epoch 88/500\n",
            "62/62 [==============================] - 0s 2ms/step - loss: 0.5724 - accuracy: 0.7329 - val_loss: 0.5516 - val_accuracy: 0.7857\n",
            "Epoch 89/500\n",
            "62/62 [==============================] - 0s 2ms/step - loss: 0.5496 - accuracy: 0.7394 - val_loss: 0.5494 - val_accuracy: 0.7727\n",
            "Epoch 90/500\n",
            "62/62 [==============================] - 0s 2ms/step - loss: 0.5338 - accuracy: 0.7394 - val_loss: 0.5619 - val_accuracy: 0.7597\n",
            "Epoch 91/500\n",
            "62/62 [==============================] - 0s 2ms/step - loss: 0.5348 - accuracy: 0.7329 - val_loss: 0.5638 - val_accuracy: 0.7597\n",
            "Epoch 92/500\n",
            "62/62 [==============================] - 0s 3ms/step - loss: 0.5549 - accuracy: 0.7264 - val_loss: 0.5633 - val_accuracy: 0.7727\n",
            "Epoch 93/500\n",
            "62/62 [==============================] - 0s 2ms/step - loss: 0.5452 - accuracy: 0.7313 - val_loss: 0.5431 - val_accuracy: 0.7532\n",
            "Epoch 94/500\n",
            "62/62 [==============================] - 0s 3ms/step - loss: 0.5436 - accuracy: 0.7313 - val_loss: 0.5623 - val_accuracy: 0.7597\n",
            "Epoch 95/500\n",
            "62/62 [==============================] - 0s 2ms/step - loss: 0.5659 - accuracy: 0.7052 - val_loss: 0.6569 - val_accuracy: 0.6364\n",
            "Epoch 96/500\n",
            "62/62 [==============================] - 0s 2ms/step - loss: 0.5359 - accuracy: 0.7443 - val_loss: 0.5668 - val_accuracy: 0.7532\n",
            "Epoch 97/500\n",
            "62/62 [==============================] - 0s 2ms/step - loss: 0.5583 - accuracy: 0.7117 - val_loss: 0.5493 - val_accuracy: 0.7338\n",
            "Epoch 98/500\n",
            "62/62 [==============================] - 0s 2ms/step - loss: 0.5493 - accuracy: 0.7345 - val_loss: 0.6043 - val_accuracy: 0.7013\n",
            "Epoch 99/500\n",
            "62/62 [==============================] - 0s 2ms/step - loss: 0.5461 - accuracy: 0.7313 - val_loss: 0.5499 - val_accuracy: 0.7662\n",
            "Epoch 100/500\n",
            "62/62 [==============================] - 0s 2ms/step - loss: 0.5304 - accuracy: 0.7378 - val_loss: 0.5766 - val_accuracy: 0.7662\n",
            "Epoch 101/500\n",
            "62/62 [==============================] - 0s 2ms/step - loss: 0.5395 - accuracy: 0.7280 - val_loss: 0.5749 - val_accuracy: 0.7013\n",
            "Epoch 102/500\n",
            "62/62 [==============================] - 0s 3ms/step - loss: 0.5407 - accuracy: 0.7345 - val_loss: 0.5545 - val_accuracy: 0.7662\n",
            "Epoch 103/500\n",
            "62/62 [==============================] - 0s 3ms/step - loss: 0.5394 - accuracy: 0.7427 - val_loss: 0.5489 - val_accuracy: 0.7727\n",
            "Epoch 104/500\n",
            "62/62 [==============================] - 0s 3ms/step - loss: 0.5302 - accuracy: 0.7215 - val_loss: 0.5549 - val_accuracy: 0.7532\n",
            "Epoch 105/500\n",
            "62/62 [==============================] - 0s 2ms/step - loss: 0.5354 - accuracy: 0.7427 - val_loss: 0.5507 - val_accuracy: 0.7662\n",
            "Epoch 106/500\n",
            "62/62 [==============================] - 0s 3ms/step - loss: 0.5386 - accuracy: 0.7329 - val_loss: 0.5627 - val_accuracy: 0.7662\n",
            "Epoch 107/500\n",
            "62/62 [==============================] - 0s 2ms/step - loss: 0.5278 - accuracy: 0.7508 - val_loss: 0.5473 - val_accuracy: 0.7792\n",
            "Epoch 108/500\n",
            "62/62 [==============================] - 0s 2ms/step - loss: 0.5185 - accuracy: 0.7443 - val_loss: 0.5889 - val_accuracy: 0.7013\n",
            "Epoch 109/500\n",
            "62/62 [==============================] - 0s 2ms/step - loss: 0.5485 - accuracy: 0.7427 - val_loss: 0.5917 - val_accuracy: 0.7403\n",
            "Epoch 110/500\n",
            "62/62 [==============================] - 0s 2ms/step - loss: 0.5376 - accuracy: 0.7655 - val_loss: 0.5543 - val_accuracy: 0.7662\n",
            "Epoch 111/500\n",
            "62/62 [==============================] - 0s 3ms/step - loss: 0.5336 - accuracy: 0.7427 - val_loss: 0.5546 - val_accuracy: 0.7597\n",
            "Epoch 112/500\n",
            "62/62 [==============================] - 0s 2ms/step - loss: 0.5265 - accuracy: 0.7443 - val_loss: 0.5669 - val_accuracy: 0.7078\n",
            "Epoch 113/500\n",
            "62/62 [==============================] - 0s 2ms/step - loss: 0.5305 - accuracy: 0.7443 - val_loss: 0.5717 - val_accuracy: 0.7078\n",
            "Epoch 114/500\n",
            "62/62 [==============================] - 0s 2ms/step - loss: 0.5251 - accuracy: 0.7476 - val_loss: 0.5365 - val_accuracy: 0.7597\n",
            "Epoch 115/500\n",
            "62/62 [==============================] - 0s 2ms/step - loss: 0.5284 - accuracy: 0.7443 - val_loss: 0.5612 - val_accuracy: 0.7273\n",
            "Epoch 116/500\n",
            "62/62 [==============================] - 0s 2ms/step - loss: 0.5327 - accuracy: 0.7459 - val_loss: 0.5421 - val_accuracy: 0.7468\n",
            "Epoch 117/500\n",
            "62/62 [==============================] - 0s 2ms/step - loss: 0.5391 - accuracy: 0.7280 - val_loss: 0.5318 - val_accuracy: 0.7792\n",
            "Epoch 118/500\n",
            "62/62 [==============================] - 0s 3ms/step - loss: 0.5124 - accuracy: 0.7590 - val_loss: 0.6121 - val_accuracy: 0.7143\n",
            "Epoch 119/500\n",
            "62/62 [==============================] - 0s 2ms/step - loss: 0.5396 - accuracy: 0.7606 - val_loss: 0.6000 - val_accuracy: 0.6883\n",
            "Epoch 120/500\n",
            "62/62 [==============================] - 0s 2ms/step - loss: 0.5236 - accuracy: 0.7443 - val_loss: 0.5509 - val_accuracy: 0.7403\n",
            "Epoch 121/500\n",
            "62/62 [==============================] - 0s 2ms/step - loss: 0.5292 - accuracy: 0.7296 - val_loss: 0.5637 - val_accuracy: 0.7338\n",
            "Epoch 122/500\n",
            "62/62 [==============================] - 0s 2ms/step - loss: 0.5319 - accuracy: 0.7394 - val_loss: 0.5649 - val_accuracy: 0.7273\n",
            "Epoch 123/500\n",
            "62/62 [==============================] - 0s 2ms/step - loss: 0.5191 - accuracy: 0.7524 - val_loss: 0.5636 - val_accuracy: 0.7662\n",
            "Epoch 124/500\n",
            "62/62 [==============================] - 0s 2ms/step - loss: 0.5235 - accuracy: 0.7443 - val_loss: 0.5814 - val_accuracy: 0.7532\n",
            "Epoch 125/500\n",
            "62/62 [==============================] - 0s 2ms/step - loss: 0.5262 - accuracy: 0.7427 - val_loss: 0.5405 - val_accuracy: 0.7532\n",
            "Epoch 126/500\n",
            "62/62 [==============================] - 0s 2ms/step - loss: 0.5223 - accuracy: 0.7508 - val_loss: 0.5549 - val_accuracy: 0.7078\n",
            "Epoch 127/500\n",
            "62/62 [==============================] - 0s 3ms/step - loss: 0.5232 - accuracy: 0.7362 - val_loss: 0.5586 - val_accuracy: 0.7532\n",
            "Epoch 128/500\n",
            "62/62 [==============================] - 0s 2ms/step - loss: 0.5132 - accuracy: 0.7687 - val_loss: 0.5620 - val_accuracy: 0.7468\n",
            "Epoch 129/500\n",
            "62/62 [==============================] - 0s 3ms/step - loss: 0.5168 - accuracy: 0.7362 - val_loss: 0.5379 - val_accuracy: 0.7727\n",
            "Epoch 130/500\n",
            "62/62 [==============================] - 0s 2ms/step - loss: 0.5084 - accuracy: 0.7557 - val_loss: 0.5679 - val_accuracy: 0.7468\n",
            "Epoch 131/500\n",
            "62/62 [==============================] - 0s 3ms/step - loss: 0.5257 - accuracy: 0.7459 - val_loss: 0.5457 - val_accuracy: 0.7468\n",
            "Epoch 132/500\n",
            "62/62 [==============================] - 0s 2ms/step - loss: 0.5126 - accuracy: 0.7687 - val_loss: 0.5442 - val_accuracy: 0.7792\n",
            "Epoch 133/500\n",
            "62/62 [==============================] - 0s 3ms/step - loss: 0.5197 - accuracy: 0.7476 - val_loss: 0.5284 - val_accuracy: 0.7468\n",
            "Epoch 134/500\n",
            "62/62 [==============================] - 0s 2ms/step - loss: 0.5224 - accuracy: 0.7476 - val_loss: 0.5531 - val_accuracy: 0.7403\n",
            "Epoch 135/500\n",
            "62/62 [==============================] - 0s 2ms/step - loss: 0.5172 - accuracy: 0.7590 - val_loss: 0.5550 - val_accuracy: 0.7338\n",
            "Epoch 136/500\n",
            "62/62 [==============================] - 0s 2ms/step - loss: 0.5433 - accuracy: 0.7459 - val_loss: 0.5471 - val_accuracy: 0.7662\n",
            "Epoch 137/500\n",
            "62/62 [==============================] - 0s 3ms/step - loss: 0.5087 - accuracy: 0.7508 - val_loss: 0.5504 - val_accuracy: 0.7597\n",
            "Epoch 138/500\n",
            "62/62 [==============================] - 0s 2ms/step - loss: 0.5226 - accuracy: 0.7476 - val_loss: 0.5447 - val_accuracy: 0.7662\n",
            "Epoch 00138: early stopping\n"
          ]
        }
      ]
    },
    {
      "cell_type": "code",
      "metadata": {
        "id": "7cTBmcNAuIDs",
        "colab": {
          "base_uri": "https://localhost:8080/",
          "height": 295
        },
        "outputId": "31a9e7f0-504d-4d37-d192-716f8e067e8d"
      },
      "source": [
        "# 훈련 데이터와 검증 데이터에 대한 accuracy 시각화.\n",
        "epochs = range(1, len(hist.history['accuracy']) + 1)\n",
        "\n",
        "acc_list = [100 * i for i in hist.history['accuracy']]\n",
        "vacc_list = [100 * i for i in hist.history['val_accuracy']]\n",
        "\n",
        "plt.plot(epochs,acc_list)  \n",
        "plt.plot(epochs,vacc_list)\n",
        "\n",
        "plt.plot(np.argmax(np.array(vacc_list))+1,vacc_list[np.argmax(np.array(vacc_list))], 'r*')\n",
        "plt.title('Diabetes: FCN model - val_accuracy, max:' + str(np.round(vacc_list[np.argmax(np.array(vacc_list))],2)))\n",
        "plt.ylabel('val-Accuracy (%)')\n",
        "plt.xlabel('Epoch')\n",
        "plt.legend(['accuracy','val_accuracy','best'], loc='best')\n",
        "plt.show()"
      ],
      "execution_count": 100,
      "outputs": [
        {
          "output_type": "display_data",
          "data": {
            "image/png": "[encoded data removed]",
            "text/plain": [
              "<Figure size 432x288 with 1 Axes>"
            ]
          },
          "metadata": {
            "needs_background": "light"
          }
        }
      ]
    },
    {
      "cell_type": "markdown",
      "metadata": {
        "id": "mfpDVTp9tp0T"
      },
      "source": [
        "### best model\n",
        "> diabetes_DL_best_weights.088-0.786.hdf5"
      ]
    },
    {
      "cell_type": "code",
      "metadata": {
        "id": "7XICED9Jt5ls",
        "colab": {
          "base_uri": "https://localhost:8080/"
        },
        "outputId": "4f3993b9-568b-4cc3-bece-ff06bc5f3c4c"
      },
      "source": [
        "# model2 performance\n",
        "model2.evaluate(X_test, y_test)"
      ],
      "execution_count": 101,
      "outputs": [
        {
          "output_type": "stream",
          "name": "stdout",
          "text": [
            "5/5 [==============================] - 0s 2ms/step - loss: 0.5447 - accuracy: 0.7662\n"
          ]
        },
        {
          "output_type": "execute_result",
          "data": {
            "text/plain": [
              "[0.5446837544441223, 0.7662337422370911]"
            ]
          },
          "metadata": {},
          "execution_count": 101
        }
      ]
    },
    {
      "cell_type": "code",
      "metadata": {
        "id": "qdp3G_DcZ1Ek",
        "colab": {
          "base_uri": "https://localhost:8080/"
        },
        "outputId": "ae4ddd3d-1348-4a01-831a-b28d953b5eab"
      },
      "source": [
        "from keras.models import load_model\n",
        "\n",
        "# model = load_model('your_best_model.hdf5')\n",
        "model2_best = load_model('diabetes_DL_best_weights.088-0.786.hdf5')\n",
        "model2_best.evaluate(X_test, y_test)"
      ],
      "execution_count": 102,
      "outputs": [
        {
          "output_type": "stream",
          "name": "stdout",
          "text": [
            "5/5 [==============================] - 0s 2ms/step - loss: 0.5516 - accuracy: 0.7857\n"
          ]
        },
        {
          "output_type": "execute_result",
          "data": {
            "text/plain": [
              "[0.5515814423561096, 0.7857142686843872]"
            ]
          },
          "metadata": {},
          "execution_count": 102
        }
      ]
    },
    {
      "cell_type": "markdown",
      "metadata": {
        "id": "y_odUaaS-2HY"
      },
      "source": [
        "### Confusion matrix ot the best model"
      ]
    },
    {
      "cell_type": "code",
      "metadata": {
        "id": "JCuXtq6j-2Ha"
      },
      "source": [
        "# import seaborn as sns\n",
        "# from sklearn.metrics import confusion_matrix\n",
        "\n",
        "# make class predictions for test data with the model\n",
        "predictions = [int(np.round(prob)) for prob in model2_best.predict(X_test)]\n",
        "\n",
        "cm = confusion_matrix(y_test, predictions)"
      ],
      "execution_count": 103,
      "outputs": []
    },
    {
      "cell_type": "code",
      "metadata": {
        "id": "ROijTNy4-2Ha"
      },
      "source": [
        "class_names = ['noDM','DM']"
      ],
      "execution_count": 104,
      "outputs": []
    },
    {
      "cell_type": "code",
      "metadata": {
        "id": "ds6fmbSc-2Ha",
        "colab": {
          "base_uri": "https://localhost:8080/",
          "height": 334
        },
        "outputId": "f92911c4-32aa-45aa-df60-f011cca1554c"
      },
      "source": [
        "plt.figure(figsize=(5,5))\n",
        "sns.heatmap(cm, cbar=False, xticklabels=class_names, yticklabels=class_names, fmt='d', annot=True, cmap=plt.cm.coolwarm)\n",
        "plt.xlabel('Predicted')\n",
        "plt.ylabel('Actual')\n",
        "plt.show()"
      ],
      "execution_count": 105,
      "outputs": [
        {
          "output_type": "display_data",
          "data": {
            "image/png": "[encoded data removed]",
            "text/plain": [
              "<Figure size 360x360 with 1 Axes>"
            ]
          },
          "metadata": {
            "needs_background": "light"
          }
        }
      ]
    },
    {
      "cell_type": "markdown",
      "metadata": {
        "id": "jxwf3-ffAJH7"
      },
      "source": [
        "---"
      ]
    },
    {
      "cell_type": "markdown",
      "metadata": {
        "id": "C3fPEXJnAhCT"
      },
      "source": [
        "## [DIY-2] Save the best model after preprocessing data\n",
        "- StandardScaler"
      ]
    },
    {
      "cell_type": "code",
      "metadata": {
        "id": "Xpj1sO5qeW3_"
      },
      "source": [
        "# StandardScaler\n",
        "from sklearn.preprocessing import StandardScaler\n",
        "scaler = StandardScaler().fit(X_train)\n",
        "X_train = scaler.transform(X_train)\n",
        "X_test  = scaler.transform(X_test)"
      ],
      "execution_count": 106,
      "outputs": []
    },
    {
      "cell_type": "code",
      "metadata": {
        "id": "ChyT_BTzA1tk"
      },
      "source": [
        "# set random number seed\n",
        "np.random.seed(1234)\n",
        "tf.random.set_seed(1234)\n",
        "# define the keras model\n",
        "model2s = Sequential([\n",
        "    Dense(12, input_dim=8, activation='relu'),  \n",
        "    Dense(8, activation='relu'), \n",
        "    Dense(1, activation='sigmoid')                 \n",
        "])\n",
        "# compile the keras model\n",
        "model2s.compile(loss='binary_crossentropy', \n",
        "              optimizer='adam', \n",
        "              metrics=['accuracy'])\n"
      ],
      "execution_count": 107,
      "outputs": []
    },
    {
      "cell_type": "markdown",
      "metadata": {
        "id": "b8xoYOO4A1tl"
      },
      "source": [
        "### callbacks"
      ]
    },
    {
      "cell_type": "code",
      "metadata": {
        "id": "3iA8oFDfA1tl"
      },
      "source": [
        "cp_callback = callbacks.ModelCheckpoint(filepath=\"./diabetes_DL_SS_best_weights.{epoch:03d}-{val_accuracy:.3f}.hdf5\", \n",
        "                              monitor='val_accuracy', verbose=0, save_best_only=True)\n",
        "es_callback = callbacks.EarlyStopping(monitor='val_accuracy', \n",
        "                            mode='max', verbose=1, patience=50)    # patience=10, 20, 50"
      ],
      "execution_count": 108,
      "outputs": []
    },
    {
      "cell_type": "code",
      "metadata": {
        "id": "gMGYZH68A1tl",
        "colab": {
          "base_uri": "https://localhost:8080/"
        },
        "outputId": "e4c05f5a-ead1-4bc4-d583-5ac30154d316"
      },
      "source": [
        "# fit the keras model on the dataset\n",
        "hist = model2s.fit(X_train, y_train, epochs=500, batch_size=10, verbose=1, \n",
        "                  callbacks=[cp_callback, es_callback], \n",
        "                  validation_data=(X_test, y_test))\n"
      ],
      "execution_count": 109,
      "outputs": [
        {
          "output_type": "stream",
          "name": "stdout",
          "text": [
            "Epoch 1/500\n",
            "62/62 [==============================] - 1s 5ms/step - loss: 0.6474 - accuracy: 0.6254 - val_loss: 0.6372 - val_accuracy: 0.6688\n",
            "Epoch 2/500\n",
            "62/62 [==============================] - 0s 3ms/step - loss: 0.5795 - accuracy: 0.6987 - val_loss: 0.5858 - val_accuracy: 0.6948\n",
            "Epoch 3/500\n",
            "62/62 [==============================] - 0s 3ms/step - loss: 0.5378 - accuracy: 0.7280 - val_loss: 0.5576 - val_accuracy: 0.7338\n",
            "Epoch 4/500\n",
            "62/62 [==============================] - 0s 3ms/step - loss: 0.5153 - accuracy: 0.7443 - val_loss: 0.5406 - val_accuracy: 0.7662\n",
            "Epoch 5/500\n",
            "62/62 [==============================] - 0s 3ms/step - loss: 0.5006 - accuracy: 0.7573 - val_loss: 0.5272 - val_accuracy: 0.7662\n",
            "Epoch 6/500\n",
            "62/62 [==============================] - 0s 2ms/step - loss: 0.4920 - accuracy: 0.7606 - val_loss: 0.5200 - val_accuracy: 0.7662\n",
            "Epoch 7/500\n",
            "62/62 [==============================] - 0s 2ms/step - loss: 0.4850 - accuracy: 0.7590 - val_loss: 0.5168 - val_accuracy: 0.7532\n",
            "Epoch 8/500\n",
            "62/62 [==============================] - 0s 3ms/step - loss: 0.4804 - accuracy: 0.7655 - val_loss: 0.5130 - val_accuracy: 0.7597\n",
            "Epoch 9/500\n",
            "62/62 [==============================] - 0s 3ms/step - loss: 0.4763 - accuracy: 0.7818 - val_loss: 0.5142 - val_accuracy: 0.7468\n",
            "Epoch 10/500\n",
            "62/62 [==============================] - 0s 2ms/step - loss: 0.4725 - accuracy: 0.7850 - val_loss: 0.5091 - val_accuracy: 0.7532\n",
            "Epoch 11/500\n",
            "62/62 [==============================] - 0s 2ms/step - loss: 0.4695 - accuracy: 0.7801 - val_loss: 0.5080 - val_accuracy: 0.7532\n",
            "Epoch 12/500\n",
            "62/62 [==============================] - 0s 2ms/step - loss: 0.4669 - accuracy: 0.7883 - val_loss: 0.5083 - val_accuracy: 0.7468\n",
            "Epoch 13/500\n",
            "62/62 [==============================] - 0s 3ms/step - loss: 0.4638 - accuracy: 0.7964 - val_loss: 0.5068 - val_accuracy: 0.7468\n",
            "Epoch 14/500\n",
            "62/62 [==============================] - 0s 2ms/step - loss: 0.4605 - accuracy: 0.7932 - val_loss: 0.5063 - val_accuracy: 0.7468\n",
            "Epoch 15/500\n",
            "62/62 [==============================] - 0s 2ms/step - loss: 0.4594 - accuracy: 0.8046 - val_loss: 0.5078 - val_accuracy: 0.7532\n",
            "Epoch 16/500\n",
            "62/62 [==============================] - 0s 2ms/step - loss: 0.4566 - accuracy: 0.8013 - val_loss: 0.5056 - val_accuracy: 0.7468\n",
            "Epoch 17/500\n",
            "62/62 [==============================] - 0s 2ms/step - loss: 0.4541 - accuracy: 0.7948 - val_loss: 0.5052 - val_accuracy: 0.7532\n",
            "Epoch 18/500\n",
            "62/62 [==============================] - 0s 2ms/step - loss: 0.4529 - accuracy: 0.8013 - val_loss: 0.5063 - val_accuracy: 0.7597\n",
            "Epoch 19/500\n",
            "62/62 [==============================] - 0s 2ms/step - loss: 0.4516 - accuracy: 0.7997 - val_loss: 0.5068 - val_accuracy: 0.7532\n",
            "Epoch 20/500\n",
            "62/62 [==============================] - 0s 2ms/step - loss: 0.4494 - accuracy: 0.8111 - val_loss: 0.5054 - val_accuracy: 0.7662\n",
            "Epoch 21/500\n",
            "62/62 [==============================] - 0s 2ms/step - loss: 0.4484 - accuracy: 0.8013 - val_loss: 0.5035 - val_accuracy: 0.7597\n",
            "Epoch 22/500\n",
            "62/62 [==============================] - 0s 2ms/step - loss: 0.4466 - accuracy: 0.8013 - val_loss: 0.5054 - val_accuracy: 0.7597\n",
            "Epoch 23/500\n",
            "62/62 [==============================] - 0s 3ms/step - loss: 0.4442 - accuracy: 0.8029 - val_loss: 0.5063 - val_accuracy: 0.7597\n",
            "Epoch 24/500\n",
            "62/62 [==============================] - 0s 2ms/step - loss: 0.4435 - accuracy: 0.8111 - val_loss: 0.5052 - val_accuracy: 0.7468\n",
            "Epoch 25/500\n",
            "62/62 [==============================] - 0s 3ms/step - loss: 0.4422 - accuracy: 0.8127 - val_loss: 0.5055 - val_accuracy: 0.7597\n",
            "Epoch 26/500\n",
            "62/62 [==============================] - 0s 2ms/step - loss: 0.4410 - accuracy: 0.8176 - val_loss: 0.5053 - val_accuracy: 0.7597\n",
            "Epoch 27/500\n",
            "62/62 [==============================] - 0s 2ms/step - loss: 0.4386 - accuracy: 0.8111 - val_loss: 0.5061 - val_accuracy: 0.7597\n",
            "Epoch 28/500\n",
            "62/62 [==============================] - 0s 2ms/step - loss: 0.4371 - accuracy: 0.8111 - val_loss: 0.5068 - val_accuracy: 0.7597\n",
            "Epoch 29/500\n",
            "62/62 [==============================] - 0s 3ms/step - loss: 0.4367 - accuracy: 0.8111 - val_loss: 0.5052 - val_accuracy: 0.7662\n",
            "Epoch 30/500\n",
            "62/62 [==============================] - 0s 2ms/step - loss: 0.4348 - accuracy: 0.8111 - val_loss: 0.5072 - val_accuracy: 0.7532\n",
            "Epoch 31/500\n",
            "62/62 [==============================] - 0s 2ms/step - loss: 0.4353 - accuracy: 0.8176 - val_loss: 0.5052 - val_accuracy: 0.7468\n",
            "Epoch 32/500\n",
            "62/62 [==============================] - 0s 2ms/step - loss: 0.4322 - accuracy: 0.8111 - val_loss: 0.5069 - val_accuracy: 0.7403\n",
            "Epoch 33/500\n",
            "62/62 [==============================] - 0s 2ms/step - loss: 0.4318 - accuracy: 0.8143 - val_loss: 0.5073 - val_accuracy: 0.7468\n",
            "Epoch 34/500\n",
            "62/62 [==============================] - 0s 2ms/step - loss: 0.4306 - accuracy: 0.8127 - val_loss: 0.5035 - val_accuracy: 0.7403\n",
            "Epoch 35/500\n",
            "62/62 [==============================] - 0s 2ms/step - loss: 0.4286 - accuracy: 0.8143 - val_loss: 0.5080 - val_accuracy: 0.7403\n",
            "Epoch 36/500\n",
            "62/62 [==============================] - 0s 2ms/step - loss: 0.4272 - accuracy: 0.8160 - val_loss: 0.5076 - val_accuracy: 0.7338\n",
            "Epoch 37/500\n",
            "62/62 [==============================] - 0s 2ms/step - loss: 0.4262 - accuracy: 0.8143 - val_loss: 0.5041 - val_accuracy: 0.7338\n",
            "Epoch 38/500\n",
            "62/62 [==============================] - 0s 2ms/step - loss: 0.4255 - accuracy: 0.8094 - val_loss: 0.5072 - val_accuracy: 0.7273\n",
            "Epoch 39/500\n",
            "62/62 [==============================] - 0s 2ms/step - loss: 0.4242 - accuracy: 0.8160 - val_loss: 0.5043 - val_accuracy: 0.7338\n",
            "Epoch 40/500\n",
            "62/62 [==============================] - 0s 2ms/step - loss: 0.4236 - accuracy: 0.8160 - val_loss: 0.5041 - val_accuracy: 0.7338\n",
            "Epoch 41/500\n",
            "62/62 [==============================] - 0s 2ms/step - loss: 0.4227 - accuracy: 0.8160 - val_loss: 0.5063 - val_accuracy: 0.7143\n",
            "Epoch 42/500\n",
            "62/62 [==============================] - 0s 2ms/step - loss: 0.4216 - accuracy: 0.8111 - val_loss: 0.5060 - val_accuracy: 0.7403\n",
            "Epoch 43/500\n",
            "62/62 [==============================] - 0s 3ms/step - loss: 0.4194 - accuracy: 0.8143 - val_loss: 0.5044 - val_accuracy: 0.7273\n",
            "Epoch 44/500\n",
            "62/62 [==============================] - 0s 2ms/step - loss: 0.4196 - accuracy: 0.8094 - val_loss: 0.5059 - val_accuracy: 0.7208\n",
            "Epoch 45/500\n",
            "62/62 [==============================] - 0s 2ms/step - loss: 0.4181 - accuracy: 0.8176 - val_loss: 0.5026 - val_accuracy: 0.7338\n",
            "Epoch 46/500\n",
            "62/62 [==============================] - 0s 2ms/step - loss: 0.4170 - accuracy: 0.8111 - val_loss: 0.5017 - val_accuracy: 0.7273\n",
            "Epoch 47/500\n",
            "62/62 [==============================] - 0s 2ms/step - loss: 0.4172 - accuracy: 0.8127 - val_loss: 0.5039 - val_accuracy: 0.7338\n",
            "Epoch 48/500\n",
            "62/62 [==============================] - 0s 2ms/step - loss: 0.4149 - accuracy: 0.8143 - val_loss: 0.5062 - val_accuracy: 0.7143\n",
            "Epoch 49/500\n",
            "62/62 [==============================] - 0s 2ms/step - loss: 0.4144 - accuracy: 0.8111 - val_loss: 0.5025 - val_accuracy: 0.7273\n",
            "Epoch 50/500\n",
            "62/62 [==============================] - 0s 2ms/step - loss: 0.4136 - accuracy: 0.8127 - val_loss: 0.5057 - val_accuracy: 0.7143\n",
            "Epoch 51/500\n",
            "62/62 [==============================] - 0s 2ms/step - loss: 0.4125 - accuracy: 0.8176 - val_loss: 0.5044 - val_accuracy: 0.7273\n",
            "Epoch 52/500\n",
            "62/62 [==============================] - 0s 3ms/step - loss: 0.4120 - accuracy: 0.8111 - val_loss: 0.5098 - val_accuracy: 0.7143\n",
            "Epoch 53/500\n",
            "62/62 [==============================] - 0s 2ms/step - loss: 0.4115 - accuracy: 0.8111 - val_loss: 0.5018 - val_accuracy: 0.7273\n",
            "Epoch 54/500\n",
            "62/62 [==============================] - 0s 2ms/step - loss: 0.4112 - accuracy: 0.8143 - val_loss: 0.5085 - val_accuracy: 0.7078\n",
            "Epoch 00054: early stopping\n"
          ]
        }
      ]
    },
    {
      "cell_type": "code",
      "metadata": {
        "id": "0edeost-A1tm",
        "colab": {
          "base_uri": "https://localhost:8080/",
          "height": 295
        },
        "outputId": "64113dfa-dfcf-411d-9d78-ef304d4de6c6"
      },
      "source": [
        "# 훈련 데이터와 검증 데이터에 대한 accuracy 시각화.\n",
        "epochs = range(1, len(hist.history['accuracy']) + 1)\n",
        "\n",
        "acc_list = [100 * i for i in hist.history['accuracy']]\n",
        "vacc_list = [100 * i for i in hist.history['val_accuracy']]\n",
        "\n",
        "plt.plot(epochs,acc_list)  \n",
        "plt.plot(epochs,vacc_list)\n",
        "\n",
        "plt.plot(np.argmax(np.array(vacc_list))+1,vacc_list[np.argmax(np.array(vacc_list))], 'r*')\n",
        "plt.title('Diabetes: FCN model - val_accuracy, max:' + str(np.round(vacc_list[np.argmax(np.array(vacc_list))],2)))\n",
        "plt.ylabel('val-Accuracy (%)')\n",
        "plt.xlabel('Epoch')\n",
        "plt.legend(['accuracy','val_accuracy','best'], loc='best')\n",
        "plt.show()"
      ],
      "execution_count": 110,
      "outputs": [
        {
          "output_type": "display_data",
          "data": {
            "image/png": "[encoded data removed]",
            "text/plain": [
              "<Figure size 432x288 with 1 Axes>"
            ]
          },
          "metadata": {
            "needs_background": "light"
          }
        }
      ]
    },
    {
      "cell_type": "markdown",
      "metadata": {
        "id": "eG-fHXh5A1tm"
      },
      "source": [
        "### best model\n",
        "> diabetes_DL_SS_best_weights.004-0.766.hdf5"
      ]
    },
    {
      "cell_type": "code",
      "metadata": {
        "id": "cGGKTllZA1tm",
        "colab": {
          "base_uri": "https://localhost:8080/"
        },
        "outputId": "79c88850-c0a5-4554-b53c-e43b56f34018"
      },
      "source": [
        "# model2 performance\n",
        "model2s.evaluate(X_test, y_test)"
      ],
      "execution_count": 111,
      "outputs": [
        {
          "output_type": "stream",
          "name": "stdout",
          "text": [
            "5/5 [==============================] - 0s 3ms/step - loss: 0.5085 - accuracy: 0.7078\n"
          ]
        },
        {
          "output_type": "execute_result",
          "data": {
            "text/plain": [
              "[0.5084622502326965, 0.7077922224998474]"
            ]
          },
          "metadata": {},
          "execution_count": 111
        }
      ]
    },
    {
      "cell_type": "code",
      "metadata": {
        "id": "dQdVkllwA1tm",
        "colab": {
          "base_uri": "https://localhost:8080/"
        },
        "outputId": "57b3a8e2-df1f-46bf-9d80-93c32c5bea72"
      },
      "source": [
        "from keras.models import load_model\n",
        "\n",
        "# model = load_model('your_best_model.hdf5')\n",
        "model2s_best = load_model('diabetes_DL_SS_best_weights.004-0.766.hdf5')\n",
        "model2s_best.evaluate(X_test, y_test)"
      ],
      "execution_count": 112,
      "outputs": [
        {
          "output_type": "stream",
          "name": "stdout",
          "text": [
            "5/5 [==============================] - 0s 2ms/step - loss: 0.5406 - accuracy: 0.7662\n"
          ]
        },
        {
          "output_type": "execute_result",
          "data": {
            "text/plain": [
              "[0.5406255125999451, 0.7662337422370911]"
            ]
          },
          "metadata": {},
          "execution_count": 112
        }
      ]
    },
    {
      "cell_type": "markdown",
      "metadata": {
        "id": "hAWRrE79A1tm"
      },
      "source": [
        "### Confusion matrix ot the best model"
      ]
    },
    {
      "cell_type": "code",
      "metadata": {
        "id": "EnbNMvsIA1tn"
      },
      "source": [
        "# import seaborn as sns\n",
        "# from sklearn.metrics import confusion_matrix\n",
        "\n",
        "# make class predictions for test data with the model\n",
        "predictions = [int(np.round(prob)) for prob in model2s_best.predict(X_test)]\n",
        "\n",
        "cm = confusion_matrix(y_test, predictions)"
      ],
      "execution_count": 113,
      "outputs": []
    },
    {
      "cell_type": "code",
      "metadata": {
        "id": "yWi44OteA1tn"
      },
      "source": [
        "class_names = ['noDM','DM']"
      ],
      "execution_count": 114,
      "outputs": []
    },
    {
      "cell_type": "code",
      "metadata": {
        "id": "1I1OdpWuA1tn",
        "colab": {
          "base_uri": "https://localhost:8080/",
          "height": 334
        },
        "outputId": "10b57762-3703-4cba-eddf-2bdc77d5780c"
      },
      "source": [
        "plt.figure(figsize=(5,5))\n",
        "sns.heatmap(cm, cbar=False, xticklabels=class_names, yticklabels=class_names, fmt='d', annot=True, cmap=plt.cm.coolwarm)\n",
        "plt.xlabel('Predicted')\n",
        "plt.ylabel('Actual')\n",
        "plt.show()"
      ],
      "execution_count": 115,
      "outputs": [
        {
          "output_type": "display_data",
          "data": {
            "image/png": "[encoded data removed]",
            "text/plain": [
              "<Figure size 360x360 with 1 Axes>"
            ]
          },
          "metadata": {
            "needs_background": "light"
          }
        }
      ]
    },
    {
      "cell_type": "markdown",
      "metadata": {
        "id": "ICOiTafiyl7b"
      },
      "source": [
        "***"
      ]
    },
    {
      "cell_type": "markdown",
      "metadata": {
        "id": "s_NsDYVbyc1_"
      },
      "source": [
        "## [DIY-3] 데이터 전처리 후 딥러닝 모델 만들어서 평가\n",
        "- 결과가 좋아지는지, 아니면 나빠지는지를 확인하시오."
      ]
    },
    {
      "cell_type": "markdown",
      "metadata": {
        "id": "rWoRa2VqSkHI"
      },
      "source": [
        "## Check data\n",
        "- null\n",
        "- NaN"
      ]
    },
    {
      "cell_type": "code",
      "metadata": {
        "id": "whrqReP4mOhl",
        "colab": {
          "base_uri": "https://localhost:8080/"
        },
        "outputId": "2e50a7a7-7f75-4b99-fc5c-fd4bafeb2f41"
      },
      "source": [
        "# Check NaN\n",
        "# data.isna().sum()\n",
        "df.isnull().sum()"
      ],
      "execution_count": 116,
      "outputs": [
        {
          "output_type": "execute_result",
          "data": {
            "text/plain": [
              "Pregnancies                 0\n",
              "Glucose                     0\n",
              "BloodPressure               0\n",
              "SkinThickness               0\n",
              "Insulin                     0\n",
              "BMI                         0\n",
              "DiabetesPedigreeFunction    0\n",
              "Age                         0\n",
              "Outcome                     0\n",
              "dtype: int64"
            ]
          },
          "metadata": {},
          "execution_count": 116
        }
      ]
    },
    {
      "cell_type": "markdown",
      "metadata": {
        "id": "h--H_58sxzEz"
      },
      "source": [
        "### 과연 diabetes 데이터는 문제가 없는가?\n",
        "\n",
        "- 각 항목에서 0이 허용되지 않는 경우에 0이 있다면 => 문제 있는 데이터!\n",
        "- Pregnancies, Outcome은 0이 가능한 값이므로 제외하고 0이 있는 항목(column) 조사"
      ]
    },
    {
      "cell_type": "code",
      "metadata": {
        "id": "9ETrQATux_Wt",
        "colab": {
          "base_uri": "https://localhost:8080/",
          "height": 362
        },
        "outputId": "2e1f6fef-740e-4769-d4c0-54e76bab3d4b"
      },
      "source": [
        "df.head(10)"
      ],
      "execution_count": 117,
      "outputs": [
        {
          "output_type": "execute_result",
          "data": {
            "text/html": [
              "<div>\n",
              "<style scoped>\n",
              "    .dataframe tbody tr th:only-of-type {\n",
              "        vertical-align: middle;\n",
              "    }\n",
              "\n",
              "    .dataframe tbody tr th {\n",
              "        vertical-align: top;\n",
              "    }\n",
              "\n",
              "    .dataframe thead th {\n",
              "        text-align: right;\n",
              "    }\n",
              "</style>\n",
              "<table border=\"1\" class=\"dataframe\">\n",
              "  <thead>\n",
              "    <tr style=\"text-align: right;\">\n",
              "      <th></th>\n",
              "      <th>Pregnancies</th>\n",
              "      <th>Glucose</th>\n",
              "      <th>BloodPressure</th>\n",
              "      <th>SkinThickness</th>\n",
              "      <th>Insulin</th>\n",
              "      <th>BMI</th>\n",
              "      <th>DiabetesPedigreeFunction</th>\n",
              "      <th>Age</th>\n",
              "      <th>Outcome</th>\n",
              "    </tr>\n",
              "  </thead>\n",
              "  <tbody>\n",
              "    <tr>\n",
              "      <th>0</th>\n",
              "      <td>6</td>\n",
              "      <td>148</td>\n",
              "      <td>72</td>\n",
              "      <td>35</td>\n",
              "      <td>0</td>\n",
              "      <td>33.6</td>\n",
              "      <td>0.627</td>\n",
              "      <td>50</td>\n",
              "      <td>1</td>\n",
              "    </tr>\n",
              "    <tr>\n",
              "      <th>1</th>\n",
              "      <td>1</td>\n",
              "      <td>85</td>\n",
              "      <td>66</td>\n",
              "      <td>29</td>\n",
              "      <td>0</td>\n",
              "      <td>26.6</td>\n",
              "      <td>0.351</td>\n",
              "      <td>31</td>\n",
              "      <td>0</td>\n",
              "    </tr>\n",
              "    <tr>\n",
              "      <th>2</th>\n",
              "      <td>8</td>\n",
              "      <td>183</td>\n",
              "      <td>64</td>\n",
              "      <td>0</td>\n",
              "      <td>0</td>\n",
              "      <td>23.3</td>\n",
              "      <td>0.672</td>\n",
              "      <td>32</td>\n",
              "      <td>1</td>\n",
              "    </tr>\n",
              "    <tr>\n",
              "      <th>3</th>\n",
              "      <td>1</td>\n",
              "      <td>89</td>\n",
              "      <td>66</td>\n",
              "      <td>23</td>\n",
              "      <td>94</td>\n",
              "      <td>28.1</td>\n",
              "      <td>0.167</td>\n",
              "      <td>21</td>\n",
              "      <td>0</td>\n",
              "    </tr>\n",
              "    <tr>\n",
              "      <th>4</th>\n",
              "      <td>0</td>\n",
              "      <td>137</td>\n",
              "      <td>40</td>\n",
              "      <td>35</td>\n",
              "      <td>168</td>\n",
              "      <td>43.1</td>\n",
              "      <td>2.288</td>\n",
              "      <td>33</td>\n",
              "      <td>1</td>\n",
              "    </tr>\n",
              "    <tr>\n",
              "      <th>5</th>\n",
              "      <td>5</td>\n",
              "      <td>116</td>\n",
              "      <td>74</td>\n",
              "      <td>0</td>\n",
              "      <td>0</td>\n",
              "      <td>25.6</td>\n",
              "      <td>0.201</td>\n",
              "      <td>30</td>\n",
              "      <td>0</td>\n",
              "    </tr>\n",
              "    <tr>\n",
              "      <th>6</th>\n",
              "      <td>3</td>\n",
              "      <td>78</td>\n",
              "      <td>50</td>\n",
              "      <td>32</td>\n",
              "      <td>88</td>\n",
              "      <td>31.0</td>\n",
              "      <td>0.248</td>\n",
              "      <td>26</td>\n",
              "      <td>1</td>\n",
              "    </tr>\n",
              "    <tr>\n",
              "      <th>7</th>\n",
              "      <td>10</td>\n",
              "      <td>115</td>\n",
              "      <td>0</td>\n",
              "      <td>0</td>\n",
              "      <td>0</td>\n",
              "      <td>35.3</td>\n",
              "      <td>0.134</td>\n",
              "      <td>29</td>\n",
              "      <td>0</td>\n",
              "    </tr>\n",
              "    <tr>\n",
              "      <th>8</th>\n",
              "      <td>2</td>\n",
              "      <td>197</td>\n",
              "      <td>70</td>\n",
              "      <td>45</td>\n",
              "      <td>543</td>\n",
              "      <td>30.5</td>\n",
              "      <td>0.158</td>\n",
              "      <td>53</td>\n",
              "      <td>1</td>\n",
              "    </tr>\n",
              "    <tr>\n",
              "      <th>9</th>\n",
              "      <td>8</td>\n",
              "      <td>125</td>\n",
              "      <td>96</td>\n",
              "      <td>0</td>\n",
              "      <td>0</td>\n",
              "      <td>0.0</td>\n",
              "      <td>0.232</td>\n",
              "      <td>54</td>\n",
              "      <td>1</td>\n",
              "    </tr>\n",
              "  </tbody>\n",
              "</table>\n",
              "</div>"
            ],
            "text/plain": [
              "   Pregnancies  Glucose  BloodPressure  ...  DiabetesPedigreeFunction  Age  Outcome\n",
              "0            6      148             72  ...                     0.627   50        1\n",
              "1            1       85             66  ...                     0.351   31        0\n",
              "2            8      183             64  ...                     0.672   32        1\n",
              "3            1       89             66  ...                     0.167   21        0\n",
              "4            0      137             40  ...                     2.288   33        1\n",
              "5            5      116             74  ...                     0.201   30        0\n",
              "6            3       78             50  ...                     0.248   26        1\n",
              "7           10      115              0  ...                     0.134   29        0\n",
              "8            2      197             70  ...                     0.158   53        1\n",
              "9            8      125             96  ...                     0.232   54        1\n",
              "\n",
              "[10 rows x 9 columns]"
            ]
          },
          "metadata": {},
          "execution_count": 117
        }
      ]
    },
    {
      "cell_type": "code",
      "metadata": {
        "id": "UN8Ub9s-y7RM",
        "colab": {
          "base_uri": "https://localhost:8080/"
        },
        "outputId": "b00511be-a5e1-4c2c-a1d9-d475ca97a932"
      },
      "source": [
        "# Pregnancies, Outcome은 0이 가능한 값이므로 제외하고 0이 있는 항목(column) 조사\n",
        "columns_with_zero = df.columns[(df==0).sum() > 0][1:-1]\n",
        "columns_with_zero"
      ],
      "execution_count": 118,
      "outputs": [
        {
          "output_type": "execute_result",
          "data": {
            "text/plain": [
              "Index(['Glucose', 'BloodPressure', 'SkinThickness', 'Insulin', 'BMI'], dtype='object')"
            ]
          },
          "metadata": {},
          "execution_count": 118
        }
      ]
    },
    {
      "cell_type": "code",
      "metadata": {
        "id": "jYGrj7udx6mk"
      },
      "source": [
        "# Clean the data : zero2median()\n",
        "# 1. Check zeros in features with Pregnancies, Outcome excluded.\n",
        "# 2. Replace zero with NaN \n",
        "# 3. Replace NaN with the median of the corresponding featurs\n",
        "def zero2median(df):\n",
        "    columns_with_zero = df.columns[(df==0).sum() > 0][1:-1]\n",
        "    # Index(['Glucose', 'BloodPressure', 'SkinThickness', 'Insulin', 'BMI'], dtype='object')\n",
        "    df[columns_with_zero]=df[columns_with_zero].replace(0,np.nan)\n",
        "    for feature in columns_with_zero:\n",
        "        df[feature].fillna(df[feature].median(),inplace=True)\n",
        "    \n",
        "    return df\n",
        "\n",
        "# Make clean dataframe, df2 from df\n",
        "df2 = zero2median(df)"
      ],
      "execution_count": 119,
      "outputs": []
    },
    {
      "cell_type": "code",
      "metadata": {
        "id": "jUBEg3S0zxQv",
        "colab": {
          "base_uri": "https://localhost:8080/",
          "height": 362
        },
        "outputId": "3bd85209-e233-4dff-dcad-97546cf8a3c4"
      },
      "source": [
        "df2.head(10)"
      ],
      "execution_count": 120,
      "outputs": [
        {
          "output_type": "execute_result",
          "data": {
            "text/html": [
              "<div>\n",
              "<style scoped>\n",
              "    .dataframe tbody tr th:only-of-type {\n",
              "        vertical-align: middle;\n",
              "    }\n",
              "\n",
              "    .dataframe tbody tr th {\n",
              "        vertical-align: top;\n",
              "    }\n",
              "\n",
              "    .dataframe thead th {\n",
              "        text-align: right;\n",
              "    }\n",
              "</style>\n",
              "<table border=\"1\" class=\"dataframe\">\n",
              "  <thead>\n",
              "    <tr style=\"text-align: right;\">\n",
              "      <th></th>\n",
              "      <th>Pregnancies</th>\n",
              "      <th>Glucose</th>\n",
              "      <th>BloodPressure</th>\n",
              "      <th>SkinThickness</th>\n",
              "      <th>Insulin</th>\n",
              "      <th>BMI</th>\n",
              "      <th>DiabetesPedigreeFunction</th>\n",
              "      <th>Age</th>\n",
              "      <th>Outcome</th>\n",
              "    </tr>\n",
              "  </thead>\n",
              "  <tbody>\n",
              "    <tr>\n",
              "      <th>0</th>\n",
              "      <td>6</td>\n",
              "      <td>148.0</td>\n",
              "      <td>72.0</td>\n",
              "      <td>35.0</td>\n",
              "      <td>125.0</td>\n",
              "      <td>33.6</td>\n",
              "      <td>0.627</td>\n",
              "      <td>50</td>\n",
              "      <td>1</td>\n",
              "    </tr>\n",
              "    <tr>\n",
              "      <th>1</th>\n",
              "      <td>1</td>\n",
              "      <td>85.0</td>\n",
              "      <td>66.0</td>\n",
              "      <td>29.0</td>\n",
              "      <td>125.0</td>\n",
              "      <td>26.6</td>\n",
              "      <td>0.351</td>\n",
              "      <td>31</td>\n",
              "      <td>0</td>\n",
              "    </tr>\n",
              "    <tr>\n",
              "      <th>2</th>\n",
              "      <td>8</td>\n",
              "      <td>183.0</td>\n",
              "      <td>64.0</td>\n",
              "      <td>29.0</td>\n",
              "      <td>125.0</td>\n",
              "      <td>23.3</td>\n",
              "      <td>0.672</td>\n",
              "      <td>32</td>\n",
              "      <td>1</td>\n",
              "    </tr>\n",
              "    <tr>\n",
              "      <th>3</th>\n",
              "      <td>1</td>\n",
              "      <td>89.0</td>\n",
              "      <td>66.0</td>\n",
              "      <td>23.0</td>\n",
              "      <td>94.0</td>\n",
              "      <td>28.1</td>\n",
              "      <td>0.167</td>\n",
              "      <td>21</td>\n",
              "      <td>0</td>\n",
              "    </tr>\n",
              "    <tr>\n",
              "      <th>4</th>\n",
              "      <td>0</td>\n",
              "      <td>137.0</td>\n",
              "      <td>40.0</td>\n",
              "      <td>35.0</td>\n",
              "      <td>168.0</td>\n",
              "      <td>43.1</td>\n",
              "      <td>2.288</td>\n",
              "      <td>33</td>\n",
              "      <td>1</td>\n",
              "    </tr>\n",
              "    <tr>\n",
              "      <th>5</th>\n",
              "      <td>5</td>\n",
              "      <td>116.0</td>\n",
              "      <td>74.0</td>\n",
              "      <td>29.0</td>\n",
              "      <td>125.0</td>\n",
              "      <td>25.6</td>\n",
              "      <td>0.201</td>\n",
              "      <td>30</td>\n",
              "      <td>0</td>\n",
              "    </tr>\n",
              "    <tr>\n",
              "      <th>6</th>\n",
              "      <td>3</td>\n",
              "      <td>78.0</td>\n",
              "      <td>50.0</td>\n",
              "      <td>32.0</td>\n",
              "      <td>88.0</td>\n",
              "      <td>31.0</td>\n",
              "      <td>0.248</td>\n",
              "      <td>26</td>\n",
              "      <td>1</td>\n",
              "    </tr>\n",
              "    <tr>\n",
              "      <th>7</th>\n",
              "      <td>10</td>\n",
              "      <td>115.0</td>\n",
              "      <td>72.0</td>\n",
              "      <td>29.0</td>\n",
              "      <td>125.0</td>\n",
              "      <td>35.3</td>\n",
              "      <td>0.134</td>\n",
              "      <td>29</td>\n",
              "      <td>0</td>\n",
              "    </tr>\n",
              "    <tr>\n",
              "      <th>8</th>\n",
              "      <td>2</td>\n",
              "      <td>197.0</td>\n",
              "      <td>70.0</td>\n",
              "      <td>45.0</td>\n",
              "      <td>543.0</td>\n",
              "      <td>30.5</td>\n",
              "      <td>0.158</td>\n",
              "      <td>53</td>\n",
              "      <td>1</td>\n",
              "    </tr>\n",
              "    <tr>\n",
              "      <th>9</th>\n",
              "      <td>8</td>\n",
              "      <td>125.0</td>\n",
              "      <td>96.0</td>\n",
              "      <td>29.0</td>\n",
              "      <td>125.0</td>\n",
              "      <td>32.3</td>\n",
              "      <td>0.232</td>\n",
              "      <td>54</td>\n",
              "      <td>1</td>\n",
              "    </tr>\n",
              "  </tbody>\n",
              "</table>\n",
              "</div>"
            ],
            "text/plain": [
              "   Pregnancies  Glucose  BloodPressure  ...  DiabetesPedigreeFunction  Age  Outcome\n",
              "0            6    148.0           72.0  ...                     0.627   50        1\n",
              "1            1     85.0           66.0  ...                     0.351   31        0\n",
              "2            8    183.0           64.0  ...                     0.672   32        1\n",
              "3            1     89.0           66.0  ...                     0.167   21        0\n",
              "4            0    137.0           40.0  ...                     2.288   33        1\n",
              "5            5    116.0           74.0  ...                     0.201   30        0\n",
              "6            3     78.0           50.0  ...                     0.248   26        1\n",
              "7           10    115.0           72.0  ...                     0.134   29        0\n",
              "8            2    197.0           70.0  ...                     0.158   53        1\n",
              "9            8    125.0           96.0  ...                     0.232   54        1\n",
              "\n",
              "[10 rows x 9 columns]"
            ]
          },
          "metadata": {},
          "execution_count": 120
        }
      ]
    },
    {
      "cell_type": "markdown",
      "metadata": {
        "id": "Ares-U3O0bIm"
      },
      "source": [
        "## [DIY3] 전처리된 데이터프레임 df2를 이용해서 FCN으로 best model을 찾으시오.\n",
        "- best model: hdf5 file\n",
        "- Accuracy graph\n",
        "- Confusion matrix graph"
      ]
    },
    {
      "cell_type": "code",
      "metadata": {
        "id": "YDrUtW3HwUyf",
        "outputId": "b36a2657-c6f9-4ddb-ca9f-5def3ffee8a4",
        "colab": {
          "base_uri": "https://localhost:8080/"
        }
      },
      "source": [
        "# Your code here\n",
        "X = np.array(df2.drop(['Outcome'], 1))\n",
        "y = np.array(df2['Outcome'])\n",
        "\n",
        "# set random number seed\n",
        "np.random.seed(1234)\n",
        "tf.random.set_seed(1234)\n",
        "X_train, X_test, y_train, y_test = model_selection.train_test_split(X, y, test_size = 0.2)\n",
        "\n",
        "y\n",
        "\n",
        "\n",
        "\n"
      ],
      "execution_count": 121,
      "outputs": [
        {
          "output_type": "execute_result",
          "data": {
            "text/plain": [
              "array([1, 0, 1, 0, 1, 0, 1, 0, 1, 1, 0, 1, 0, 1, 1, 1, 1, 1, 0, 1, 0, 0,\n",
              "       1, 1, 1, 1, 1, 0, 0, 0, 0, 1, 0, 0, 0, 0, 0, 1, 1, 1, 0, 0, 0, 1,\n",
              "       0, 1, 0, 0, 1, 0, 0, 0, 0, 1, 0, 0, 1, 0, 0, 0, 0, 1, 0, 0, 1, 0,\n",
              "       1, 0, 0, 0, 1, 0, 1, 0, 0, 0, 0, 0, 1, 0, 0, 0, 0, 0, 1, 0, 0, 0,\n",
              "       1, 0, 0, 0, 0, 1, 0, 0, 0, 0, 0, 1, 1, 0, 0, 0, 0, 0, 0, 0, 0, 1,\n",
              "       1, 1, 0, 0, 1, 1, 1, 0, 0, 0, 1, 0, 0, 0, 1, 1, 0, 0, 1, 1, 1, 1,\n",
              "       1, 0, 0, 0, 0, 0, 0, 0, 0, 0, 0, 1, 0, 0, 0, 0, 0, 0, 0, 0, 1, 0,\n",
              "       1, 1, 0, 0, 0, 1, 0, 0, 0, 0, 1, 1, 0, 0, 0, 0, 1, 1, 0, 0, 0, 1,\n",
              "       0, 1, 0, 1, 0, 0, 0, 0, 0, 1, 1, 1, 1, 1, 0, 0, 1, 1, 0, 1, 0, 1,\n",
              "       1, 1, 0, 0, 0, 0, 0, 0, 1, 1, 0, 1, 0, 0, 0, 1, 1, 1, 1, 0, 1, 1,\n",
              "       1, 1, 0, 0, 0, 0, 0, 1, 0, 0, 1, 1, 0, 0, 0, 1, 1, 1, 1, 0, 0, 0,\n",
              "       1, 1, 0, 1, 0, 0, 0, 0, 0, 0, 0, 0, 1, 1, 0, 0, 0, 1, 0, 1, 0, 0,\n",
              "       1, 0, 1, 0, 0, 1, 1, 0, 0, 0, 0, 0, 1, 0, 0, 0, 1, 0, 0, 1, 1, 0,\n",
              "       0, 1, 0, 0, 0, 1, 1, 1, 0, 0, 1, 0, 1, 0, 1, 1, 0, 1, 0, 0, 1, 0,\n",
              "       1, 1, 0, 0, 1, 0, 1, 0, 0, 1, 0, 1, 0, 1, 1, 1, 0, 0, 1, 0, 1, 0,\n",
              "       0, 0, 1, 0, 0, 0, 0, 1, 1, 1, 0, 0, 0, 0, 0, 0, 0, 0, 0, 1, 0, 0,\n",
              "       0, 0, 0, 1, 1, 1, 0, 1, 1, 0, 0, 1, 0, 0, 1, 0, 0, 1, 1, 0, 0, 0,\n",
              "       0, 1, 0, 0, 1, 0, 0, 0, 0, 0, 0, 0, 1, 1, 1, 0, 0, 1, 0, 0, 1, 0,\n",
              "       0, 1, 0, 1, 1, 0, 1, 0, 1, 0, 1, 0, 1, 1, 0, 0, 0, 0, 1, 1, 0, 1,\n",
              "       0, 1, 0, 0, 0, 0, 1, 1, 0, 1, 0, 1, 0, 0, 0, 0, 0, 1, 0, 0, 0, 0,\n",
              "       1, 0, 0, 1, 1, 1, 0, 0, 1, 0, 0, 1, 0, 0, 0, 1, 0, 0, 1, 0, 0, 0,\n",
              "       0, 0, 0, 0, 0, 0, 1, 0, 0, 0, 0, 0, 0, 0, 1, 0, 0, 0, 1, 0, 0, 0,\n",
              "       1, 1, 0, 0, 0, 0, 0, 0, 0, 1, 0, 0, 0, 0, 1, 0, 0, 0, 1, 0, 0, 0,\n",
              "       1, 0, 0, 0, 1, 0, 0, 0, 0, 1, 1, 0, 0, 0, 0, 0, 0, 1, 0, 0, 0, 0,\n",
              "       0, 0, 0, 0, 0, 0, 0, 1, 0, 0, 0, 1, 1, 1, 1, 0, 0, 1, 1, 0, 0, 0,\n",
              "       0, 0, 0, 0, 0, 0, 0, 0, 0, 0, 1, 1, 0, 0, 0, 0, 0, 0, 0, 1, 0, 0,\n",
              "       0, 0, 0, 0, 0, 1, 0, 1, 1, 0, 0, 0, 1, 0, 1, 0, 1, 0, 1, 0, 1, 0,\n",
              "       0, 1, 0, 0, 1, 0, 0, 0, 0, 1, 1, 0, 1, 0, 0, 0, 0, 1, 1, 0, 1, 0,\n",
              "       0, 0, 1, 1, 0, 0, 0, 0, 0, 0, 0, 0, 0, 0, 1, 0, 0, 0, 0, 1, 0, 0,\n",
              "       1, 0, 0, 0, 1, 0, 0, 0, 1, 1, 1, 0, 0, 0, 0, 0, 0, 1, 0, 0, 0, 1,\n",
              "       0, 1, 1, 1, 1, 0, 1, 1, 0, 0, 0, 0, 0, 0, 0, 1, 1, 0, 1, 0, 0, 1,\n",
              "       0, 1, 0, 0, 0, 0, 0, 1, 0, 1, 0, 1, 0, 1, 1, 0, 0, 0, 0, 1, 1, 0,\n",
              "       0, 0, 1, 0, 1, 1, 0, 0, 1, 0, 0, 1, 1, 0, 0, 1, 0, 0, 1, 0, 0, 0,\n",
              "       0, 0, 0, 0, 1, 1, 1, 0, 0, 0, 0, 0, 0, 1, 1, 0, 0, 1, 0, 0, 1, 0,\n",
              "       1, 1, 1, 0, 0, 1, 1, 1, 0, 1, 0, 1, 0, 1, 0, 0, 0, 0, 1, 0])"
            ]
          },
          "metadata": {},
          "execution_count": 121
        }
      ]
    },
    {
      "cell_type": "code",
      "metadata": {
        "id": "5x5mc9vI5rRc",
        "outputId": "243484b0-9d70-4189-db7e-f66cf801c496",
        "colab": {
          "base_uri": "https://localhost:8080/"
        }
      },
      "source": [
        "X_train.shape, X_test.shape, y_train.shape, y_test.shape"
      ],
      "execution_count": 122,
      "outputs": [
        {
          "output_type": "execute_result",
          "data": {
            "text/plain": [
              "((614, 8), (154, 8), (614,), (154,))"
            ]
          },
          "metadata": {},
          "execution_count": 122
        }
      ]
    },
    {
      "cell_type": "code",
      "metadata": {
        "id": "Xw_Xmcw96GIb"
      },
      "source": [
        "# set random number seed\n",
        "np.random.seed(1234)\n",
        "tf.random.set_seed(1234)\n",
        "\n",
        "# define the keras model: simple FCN\n",
        "model3 = Sequential()\n",
        "model3.add(Dense(12, input_dim=8, activation='relu'))\n",
        "model3.add(Dense(8, activation='relu'))\n",
        "model3.add(Dense(1, activation='sigmoid'))\n",
        "# compile the keras model\n",
        "model3.compile(loss='binary_crossentropy', \n",
        "              optimizer='adam', \n",
        "              metrics=['accuracy'])"
      ],
      "execution_count": 123,
      "outputs": []
    },
    {
      "cell_type": "code",
      "metadata": {
        "id": "lC0B5VdV6R-l",
        "outputId": "5e2aefd2-a655-40df-d05b-ea01ca42a105",
        "colab": {
          "base_uri": "https://localhost:8080/"
        }
      },
      "source": [
        "hist = model3.fit(X_train, y_train, epochs=150, batch_size=10, verbose=1, \n",
        "                 validation_data=(X_test, y_test))"
      ],
      "execution_count": 124,
      "outputs": [
        {
          "output_type": "stream",
          "name": "stdout",
          "text": [
            "Epoch 1/150\n",
            "62/62 [==============================] - 1s 5ms/step - loss: 7.8953 - accuracy: 0.4707 - val_loss: 2.2277 - val_accuracy: 0.5195\n",
            "Epoch 2/150\n",
            "62/62 [==============================] - 0s 2ms/step - loss: 1.1414 - accuracy: 0.5993 - val_loss: 0.8590 - val_accuracy: 0.6429\n",
            "Epoch 3/150\n",
            "62/62 [==============================] - 0s 3ms/step - loss: 0.8470 - accuracy: 0.6384 - val_loss: 0.7411 - val_accuracy: 0.6948\n",
            "Epoch 4/150\n",
            "62/62 [==============================] - 0s 2ms/step - loss: 0.7663 - accuracy: 0.6384 - val_loss: 0.7462 - val_accuracy: 0.6364\n",
            "Epoch 5/150\n",
            "62/62 [==============================] - 0s 2ms/step - loss: 0.7389 - accuracy: 0.6140 - val_loss: 0.6871 - val_accuracy: 0.7208\n",
            "Epoch 6/150\n",
            "62/62 [==============================] - 0s 2ms/step - loss: 0.7340 - accuracy: 0.6384 - val_loss: 0.6905 - val_accuracy: 0.7013\n",
            "Epoch 7/150\n",
            "62/62 [==============================] - 0s 2ms/step - loss: 0.7199 - accuracy: 0.6547 - val_loss: 0.6581 - val_accuracy: 0.7273\n",
            "Epoch 8/150\n",
            "62/62 [==============================] - 0s 2ms/step - loss: 0.6894 - accuracy: 0.6254 - val_loss: 0.6338 - val_accuracy: 0.7078\n",
            "Epoch 9/150\n",
            "62/62 [==============================] - 0s 2ms/step - loss: 0.6473 - accuracy: 0.6564 - val_loss: 0.6511 - val_accuracy: 0.7338\n",
            "Epoch 10/150\n",
            "62/62 [==============================] - 0s 2ms/step - loss: 0.6534 - accuracy: 0.6531 - val_loss: 0.6492 - val_accuracy: 0.6883\n",
            "Epoch 11/150\n",
            "62/62 [==============================] - 0s 2ms/step - loss: 0.6425 - accuracy: 0.6645 - val_loss: 0.6123 - val_accuracy: 0.6948\n",
            "Epoch 12/150\n",
            "62/62 [==============================] - 0s 3ms/step - loss: 0.6051 - accuracy: 0.6710 - val_loss: 0.6205 - val_accuracy: 0.7208\n",
            "Epoch 13/150\n",
            "62/62 [==============================] - 0s 2ms/step - loss: 0.6086 - accuracy: 0.6775 - val_loss: 0.6113 - val_accuracy: 0.7273\n",
            "Epoch 14/150\n",
            "62/62 [==============================] - 0s 2ms/step - loss: 0.5919 - accuracy: 0.6743 - val_loss: 0.6026 - val_accuracy: 0.7078\n",
            "Epoch 15/150\n",
            "62/62 [==============================] - 0s 2ms/step - loss: 0.5858 - accuracy: 0.7036 - val_loss: 0.5995 - val_accuracy: 0.7078\n",
            "Epoch 16/150\n",
            "62/62 [==============================] - 0s 2ms/step - loss: 0.5825 - accuracy: 0.6971 - val_loss: 0.6224 - val_accuracy: 0.7013\n",
            "Epoch 17/150\n",
            "62/62 [==============================] - 0s 2ms/step - loss: 0.6014 - accuracy: 0.6824 - val_loss: 0.5971 - val_accuracy: 0.7143\n",
            "Epoch 18/150\n",
            "62/62 [==============================] - 0s 2ms/step - loss: 0.5922 - accuracy: 0.6954 - val_loss: 0.5936 - val_accuracy: 0.7468\n",
            "Epoch 19/150\n",
            "62/62 [==============================] - 0s 2ms/step - loss: 0.5813 - accuracy: 0.7036 - val_loss: 0.6246 - val_accuracy: 0.6364\n",
            "Epoch 20/150\n",
            "62/62 [==============================] - 0s 2ms/step - loss: 0.5822 - accuracy: 0.7085 - val_loss: 0.6042 - val_accuracy: 0.7273\n",
            "Epoch 21/150\n",
            "62/62 [==============================] - 0s 2ms/step - loss: 0.5850 - accuracy: 0.6971 - val_loss: 0.6062 - val_accuracy: 0.7208\n",
            "Epoch 22/150\n",
            "62/62 [==============================] - 0s 2ms/step - loss: 0.5749 - accuracy: 0.6857 - val_loss: 0.5992 - val_accuracy: 0.7143\n",
            "Epoch 23/150\n",
            "62/62 [==============================] - 0s 2ms/step - loss: 0.5874 - accuracy: 0.6873 - val_loss: 0.6513 - val_accuracy: 0.6883\n",
            "Epoch 24/150\n",
            "62/62 [==============================] - 0s 2ms/step - loss: 0.5766 - accuracy: 0.7003 - val_loss: 0.5969 - val_accuracy: 0.7338\n",
            "Epoch 25/150\n",
            "62/62 [==============================] - 0s 2ms/step - loss: 0.5880 - accuracy: 0.7003 - val_loss: 0.6132 - val_accuracy: 0.6753\n",
            "Epoch 26/150\n",
            "62/62 [==============================] - 0s 2ms/step - loss: 0.5779 - accuracy: 0.6971 - val_loss: 0.5929 - val_accuracy: 0.6948\n",
            "Epoch 27/150\n",
            "62/62 [==============================] - 0s 2ms/step - loss: 0.5702 - accuracy: 0.6971 - val_loss: 0.6189 - val_accuracy: 0.7338\n",
            "Epoch 28/150\n",
            "62/62 [==============================] - 0s 2ms/step - loss: 0.5690 - accuracy: 0.6954 - val_loss: 0.6137 - val_accuracy: 0.7013\n",
            "Epoch 29/150\n",
            "62/62 [==============================] - 0s 2ms/step - loss: 0.5669 - accuracy: 0.7231 - val_loss: 0.6126 - val_accuracy: 0.6558\n",
            "Epoch 30/150\n",
            "62/62 [==============================] - 0s 2ms/step - loss: 0.5828 - accuracy: 0.7068 - val_loss: 0.5823 - val_accuracy: 0.7403\n",
            "Epoch 31/150\n",
            "62/62 [==============================] - 0s 2ms/step - loss: 0.5609 - accuracy: 0.7117 - val_loss: 0.5948 - val_accuracy: 0.7338\n",
            "Epoch 32/150\n",
            "62/62 [==============================] - 0s 2ms/step - loss: 0.5821 - accuracy: 0.6906 - val_loss: 0.5813 - val_accuracy: 0.7338\n",
            "Epoch 33/150\n",
            "62/62 [==============================] - 0s 3ms/step - loss: 0.5588 - accuracy: 0.7085 - val_loss: 0.6580 - val_accuracy: 0.6429\n",
            "Epoch 34/150\n",
            "62/62 [==============================] - 0s 2ms/step - loss: 0.5594 - accuracy: 0.7020 - val_loss: 0.5839 - val_accuracy: 0.7468\n",
            "Epoch 35/150\n",
            "62/62 [==============================] - 0s 2ms/step - loss: 0.5768 - accuracy: 0.7117 - val_loss: 0.6736 - val_accuracy: 0.6948\n",
            "Epoch 36/150\n",
            "62/62 [==============================] - 0s 2ms/step - loss: 0.5955 - accuracy: 0.6954 - val_loss: 0.6104 - val_accuracy: 0.7143\n",
            "Epoch 37/150\n",
            "62/62 [==============================] - 0s 2ms/step - loss: 0.5579 - accuracy: 0.6922 - val_loss: 0.5785 - val_accuracy: 0.7338\n",
            "Epoch 38/150\n",
            "62/62 [==============================] - 0s 2ms/step - loss: 0.5541 - accuracy: 0.7166 - val_loss: 0.6152 - val_accuracy: 0.7403\n",
            "Epoch 39/150\n",
            "62/62 [==============================] - 0s 3ms/step - loss: 0.5516 - accuracy: 0.7134 - val_loss: 0.5871 - val_accuracy: 0.7468\n",
            "Epoch 40/150\n",
            "62/62 [==============================] - 0s 2ms/step - loss: 0.5752 - accuracy: 0.7134 - val_loss: 0.5895 - val_accuracy: 0.7338\n",
            "Epoch 41/150\n",
            "62/62 [==============================] - 0s 2ms/step - loss: 0.5557 - accuracy: 0.7134 - val_loss: 0.5810 - val_accuracy: 0.7403\n",
            "Epoch 42/150\n",
            "62/62 [==============================] - 0s 2ms/step - loss: 0.5648 - accuracy: 0.7003 - val_loss: 0.5833 - val_accuracy: 0.7273\n",
            "Epoch 43/150\n",
            "62/62 [==============================] - 0s 2ms/step - loss: 0.5509 - accuracy: 0.7264 - val_loss: 0.6166 - val_accuracy: 0.7208\n",
            "Epoch 44/150\n",
            "62/62 [==============================] - 0s 2ms/step - loss: 0.5645 - accuracy: 0.7117 - val_loss: 0.5916 - val_accuracy: 0.6883\n",
            "Epoch 45/150\n",
            "62/62 [==============================] - 0s 2ms/step - loss: 0.5806 - accuracy: 0.7166 - val_loss: 0.5726 - val_accuracy: 0.7338\n",
            "Epoch 46/150\n",
            "62/62 [==============================] - 0s 2ms/step - loss: 0.5450 - accuracy: 0.7248 - val_loss: 0.5870 - val_accuracy: 0.7273\n",
            "Epoch 47/150\n",
            "62/62 [==============================] - 0s 2ms/step - loss: 0.5538 - accuracy: 0.7101 - val_loss: 0.6375 - val_accuracy: 0.7338\n",
            "Epoch 48/150\n",
            "62/62 [==============================] - 0s 2ms/step - loss: 0.5433 - accuracy: 0.7085 - val_loss: 0.6002 - val_accuracy: 0.7338\n",
            "Epoch 49/150\n",
            "62/62 [==============================] - 0s 2ms/step - loss: 0.5535 - accuracy: 0.7231 - val_loss: 0.6013 - val_accuracy: 0.7273\n",
            "Epoch 50/150\n",
            "62/62 [==============================] - 0s 2ms/step - loss: 0.5482 - accuracy: 0.7215 - val_loss: 0.5752 - val_accuracy: 0.7338\n",
            "Epoch 51/150\n",
            "62/62 [==============================] - 0s 2ms/step - loss: 0.5618 - accuracy: 0.7117 - val_loss: 0.5785 - val_accuracy: 0.7143\n",
            "Epoch 52/150\n",
            "62/62 [==============================] - 0s 2ms/step - loss: 0.5506 - accuracy: 0.7443 - val_loss: 0.6236 - val_accuracy: 0.7078\n",
            "Epoch 53/150\n",
            "62/62 [==============================] - 0s 2ms/step - loss: 0.5512 - accuracy: 0.7248 - val_loss: 0.5674 - val_accuracy: 0.7532\n",
            "Epoch 54/150\n",
            "62/62 [==============================] - 0s 2ms/step - loss: 0.5791 - accuracy: 0.7117 - val_loss: 0.5931 - val_accuracy: 0.7468\n",
            "Epoch 55/150\n",
            "62/62 [==============================] - 0s 2ms/step - loss: 0.5437 - accuracy: 0.7068 - val_loss: 0.5768 - val_accuracy: 0.7403\n",
            "Epoch 56/150\n",
            "62/62 [==============================] - 0s 2ms/step - loss: 0.5397 - accuracy: 0.7280 - val_loss: 0.5983 - val_accuracy: 0.7403\n",
            "Epoch 57/150\n",
            "62/62 [==============================] - 0s 2ms/step - loss: 0.5446 - accuracy: 0.7264 - val_loss: 0.5829 - val_accuracy: 0.7338\n",
            "Epoch 58/150\n",
            "62/62 [==============================] - 0s 2ms/step - loss: 0.5408 - accuracy: 0.7264 - val_loss: 0.5767 - val_accuracy: 0.7532\n",
            "Epoch 59/150\n",
            "62/62 [==============================] - 0s 2ms/step - loss: 0.5650 - accuracy: 0.6938 - val_loss: 0.6186 - val_accuracy: 0.7208\n",
            "Epoch 60/150\n",
            "62/62 [==============================] - 0s 2ms/step - loss: 0.5391 - accuracy: 0.7329 - val_loss: 0.5817 - val_accuracy: 0.7208\n",
            "Epoch 61/150\n",
            "62/62 [==============================] - 0s 2ms/step - loss: 0.5424 - accuracy: 0.7101 - val_loss: 0.6369 - val_accuracy: 0.7273\n",
            "Epoch 62/150\n",
            "62/62 [==============================] - 0s 2ms/step - loss: 0.5573 - accuracy: 0.7085 - val_loss: 0.5944 - val_accuracy: 0.7208\n",
            "Epoch 63/150\n",
            "62/62 [==============================] - 0s 3ms/step - loss: 0.5433 - accuracy: 0.7166 - val_loss: 0.5857 - val_accuracy: 0.7273\n",
            "Epoch 64/150\n",
            "62/62 [==============================] - 0s 2ms/step - loss: 0.5325 - accuracy: 0.7313 - val_loss: 0.5818 - val_accuracy: 0.7468\n",
            "Epoch 65/150\n",
            "62/62 [==============================] - 0s 2ms/step - loss: 0.5501 - accuracy: 0.7264 - val_loss: 0.5901 - val_accuracy: 0.7403\n",
            "Epoch 66/150\n",
            "62/62 [==============================] - 0s 2ms/step - loss: 0.5343 - accuracy: 0.7296 - val_loss: 0.5957 - val_accuracy: 0.7338\n",
            "Epoch 67/150\n",
            "62/62 [==============================] - 0s 2ms/step - loss: 0.5491 - accuracy: 0.7264 - val_loss: 0.5634 - val_accuracy: 0.7338\n",
            "Epoch 68/150\n",
            "62/62 [==============================] - 0s 2ms/step - loss: 0.5283 - accuracy: 0.7182 - val_loss: 0.5744 - val_accuracy: 0.7338\n",
            "Epoch 69/150\n",
            "62/62 [==============================] - 0s 2ms/step - loss: 0.5358 - accuracy: 0.7280 - val_loss: 0.5686 - val_accuracy: 0.7468\n",
            "Epoch 70/150\n",
            "62/62 [==============================] - 0s 3ms/step - loss: 0.5346 - accuracy: 0.7264 - val_loss: 0.5790 - val_accuracy: 0.7403\n",
            "Epoch 71/150\n",
            "62/62 [==============================] - 0s 2ms/step - loss: 0.5385 - accuracy: 0.7313 - val_loss: 0.5555 - val_accuracy: 0.7403\n",
            "Epoch 72/150\n",
            "62/62 [==============================] - 0s 2ms/step - loss: 0.5270 - accuracy: 0.7345 - val_loss: 0.5621 - val_accuracy: 0.7403\n",
            "Epoch 73/150\n",
            "62/62 [==============================] - 0s 2ms/step - loss: 0.5391 - accuracy: 0.7345 - val_loss: 0.5950 - val_accuracy: 0.7338\n",
            "Epoch 74/150\n",
            "62/62 [==============================] - 0s 2ms/step - loss: 0.5310 - accuracy: 0.7394 - val_loss: 0.5947 - val_accuracy: 0.7532\n",
            "Epoch 75/150\n",
            "62/62 [==============================] - 0s 2ms/step - loss: 0.5449 - accuracy: 0.7215 - val_loss: 0.5774 - val_accuracy: 0.7468\n",
            "Epoch 76/150\n",
            "62/62 [==============================] - 0s 2ms/step - loss: 0.5292 - accuracy: 0.7443 - val_loss: 0.5517 - val_accuracy: 0.7468\n",
            "Epoch 77/150\n",
            "62/62 [==============================] - 0s 2ms/step - loss: 0.5251 - accuracy: 0.7459 - val_loss: 0.5632 - val_accuracy: 0.7468\n",
            "Epoch 78/150\n",
            "62/62 [==============================] - 0s 2ms/step - loss: 0.5203 - accuracy: 0.7443 - val_loss: 0.5770 - val_accuracy: 0.7273\n",
            "Epoch 79/150\n",
            "62/62 [==============================] - 0s 2ms/step - loss: 0.5315 - accuracy: 0.7296 - val_loss: 0.5565 - val_accuracy: 0.7532\n",
            "Epoch 80/150\n",
            "62/62 [==============================] - 0s 3ms/step - loss: 0.5292 - accuracy: 0.7150 - val_loss: 0.5757 - val_accuracy: 0.7597\n",
            "Epoch 81/150\n",
            "62/62 [==============================] - 0s 2ms/step - loss: 0.5225 - accuracy: 0.7362 - val_loss: 0.5964 - val_accuracy: 0.7273\n",
            "Epoch 82/150\n",
            "62/62 [==============================] - 0s 3ms/step - loss: 0.5342 - accuracy: 0.7394 - val_loss: 0.5626 - val_accuracy: 0.7338\n",
            "Epoch 83/150\n",
            "62/62 [==============================] - 0s 2ms/step - loss: 0.5401 - accuracy: 0.7329 - val_loss: 0.5655 - val_accuracy: 0.7403\n",
            "Epoch 84/150\n",
            "62/62 [==============================] - 0s 2ms/step - loss: 0.5394 - accuracy: 0.7085 - val_loss: 0.5624 - val_accuracy: 0.7597\n",
            "Epoch 85/150\n",
            "62/62 [==============================] - 0s 2ms/step - loss: 0.5182 - accuracy: 0.7313 - val_loss: 0.5884 - val_accuracy: 0.7468\n",
            "Epoch 86/150\n",
            "62/62 [==============================] - 0s 2ms/step - loss: 0.5292 - accuracy: 0.7296 - val_loss: 0.5495 - val_accuracy: 0.7468\n",
            "Epoch 87/150\n",
            "62/62 [==============================] - 0s 2ms/step - loss: 0.5267 - accuracy: 0.7280 - val_loss: 0.5656 - val_accuracy: 0.7532\n",
            "Epoch 88/150\n",
            "62/62 [==============================] - 0s 2ms/step - loss: 0.5551 - accuracy: 0.7101 - val_loss: 0.5551 - val_accuracy: 0.7597\n",
            "Epoch 89/150\n",
            "62/62 [==============================] - 0s 2ms/step - loss: 0.5261 - accuracy: 0.7329 - val_loss: 0.5566 - val_accuracy: 0.7338\n",
            "Epoch 90/150\n",
            "62/62 [==============================] - 0s 2ms/step - loss: 0.5188 - accuracy: 0.7296 - val_loss: 0.5606 - val_accuracy: 0.7532\n",
            "Epoch 91/150\n",
            "62/62 [==============================] - 0s 2ms/step - loss: 0.5219 - accuracy: 0.7410 - val_loss: 0.5676 - val_accuracy: 0.7468\n",
            "Epoch 92/150\n",
            "62/62 [==============================] - 0s 2ms/step - loss: 0.5391 - accuracy: 0.7329 - val_loss: 0.5505 - val_accuracy: 0.7597\n",
            "Epoch 93/150\n",
            "62/62 [==============================] - 0s 3ms/step - loss: 0.5267 - accuracy: 0.7264 - val_loss: 0.5460 - val_accuracy: 0.7273\n",
            "Epoch 94/150\n",
            "62/62 [==============================] - 0s 2ms/step - loss: 0.5164 - accuracy: 0.7443 - val_loss: 0.5641 - val_accuracy: 0.7468\n",
            "Epoch 95/150\n",
            "62/62 [==============================] - 0s 2ms/step - loss: 0.5420 - accuracy: 0.7085 - val_loss: 0.6105 - val_accuracy: 0.7013\n",
            "Epoch 96/150\n",
            "62/62 [==============================] - 0s 2ms/step - loss: 0.5369 - accuracy: 0.7410 - val_loss: 0.5751 - val_accuracy: 0.7468\n",
            "Epoch 97/150\n",
            "62/62 [==============================] - 0s 2ms/step - loss: 0.5306 - accuracy: 0.7231 - val_loss: 0.5515 - val_accuracy: 0.7662\n",
            "Epoch 98/150\n",
            "62/62 [==============================] - 0s 2ms/step - loss: 0.5294 - accuracy: 0.7215 - val_loss: 0.5949 - val_accuracy: 0.7597\n",
            "Epoch 99/150\n",
            "62/62 [==============================] - 0s 2ms/step - loss: 0.5363 - accuracy: 0.7296 - val_loss: 0.5697 - val_accuracy: 0.7403\n",
            "Epoch 100/150\n",
            "62/62 [==============================] - 0s 2ms/step - loss: 0.5156 - accuracy: 0.7443 - val_loss: 0.5735 - val_accuracy: 0.7403\n",
            "Epoch 101/150\n",
            "62/62 [==============================] - 0s 2ms/step - loss: 0.5300 - accuracy: 0.7248 - val_loss: 0.5573 - val_accuracy: 0.7468\n",
            "Epoch 102/150\n",
            "62/62 [==============================] - 0s 3ms/step - loss: 0.5231 - accuracy: 0.7378 - val_loss: 0.5700 - val_accuracy: 0.7273\n",
            "Epoch 103/150\n",
            "62/62 [==============================] - 0s 2ms/step - loss: 0.5277 - accuracy: 0.7362 - val_loss: 0.5644 - val_accuracy: 0.7468\n",
            "Epoch 104/150\n",
            "62/62 [==============================] - 0s 2ms/step - loss: 0.5078 - accuracy: 0.7573 - val_loss: 0.5638 - val_accuracy: 0.7468\n",
            "Epoch 105/150\n",
            "62/62 [==============================] - 0s 2ms/step - loss: 0.5167 - accuracy: 0.7362 - val_loss: 0.5613 - val_accuracy: 0.7532\n",
            "Epoch 106/150\n",
            "62/62 [==============================] - 0s 2ms/step - loss: 0.5213 - accuracy: 0.7410 - val_loss: 0.5408 - val_accuracy: 0.7532\n",
            "Epoch 107/150\n",
            "62/62 [==============================] - 0s 2ms/step - loss: 0.5061 - accuracy: 0.7410 - val_loss: 0.5450 - val_accuracy: 0.7468\n",
            "Epoch 108/150\n",
            "62/62 [==============================] - 0s 2ms/step - loss: 0.5034 - accuracy: 0.7541 - val_loss: 0.6192 - val_accuracy: 0.6948\n",
            "Epoch 109/150\n",
            "62/62 [==============================] - 0s 2ms/step - loss: 0.5295 - accuracy: 0.7264 - val_loss: 0.5911 - val_accuracy: 0.7208\n",
            "Epoch 110/150\n",
            "62/62 [==============================] - 0s 2ms/step - loss: 0.5221 - accuracy: 0.7362 - val_loss: 0.5658 - val_accuracy: 0.7273\n",
            "Epoch 111/150\n",
            "62/62 [==============================] - 0s 2ms/step - loss: 0.5090 - accuracy: 0.7508 - val_loss: 0.5574 - val_accuracy: 0.7338\n",
            "Epoch 112/150\n",
            "62/62 [==============================] - 0s 2ms/step - loss: 0.5129 - accuracy: 0.7492 - val_loss: 0.5548 - val_accuracy: 0.7597\n",
            "Epoch 113/150\n",
            "62/62 [==============================] - 0s 2ms/step - loss: 0.5159 - accuracy: 0.7443 - val_loss: 0.5724 - val_accuracy: 0.7532\n",
            "Epoch 114/150\n",
            "62/62 [==============================] - 0s 2ms/step - loss: 0.5065 - accuracy: 0.7345 - val_loss: 0.5429 - val_accuracy: 0.7338\n",
            "Epoch 115/150\n",
            "62/62 [==============================] - 0s 3ms/step - loss: 0.5113 - accuracy: 0.7345 - val_loss: 0.5533 - val_accuracy: 0.7532\n",
            "Epoch 116/150\n",
            "62/62 [==============================] - 0s 2ms/step - loss: 0.5176 - accuracy: 0.7345 - val_loss: 0.5477 - val_accuracy: 0.7403\n",
            "Epoch 117/150\n",
            "62/62 [==============================] - 0s 2ms/step - loss: 0.5155 - accuracy: 0.7508 - val_loss: 0.5361 - val_accuracy: 0.7403\n",
            "Epoch 118/150\n",
            "62/62 [==============================] - 0s 2ms/step - loss: 0.5074 - accuracy: 0.7410 - val_loss: 0.6012 - val_accuracy: 0.7403\n",
            "Epoch 119/150\n",
            "62/62 [==============================] - 0s 3ms/step - loss: 0.5247 - accuracy: 0.7557 - val_loss: 0.5922 - val_accuracy: 0.7273\n",
            "Epoch 120/150\n",
            "62/62 [==============================] - 0s 2ms/step - loss: 0.5136 - accuracy: 0.7541 - val_loss: 0.5382 - val_accuracy: 0.7468\n",
            "Epoch 121/150\n",
            "62/62 [==============================] - 0s 2ms/step - loss: 0.5093 - accuracy: 0.7476 - val_loss: 0.5634 - val_accuracy: 0.7338\n",
            "Epoch 122/150\n",
            "62/62 [==============================] - 0s 2ms/step - loss: 0.5203 - accuracy: 0.7329 - val_loss: 0.5570 - val_accuracy: 0.7532\n",
            "Epoch 123/150\n",
            "62/62 [==============================] - 0s 2ms/step - loss: 0.5042 - accuracy: 0.7508 - val_loss: 0.5852 - val_accuracy: 0.7338\n",
            "Epoch 124/150\n",
            "62/62 [==============================] - 0s 2ms/step - loss: 0.5076 - accuracy: 0.7524 - val_loss: 0.5773 - val_accuracy: 0.7597\n",
            "Epoch 125/150\n",
            "62/62 [==============================] - 0s 3ms/step - loss: 0.5138 - accuracy: 0.7492 - val_loss: 0.5401 - val_accuracy: 0.7597\n",
            "Epoch 126/150\n",
            "62/62 [==============================] - 0s 2ms/step - loss: 0.5069 - accuracy: 0.7508 - val_loss: 0.5564 - val_accuracy: 0.7792\n",
            "Epoch 127/150\n",
            "62/62 [==============================] - 0s 3ms/step - loss: 0.5064 - accuracy: 0.7524 - val_loss: 0.5547 - val_accuracy: 0.7532\n",
            "Epoch 128/150\n",
            "62/62 [==============================] - 0s 2ms/step - loss: 0.5014 - accuracy: 0.7492 - val_loss: 0.5532 - val_accuracy: 0.7792\n",
            "Epoch 129/150\n",
            "62/62 [==============================] - 0s 2ms/step - loss: 0.5024 - accuracy: 0.7492 - val_loss: 0.5429 - val_accuracy: 0.7338\n",
            "Epoch 130/150\n",
            "62/62 [==============================] - 0s 2ms/step - loss: 0.4961 - accuracy: 0.7687 - val_loss: 0.5604 - val_accuracy: 0.7403\n",
            "Epoch 131/150\n",
            "62/62 [==============================] - 0s 2ms/step - loss: 0.5092 - accuracy: 0.7573 - val_loss: 0.5551 - val_accuracy: 0.7338\n",
            "Epoch 132/150\n",
            "62/62 [==============================] - 0s 2ms/step - loss: 0.5008 - accuracy: 0.7524 - val_loss: 0.5702 - val_accuracy: 0.7208\n",
            "Epoch 133/150\n",
            "62/62 [==============================] - 0s 2ms/step - loss: 0.5075 - accuracy: 0.7590 - val_loss: 0.5302 - val_accuracy: 0.7403\n",
            "Epoch 134/150\n",
            "62/62 [==============================] - 0s 2ms/step - loss: 0.5050 - accuracy: 0.7492 - val_loss: 0.5552 - val_accuracy: 0.7662\n",
            "Epoch 135/150\n",
            "62/62 [==============================] - 0s 2ms/step - loss: 0.5020 - accuracy: 0.7476 - val_loss: 0.5586 - val_accuracy: 0.7857\n",
            "Epoch 136/150\n",
            "62/62 [==============================] - 0s 2ms/step - loss: 0.5198 - accuracy: 0.7524 - val_loss: 0.5510 - val_accuracy: 0.7403\n",
            "Epoch 137/150\n",
            "62/62 [==============================] - 0s 3ms/step - loss: 0.5028 - accuracy: 0.7492 - val_loss: 0.5623 - val_accuracy: 0.7273\n",
            "Epoch 138/150\n",
            "62/62 [==============================] - 0s 2ms/step - loss: 0.5032 - accuracy: 0.7524 - val_loss: 0.5444 - val_accuracy: 0.7273\n",
            "Epoch 139/150\n",
            "62/62 [==============================] - 0s 3ms/step - loss: 0.4987 - accuracy: 0.7590 - val_loss: 0.5531 - val_accuracy: 0.7532\n",
            "Epoch 140/150\n",
            "62/62 [==============================] - 0s 2ms/step - loss: 0.5014 - accuracy: 0.7557 - val_loss: 0.5550 - val_accuracy: 0.7403\n",
            "Epoch 141/150\n",
            "62/62 [==============================] - 0s 2ms/step - loss: 0.4993 - accuracy: 0.7492 - val_loss: 0.5683 - val_accuracy: 0.7403\n",
            "Epoch 142/150\n",
            "62/62 [==============================] - 0s 3ms/step - loss: 0.4947 - accuracy: 0.7606 - val_loss: 0.6250 - val_accuracy: 0.7013\n",
            "Epoch 143/150\n",
            "62/62 [==============================] - 0s 2ms/step - loss: 0.4978 - accuracy: 0.7590 - val_loss: 0.5354 - val_accuracy: 0.7403\n",
            "Epoch 144/150\n",
            "62/62 [==============================] - 0s 2ms/step - loss: 0.5018 - accuracy: 0.7573 - val_loss: 0.5365 - val_accuracy: 0.7468\n",
            "Epoch 145/150\n",
            "62/62 [==============================] - 0s 2ms/step - loss: 0.4916 - accuracy: 0.7606 - val_loss: 0.5452 - val_accuracy: 0.7468\n",
            "Epoch 146/150\n",
            "62/62 [==============================] - 0s 3ms/step - loss: 0.5112 - accuracy: 0.7459 - val_loss: 0.5760 - val_accuracy: 0.6948\n",
            "Epoch 147/150\n",
            "62/62 [==============================] - 0s 2ms/step - loss: 0.4980 - accuracy: 0.7459 - val_loss: 0.5394 - val_accuracy: 0.7727\n",
            "Epoch 148/150\n",
            "62/62 [==============================] - 0s 2ms/step - loss: 0.4964 - accuracy: 0.7524 - val_loss: 0.5563 - val_accuracy: 0.7727\n",
            "Epoch 149/150\n",
            "62/62 [==============================] - 0s 3ms/step - loss: 0.4922 - accuracy: 0.7541 - val_loss: 0.5423 - val_accuracy: 0.7662\n",
            "Epoch 150/150\n",
            "62/62 [==============================] - 0s 2ms/step - loss: 0.5031 - accuracy: 0.7476 - val_loss: 0.5800 - val_accuracy: 0.7468\n"
          ]
        }
      ]
    },
    {
      "cell_type": "code",
      "metadata": {
        "id": "marw6sEk6aXj",
        "outputId": "7d270885-a28f-4e77-98fd-0216a004a273",
        "colab": {
          "base_uri": "https://localhost:8080/",
          "height": 295
        }
      },
      "source": [
        "# 훈련 데이터와 검증 데이터에 대한 loss 시각화.\n",
        "epochs = range(1, len(hist.history['loss']) + 1)\n",
        "\n",
        "loss_list = hist.history['loss'] #[100 * i for i in history.history['loss']]\n",
        "vloss_list = hist.history['val_loss'] #[100 * i for i in history.history['val_loss']]\n",
        "\n",
        "plt.plot(epochs,loss_list)  \n",
        "plt.plot(epochs,vloss_list)\n",
        "\n",
        "plt.plot(np.argmin(np.array(vloss_list))+1,vloss_list[np.argmin(np.array(vloss_list))], 'r*')\n",
        "plt.title('Diabetes: FCN model - val_loss, min:' + str(np.round(vloss_list[np.argmin(np.array(vloss_list))],2)))\n",
        "plt.ylabel('val-Loss (%)')\n",
        "plt.xlabel('Epoch')\n",
        "plt.legend(['loss','val_loss','best'], loc='best')\n",
        "plt.show()"
      ],
      "execution_count": 125,
      "outputs": [
        {
          "output_type": "display_data",
          "data": {
            "image/png": "[encoded data removed]",
            "text/plain": [
              "<Figure size 432x288 with 1 Axes>"
            ]
          },
          "metadata": {
            "needs_background": "light"
          }
        }
      ]
    },
    {
      "cell_type": "code",
      "metadata": {
        "id": "tZveoODV6e8F",
        "outputId": "ce6b3902-9c1d-4841-d912-fb0e2b6189a9",
        "colab": {
          "base_uri": "https://localhost:8080/",
          "height": 295
        }
      },
      "source": [
        "# 훈련 데이터와 검증 데이터에 대한 accuracy 시각화.\n",
        "epochs = range(1, len(hist.history['accuracy']) + 1)\n",
        "\n",
        "acc_list = [100 * i for i in hist.history['accuracy']]\n",
        "vacc_list = [100 * i for i in hist.history['val_accuracy']]\n",
        "\n",
        "plt.plot(epochs,acc_list)  \n",
        "plt.plot(epochs,vacc_list)\n",
        "\n",
        "plt.plot(np.argmax(np.array(vacc_list))+1,vacc_list[np.argmax(np.array(vacc_list))], 'r*')\n",
        "plt.title('Diabetes: FCN model - val_accuracy, max:' + str(np.round(vacc_list[np.argmax(np.array(vacc_list))],2)))\n",
        "plt.ylabel('val-Accuracy (%)')\n",
        "plt.xlabel('Epoch')\n",
        "plt.legend(['accuracy','val_accuracy','best'], loc='best')\n",
        "plt.show()"
      ],
      "execution_count": 126,
      "outputs": [
        {
          "output_type": "display_data",
          "data": {
            "image/png": "[encoded data removed]",
            "text/plain": [
              "<Figure size 432x288 with 1 Axes>"
            ]
          },
          "metadata": {
            "needs_background": "light"
          }
        }
      ]
    },
    {
      "cell_type": "code",
      "metadata": {
        "id": "QVoJ-xor7Kc2"
      },
      "source": [
        "cp_callback = callbacks.ModelCheckpoint(filepath=\"./diabetes_DL_SS_best_weights.{epoch:03d}-{val_accuracy:.3f}.hdf5\", \n",
        "                              monitor='val_accuracy', verbose=0, save_best_only=True)\n",
        "es_callback = callbacks.EarlyStopping(monitor='val_accuracy', \n",
        "                            mode='max', verbose=1, patience=50)    # patience=10, 20, 50"
      ],
      "execution_count": 127,
      "outputs": []
    },
    {
      "cell_type": "code",
      "metadata": {
        "id": "dif13n8W7W3U",
        "outputId": "320c8b0f-6a1b-4da2-f604-9bccb3956867",
        "colab": {
          "base_uri": "https://localhost:8080/"
        }
      },
      "source": [
        "hist = model3.fit(X_train, y_train, epochs=500, batch_size=10, verbose=1, \n",
        "                  callbacks=[cp_callback, es_callback], \n",
        "                  validation_data=(X_test, y_test))"
      ],
      "execution_count": 128,
      "outputs": [
        {
          "output_type": "stream",
          "name": "stdout",
          "text": [
            "Epoch 1/500\n",
            "62/62 [==============================] - 0s 3ms/step - loss: 0.5109 - accuracy: 0.7638 - val_loss: 0.5592 - val_accuracy: 0.7143\n",
            "Epoch 2/500\n",
            "62/62 [==============================] - 0s 3ms/step - loss: 0.5054 - accuracy: 0.7443 - val_loss: 0.5449 - val_accuracy: 0.7273\n",
            "Epoch 3/500\n",
            "62/62 [==============================] - 0s 2ms/step - loss: 0.4814 - accuracy: 0.7671 - val_loss: 0.5496 - val_accuracy: 0.7403\n",
            "Epoch 4/500\n",
            "62/62 [==============================] - 0s 3ms/step - loss: 0.5012 - accuracy: 0.7671 - val_loss: 0.5547 - val_accuracy: 0.7338\n",
            "Epoch 5/500\n",
            "62/62 [==============================] - 0s 2ms/step - loss: 0.4926 - accuracy: 0.7362 - val_loss: 0.5782 - val_accuracy: 0.7403\n",
            "Epoch 6/500\n",
            "62/62 [==============================] - 0s 2ms/step - loss: 0.5080 - accuracy: 0.7459 - val_loss: 0.5596 - val_accuracy: 0.7597\n",
            "Epoch 7/500\n",
            "62/62 [==============================] - 0s 2ms/step - loss: 0.5044 - accuracy: 0.7736 - val_loss: 0.5463 - val_accuracy: 0.7403\n",
            "Epoch 8/500\n",
            "62/62 [==============================] - 0s 2ms/step - loss: 0.5005 - accuracy: 0.7459 - val_loss: 0.5430 - val_accuracy: 0.7273\n",
            "Epoch 9/500\n",
            "62/62 [==============================] - 0s 3ms/step - loss: 0.4937 - accuracy: 0.7622 - val_loss: 0.5656 - val_accuracy: 0.7857\n",
            "Epoch 10/500\n",
            "62/62 [==============================] - 0s 2ms/step - loss: 0.5090 - accuracy: 0.7476 - val_loss: 0.5558 - val_accuracy: 0.7468\n",
            "Epoch 11/500\n",
            "62/62 [==============================] - 0s 2ms/step - loss: 0.4942 - accuracy: 0.7720 - val_loss: 0.5388 - val_accuracy: 0.7403\n",
            "Epoch 12/500\n",
            "62/62 [==============================] - 0s 3ms/step - loss: 0.4915 - accuracy: 0.7736 - val_loss: 0.5468 - val_accuracy: 0.7338\n",
            "Epoch 13/500\n",
            "62/62 [==============================] - 0s 2ms/step - loss: 0.4958 - accuracy: 0.7638 - val_loss: 0.5644 - val_accuracy: 0.7727\n",
            "Epoch 14/500\n",
            "62/62 [==============================] - 0s 2ms/step - loss: 0.4865 - accuracy: 0.7671 - val_loss: 0.5460 - val_accuracy: 0.7662\n",
            "Epoch 15/500\n",
            "62/62 [==============================] - 0s 2ms/step - loss: 0.4892 - accuracy: 0.7443 - val_loss: 0.5456 - val_accuracy: 0.7662\n",
            "Epoch 16/500\n",
            "62/62 [==============================] - 0s 2ms/step - loss: 0.4745 - accuracy: 0.7818 - val_loss: 0.5780 - val_accuracy: 0.7532\n",
            "Epoch 17/500\n",
            "62/62 [==============================] - 0s 2ms/step - loss: 0.4973 - accuracy: 0.7671 - val_loss: 0.5387 - val_accuracy: 0.7338\n",
            "Epoch 18/500\n",
            "62/62 [==============================] - 0s 2ms/step - loss: 0.5047 - accuracy: 0.7573 - val_loss: 0.5420 - val_accuracy: 0.7597\n",
            "Epoch 19/500\n",
            "62/62 [==============================] - 0s 2ms/step - loss: 0.4879 - accuracy: 0.7655 - val_loss: 0.5485 - val_accuracy: 0.7208\n",
            "Epoch 20/500\n",
            "62/62 [==============================] - 0s 2ms/step - loss: 0.4800 - accuracy: 0.7769 - val_loss: 0.5539 - val_accuracy: 0.7273\n",
            "Epoch 21/500\n",
            "62/62 [==============================] - 0s 2ms/step - loss: 0.4943 - accuracy: 0.7655 - val_loss: 0.5506 - val_accuracy: 0.7662\n",
            "Epoch 22/500\n",
            "62/62 [==============================] - 0s 3ms/step - loss: 0.4857 - accuracy: 0.7671 - val_loss: 0.5518 - val_accuracy: 0.7857\n",
            "Epoch 23/500\n",
            "62/62 [==============================] - 0s 2ms/step - loss: 0.4885 - accuracy: 0.7590 - val_loss: 0.5659 - val_accuracy: 0.7208\n",
            "Epoch 24/500\n",
            "62/62 [==============================] - 0s 2ms/step - loss: 0.4927 - accuracy: 0.7671 - val_loss: 0.5509 - val_accuracy: 0.7338\n",
            "Epoch 25/500\n",
            "62/62 [==============================] - 0s 2ms/step - loss: 0.5022 - accuracy: 0.7524 - val_loss: 0.5675 - val_accuracy: 0.7208\n",
            "Epoch 26/500\n",
            "62/62 [==============================] - 0s 3ms/step - loss: 0.5003 - accuracy: 0.7362 - val_loss: 0.5459 - val_accuracy: 0.7143\n",
            "Epoch 27/500\n",
            "62/62 [==============================] - 0s 2ms/step - loss: 0.4793 - accuracy: 0.7834 - val_loss: 0.5685 - val_accuracy: 0.7727\n",
            "Epoch 28/500\n",
            "62/62 [==============================] - 0s 2ms/step - loss: 0.4786 - accuracy: 0.7704 - val_loss: 0.5588 - val_accuracy: 0.7338\n",
            "Epoch 29/500\n",
            "62/62 [==============================] - 0s 2ms/step - loss: 0.4831 - accuracy: 0.7801 - val_loss: 0.5655 - val_accuracy: 0.7143\n",
            "Epoch 30/500\n",
            "62/62 [==============================] - 0s 3ms/step - loss: 0.4920 - accuracy: 0.7655 - val_loss: 0.5358 - val_accuracy: 0.7987\n",
            "Epoch 31/500\n",
            "62/62 [==============================] - 0s 2ms/step - loss: 0.4808 - accuracy: 0.7671 - val_loss: 0.5538 - val_accuracy: 0.7792\n",
            "Epoch 32/500\n",
            "62/62 [==============================] - 0s 2ms/step - loss: 0.4909 - accuracy: 0.7590 - val_loss: 0.5502 - val_accuracy: 0.7857\n",
            "Epoch 33/500\n",
            "62/62 [==============================] - 0s 3ms/step - loss: 0.4738 - accuracy: 0.7671 - val_loss: 0.6239 - val_accuracy: 0.6818\n",
            "Epoch 34/500\n",
            "62/62 [==============================] - 0s 2ms/step - loss: 0.4821 - accuracy: 0.7541 - val_loss: 0.5385 - val_accuracy: 0.7727\n",
            "Epoch 35/500\n",
            "62/62 [==============================] - 0s 2ms/step - loss: 0.4976 - accuracy: 0.7606 - val_loss: 0.5903 - val_accuracy: 0.7013\n",
            "Epoch 36/500\n",
            "62/62 [==============================] - 0s 2ms/step - loss: 0.5011 - accuracy: 0.7606 - val_loss: 0.5580 - val_accuracy: 0.7597\n",
            "Epoch 37/500\n",
            "62/62 [==============================] - 0s 2ms/step - loss: 0.4771 - accuracy: 0.7671 - val_loss: 0.5321 - val_accuracy: 0.7273\n",
            "Epoch 38/500\n",
            "62/62 [==============================] - 0s 2ms/step - loss: 0.4778 - accuracy: 0.7671 - val_loss: 0.5592 - val_accuracy: 0.7338\n",
            "Epoch 39/500\n",
            "62/62 [==============================] - 0s 2ms/step - loss: 0.4756 - accuracy: 0.7850 - val_loss: 0.5484 - val_accuracy: 0.7857\n",
            "Epoch 40/500\n",
            "62/62 [==============================] - 0s 3ms/step - loss: 0.4895 - accuracy: 0.7866 - val_loss: 0.5544 - val_accuracy: 0.7727\n",
            "Epoch 41/500\n",
            "62/62 [==============================] - 0s 2ms/step - loss: 0.4751 - accuracy: 0.7736 - val_loss: 0.5333 - val_accuracy: 0.7338\n",
            "Epoch 42/500\n",
            "62/62 [==============================] - 0s 2ms/step - loss: 0.4922 - accuracy: 0.7557 - val_loss: 0.5576 - val_accuracy: 0.7273\n",
            "Epoch 43/500\n",
            "62/62 [==============================] - 0s 2ms/step - loss: 0.4817 - accuracy: 0.7769 - val_loss: 0.5619 - val_accuracy: 0.7792\n",
            "Epoch 44/500\n",
            "62/62 [==============================] - 0s 2ms/step - loss: 0.4847 - accuracy: 0.7720 - val_loss: 0.5457 - val_accuracy: 0.7078\n",
            "Epoch 45/500\n",
            "62/62 [==============================] - 0s 2ms/step - loss: 0.4857 - accuracy: 0.7752 - val_loss: 0.5460 - val_accuracy: 0.7338\n",
            "Epoch 46/500\n",
            "62/62 [==============================] - 0s 2ms/step - loss: 0.4757 - accuracy: 0.7769 - val_loss: 0.5428 - val_accuracy: 0.7857\n",
            "Epoch 47/500\n",
            "62/62 [==============================] - 0s 2ms/step - loss: 0.4797 - accuracy: 0.7622 - val_loss: 0.6122 - val_accuracy: 0.7597\n",
            "Epoch 48/500\n",
            "62/62 [==============================] - 0s 2ms/step - loss: 0.4749 - accuracy: 0.7736 - val_loss: 0.5589 - val_accuracy: 0.7857\n",
            "Epoch 49/500\n",
            "62/62 [==============================] - 0s 2ms/step - loss: 0.4757 - accuracy: 0.7801 - val_loss: 0.5559 - val_accuracy: 0.7792\n",
            "Epoch 50/500\n",
            "62/62 [==============================] - 0s 2ms/step - loss: 0.4767 - accuracy: 0.7622 - val_loss: 0.5543 - val_accuracy: 0.7468\n",
            "Epoch 51/500\n",
            "62/62 [==============================] - 0s 2ms/step - loss: 0.4869 - accuracy: 0.7769 - val_loss: 0.5331 - val_accuracy: 0.7273\n",
            "Epoch 52/500\n",
            "62/62 [==============================] - 0s 2ms/step - loss: 0.4817 - accuracy: 0.7638 - val_loss: 0.5665 - val_accuracy: 0.7532\n",
            "Epoch 53/500\n",
            "62/62 [==============================] - 0s 2ms/step - loss: 0.4760 - accuracy: 0.7752 - val_loss: 0.5378 - val_accuracy: 0.7273\n",
            "Epoch 54/500\n",
            "62/62 [==============================] - 0s 2ms/step - loss: 0.5033 - accuracy: 0.7492 - val_loss: 0.5299 - val_accuracy: 0.7468\n",
            "Epoch 55/500\n",
            "62/62 [==============================] - 0s 2ms/step - loss: 0.4754 - accuracy: 0.7704 - val_loss: 0.5476 - val_accuracy: 0.7338\n",
            "Epoch 56/500\n",
            "62/62 [==============================] - 0s 2ms/step - loss: 0.4690 - accuracy: 0.7785 - val_loss: 0.5494 - val_accuracy: 0.7078\n",
            "Epoch 57/500\n",
            "62/62 [==============================] - 0s 3ms/step - loss: 0.4754 - accuracy: 0.7752 - val_loss: 0.5487 - val_accuracy: 0.7338\n",
            "Epoch 58/500\n",
            "62/62 [==============================] - 0s 2ms/step - loss: 0.4712 - accuracy: 0.7883 - val_loss: 0.5412 - val_accuracy: 0.7273\n",
            "Epoch 59/500\n",
            "62/62 [==============================] - 0s 2ms/step - loss: 0.4934 - accuracy: 0.7541 - val_loss: 0.5672 - val_accuracy: 0.7792\n",
            "Epoch 60/500\n",
            "62/62 [==============================] - 0s 2ms/step - loss: 0.4703 - accuracy: 0.7720 - val_loss: 0.5514 - val_accuracy: 0.7922\n",
            "Epoch 61/500\n",
            "62/62 [==============================] - 0s 2ms/step - loss: 0.4766 - accuracy: 0.7752 - val_loss: 0.5834 - val_accuracy: 0.7597\n",
            "Epoch 62/500\n",
            "62/62 [==============================] - 0s 2ms/step - loss: 0.4861 - accuracy: 0.7850 - val_loss: 0.5606 - val_accuracy: 0.7662\n",
            "Epoch 63/500\n",
            "62/62 [==============================] - 0s 2ms/step - loss: 0.4776 - accuracy: 0.7687 - val_loss: 0.5450 - val_accuracy: 0.7468\n",
            "Epoch 64/500\n",
            "62/62 [==============================] - 0s 2ms/step - loss: 0.4697 - accuracy: 0.7866 - val_loss: 0.5417 - val_accuracy: 0.7792\n",
            "Epoch 65/500\n",
            "62/62 [==============================] - 0s 2ms/step - loss: 0.4871 - accuracy: 0.7590 - val_loss: 0.5746 - val_accuracy: 0.7468\n",
            "Epoch 66/500\n",
            "62/62 [==============================] - 0s 2ms/step - loss: 0.4718 - accuracy: 0.7769 - val_loss: 0.5560 - val_accuracy: 0.7792\n",
            "Epoch 67/500\n",
            "62/62 [==============================] - 0s 3ms/step - loss: 0.4814 - accuracy: 0.7687 - val_loss: 0.5390 - val_accuracy: 0.7468\n",
            "Epoch 68/500\n",
            "62/62 [==============================] - 0s 2ms/step - loss: 0.4637 - accuracy: 0.7752 - val_loss: 0.5417 - val_accuracy: 0.7727\n",
            "Epoch 69/500\n",
            "62/62 [==============================] - 0s 2ms/step - loss: 0.4730 - accuracy: 0.7720 - val_loss: 0.5437 - val_accuracy: 0.7857\n",
            "Epoch 70/500\n",
            "62/62 [==============================] - 0s 2ms/step - loss: 0.4662 - accuracy: 0.7785 - val_loss: 0.5518 - val_accuracy: 0.7987\n",
            "Epoch 71/500\n",
            "62/62 [==============================] - 0s 2ms/step - loss: 0.4704 - accuracy: 0.7769 - val_loss: 0.5333 - val_accuracy: 0.7403\n",
            "Epoch 72/500\n",
            "62/62 [==============================] - 0s 2ms/step - loss: 0.4678 - accuracy: 0.7638 - val_loss: 0.5318 - val_accuracy: 0.7403\n",
            "Epoch 73/500\n",
            "62/62 [==============================] - 0s 3ms/step - loss: 0.4725 - accuracy: 0.7736 - val_loss: 0.5663 - val_accuracy: 0.7662\n",
            "Epoch 74/500\n",
            "62/62 [==============================] - 0s 2ms/step - loss: 0.4667 - accuracy: 0.7818 - val_loss: 0.5697 - val_accuracy: 0.7143\n",
            "Epoch 75/500\n",
            "62/62 [==============================] - 0s 2ms/step - loss: 0.4780 - accuracy: 0.7671 - val_loss: 0.5529 - val_accuracy: 0.7143\n",
            "Epoch 76/500\n",
            "62/62 [==============================] - 0s 2ms/step - loss: 0.4682 - accuracy: 0.7818 - val_loss: 0.5278 - val_accuracy: 0.7727\n",
            "Epoch 77/500\n",
            "62/62 [==============================] - 0s 2ms/step - loss: 0.4672 - accuracy: 0.7801 - val_loss: 0.5651 - val_accuracy: 0.7662\n",
            "Epoch 78/500\n",
            "62/62 [==============================] - 0s 3ms/step - loss: 0.4633 - accuracy: 0.7850 - val_loss: 0.5724 - val_accuracy: 0.7662\n",
            "Epoch 79/500\n",
            "62/62 [==============================] - 0s 2ms/step - loss: 0.4738 - accuracy: 0.7687 - val_loss: 0.5458 - val_accuracy: 0.7208\n",
            "Epoch 80/500\n",
            "62/62 [==============================] - 0s 2ms/step - loss: 0.4780 - accuracy: 0.7638 - val_loss: 0.5520 - val_accuracy: 0.7597\n",
            "Epoch 00080: early stopping\n"
          ]
        }
      ]
    },
    {
      "cell_type": "code",
      "metadata": {
        "id": "Oq4kG1K78h98",
        "outputId": "495162a2-04fc-4d78-b40d-30907aeaa9e7",
        "colab": {
          "base_uri": "https://localhost:8080/",
          "height": 295
        }
      },
      "source": [
        "epochs = range(1, len(hist.history['accuracy']) + 1)\n",
        "\n",
        "acc_list = [100 * i for i in hist.history['accuracy']]\n",
        "vacc_list = [100 * i for i in hist.history['val_accuracy']]\n",
        "\n",
        "plt.plot(epochs,acc_list)  \n",
        "plt.plot(epochs,vacc_list)\n",
        "\n",
        "plt.plot(np.argmax(np.array(vacc_list))+1,vacc_list[np.argmax(np.array(vacc_list))], 'r*')\n",
        "plt.title('Diabetes: FCN model - val_accuracy, max:' + str(np.round(vacc_list[np.argmax(np.array(vacc_list))],2)))\n",
        "plt.ylabel('val-Accuracy (%)')\n",
        "plt.xlabel('Epoch')\n",
        "plt.legend(['accuracy','val_accuracy','best'], loc='best')\n",
        "plt.show()"
      ],
      "execution_count": 129,
      "outputs": [
        {
          "output_type": "display_data",
          "data": {
            "image/png": "[encoded data removed]",
            "text/plain": [
              "<Figure size 432x288 with 1 Axes>"
            ]
          },
          "metadata": {
            "needs_background": "light"
          }
        }
      ]
    },
    {
      "cell_type": "markdown",
      "metadata": {
        "id": "KwR98ZP374Mn"
      },
      "source": [
        "diabetes_DL_SS_best_weights.030-0.799.hdf5\n"
      ]
    },
    {
      "cell_type": "code",
      "metadata": {
        "id": "06uwDVi37x2i",
        "outputId": "1dd8f4af-bd2b-42ce-ca38-71736347ef7a",
        "colab": {
          "base_uri": "https://localhost:8080/"
        }
      },
      "source": [
        "from keras.models import load_model\n",
        "\n",
        "# model = load_model('your_best_model.hdf5')\n",
        "model3_best = load_model('diabetes_DL_SS_best_weights.030-0.799.hdf5')\n",
        "model3_best.evaluate(X_test, y_test)"
      ],
      "execution_count": 130,
      "outputs": [
        {
          "output_type": "stream",
          "name": "stdout",
          "text": [
            "5/5 [==============================] - 0s 3ms/step - loss: 0.5358 - accuracy: 0.7987\n"
          ]
        },
        {
          "output_type": "execute_result",
          "data": {
            "text/plain": [
              "[0.5358181595802307, 0.798701286315918]"
            ]
          },
          "metadata": {},
          "execution_count": 130
        }
      ]
    },
    {
      "cell_type": "code",
      "metadata": {
        "id": "6WhlOsgS8HQN"
      },
      "source": [
        "predictions = [int(np.round(prob)) for prob in model3_best.predict(X_test)]\n",
        "\n",
        "cm = confusion_matrix(y_test, predictions)"
      ],
      "execution_count": 131,
      "outputs": []
    },
    {
      "cell_type": "code",
      "metadata": {
        "id": "gr3-fBGg8NBd",
        "outputId": "2dd9e922-fd7f-4062-dd0e-72811669ca8a",
        "colab": {
          "base_uri": "https://localhost:8080/",
          "height": 334
        }
      },
      "source": [
        "class_names = ['noDM','DM']\n",
        "plt.figure(figsize=(5,5))\n",
        "sns.heatmap(cm, cbar=False, xticklabels=class_names, yticklabels=class_names, fmt='d', annot=True, cmap=plt.cm.coolwarm)\n",
        "plt.xlabel('Predicted')\n",
        "plt.ylabel('Actual')\n",
        "plt.show()"
      ],
      "execution_count": 132,
      "outputs": [
        {
          "output_type": "display_data",
          "data": {
            "image/png": "[encoded data removed]",
            "text/plain": [
              "<Figure size 360x360 with 1 Axes>"
            ]
          },
          "metadata": {
            "needs_background": "light"
          }
        }
      ]
    }
  ]
}