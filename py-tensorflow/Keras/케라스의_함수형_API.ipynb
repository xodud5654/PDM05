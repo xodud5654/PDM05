{
  "nbformat": 4,
  "nbformat_minor": 0,
  "metadata": {
    "colab": {
      "name": "케라스의 함수형 API.ipynb",
      "provenance": [],
      "collapsed_sections": [],
      "include_colab_link": true
    },
    "kernelspec": {
      "name": "python3",
      "display_name": "Python 3"
    },
    "language_info": {
      "name": "python"
    }
  },
  "cells": [
    {
      "cell_type": "markdown",
      "metadata": {
        "id": "view-in-github",
        "colab_type": "text"
      },
      "source": [
        "<a href=\"https://colab.research.google.com/github/xodud5654/PDM05/blob/main/py-tensorflow/Keras/%EC%BC%80%EB%9D%BC%EC%8A%A4%EC%9D%98_%ED%95%A8%EC%88%98%ED%98%95_API.ipynb\" target=\"_parent\"><img src=\"https://colab.research.google.com/assets/colab-badge.svg\" alt=\"Open In Colab\"/></a>"
      ]
    },
    {
      "cell_type": "markdown",
      "metadata": {
        "id": "4xzBewpBPvSU"
      },
      "source": [
        "이 자료는 위키독스 딥 러닝을 이용한 자연어 처리 입문의 함수형 API 튜토리얼입니다.  \n",
        "링크 : https://wikidocs.net/38861\n",
        "\n",
        "> 참고자료: https://teddylee777.github.io/tensorflow/functional-api"
      ]
    },
    {
      "cell_type": "markdown",
      "metadata": {
        "id": "6A2uEJ3APvSV"
      },
      "source": [
        "2021년 10월 12일에 마지막으로 테스트되었습니다.\n",
        "- 2021년 11월 11일 보완."
      ]
    },
    {
      "cell_type": "code",
      "metadata": {
        "id": "Kecr2o6zg27y"
      },
      "source": [
        "import tensorflow as tf"
      ],
      "execution_count": 1,
      "outputs": []
    },
    {
      "cell_type": "code",
      "metadata": {
        "id": "ND9N4tufhCk5",
        "colab": {
          "base_uri": "https://localhost:8080/",
          "height": 35
        },
        "outputId": "2c8c4738-e754-463c-c90d-5ebb6082982f"
      },
      "source": [
        "tf.__version__"
      ],
      "execution_count": 2,
      "outputs": [
        {
          "output_type": "execute_result",
          "data": {
            "application/vnd.google.colaboratory.intrinsic+json": {
              "type": "string"
            },
            "text/plain": [
              "'2.7.0'"
            ]
          },
          "metadata": {},
          "execution_count": 2
        }
      ]
    },
    {
      "cell_type": "markdown",
      "metadata": {
        "id": "oA1aH__hhOwx"
      },
      "source": [
        "# Keras Model API\n",
        "- Sequential API\n",
        "- Functional API\n",
        "- Subclassing API\n",
        "---\n",
        "## 1. Sequential API"
      ]
    },
    {
      "cell_type": "code",
      "metadata": {
        "id": "EqhaoOSJhDHg",
        "colab": {
          "base_uri": "https://localhost:8080/"
        },
        "outputId": "79586101-0650-454d-b3cd-a5f37740db72"
      },
      "source": [
        "from tensorflow.keras.models import Sequential\n",
        "from tensorflow.keras.layers import Dense\n",
        "\n",
        "# input-Output Model (No hidden layer)\n",
        "model = Sequential()\n",
        "model.add(Dense(3, input_dim=4, activation='softmax'))\n",
        "model.summary()\n",
        "model.compile(optimizer='rmsprop', loss='categorical_crossentropy', metrics=['accuracy'])"
      ],
      "execution_count": 3,
      "outputs": [
        {
          "output_type": "stream",
          "name": "stdout",
          "text": [
            "Model: \"sequential\"\n",
            "_________________________________________________________________\n",
            " Layer (type)                Output Shape              Param #   \n",
            "=================================================================\n",
            " dense (Dense)               (None, 3)                 15        \n",
            "                                                                 \n",
            "=================================================================\n",
            "Total params: 15\n",
            "Trainable params: 15\n",
            "Non-trainable params: 0\n",
            "_________________________________________________________________\n"
          ]
        }
      ]
    },
    {
      "cell_type": "code",
      "metadata": {
        "id": "ZvhbanWUyXX1",
        "colab": {
          "base_uri": "https://localhost:8080/",
          "height": 174
        },
        "outputId": "f06057bf-f503-49bd-d298-2730a80ad37c"
      },
      "source": [
        "# Plt model\n",
        "from tensorflow.keras.utils import plot_model\n",
        "plot_model(model) #, show_shapes=True, show_layer_names=True, to_file='model_S.png')"
      ],
      "execution_count": 4,
      "outputs": [
        {
          "output_type": "execute_result",
          "data": {
            "image/png": "[encoded data removed]",
            "text/plain": [
              "<IPython.core.display.Image object>"
            ]
          },
          "metadata": {},
          "execution_count": 4
        }
      ]
    },
    {
      "cell_type": "markdown",
      "metadata": {
        "id": "TR7Hz0RYn_7Q"
      },
      "source": [
        "## [DIY] 위의 모델에 hidden layer를 다음과 같이 추가하여 model_h1 을 만드시오.\n",
        "- number of neurons: 10\n",
        "- activation function; 'relu'\n"
      ]
    },
    {
      "cell_type": "code",
      "metadata": {
        "id": "TraVK4EhoeIp",
        "colab": {
          "base_uri": "https://localhost:8080/"
        },
        "outputId": "9235f3a0-6456-4840-fdc0-75378d23ebdc"
      },
      "source": [
        "# Your model : model_h1\n",
        "\n",
        "model_h1 = Sequential()\n",
        "model_h1.add(Dense(10, input_dim=4, activation='relu'))\n",
        "model_h1.add(Dense(3,activation='softmax'))\n",
        "model_h1.summary()\n",
        "model_h1.compile(optimizer='rmsprop', loss='categorical_crossentropy', metrics=['accuracy'])\n"
      ],
      "execution_count": 5,
      "outputs": [
        {
          "output_type": "stream",
          "name": "stdout",
          "text": [
            "Model: \"sequential_1\"\n",
            "_________________________________________________________________\n",
            " Layer (type)                Output Shape              Param #   \n",
            "=================================================================\n",
            " dense_1 (Dense)             (None, 10)                50        \n",
            "                                                                 \n",
            " dense_2 (Dense)             (None, 3)                 33        \n",
            "                                                                 \n",
            "=================================================================\n",
            "Total params: 83\n",
            "Trainable params: 83\n",
            "Non-trainable params: 0\n",
            "_________________________________________________________________\n"
          ]
        }
      ]
    },
    {
      "cell_type": "code",
      "metadata": {
        "colab": {
          "base_uri": "https://localhost:8080/",
          "height": 272
        },
        "id": "xFr7up18gyEz",
        "outputId": "7f2e6475-04cb-43f0-bade-fe71c913cd78"
      },
      "source": [
        "plot_model(model_h1) "
      ],
      "execution_count": 6,
      "outputs": [
        {
          "output_type": "execute_result",
          "data": {
            "image/png": "[encoded data removed]",
            "text/plain": [
              "<IPython.core.display.Image object>"
            ]
          },
          "metadata": {},
          "execution_count": 6
        }
      ]
    },
    {
      "cell_type": "markdown",
      "metadata": {
        "id": "0OpCJGUuhQHe"
      },
      "source": [
        "# 2. Functional API"
      ]
    },
    {
      "cell_type": "markdown",
      "metadata": {
        "id": "Kpg7erK5hSI_"
      },
      "source": [
        "## 2-1. FFNN (Feed-Forward Neural Networks)"
      ]
    },
    {
      "cell_type": "code",
      "metadata": {
        "id": "qRsxxH32hDYg"
      },
      "source": [
        "from tensorflow.keras.layers import Input, Dense\n",
        "from tensorflow.keras.models import Model"
      ],
      "execution_count": 7,
      "outputs": []
    },
    {
      "cell_type": "code",
      "metadata": {
        "id": "9W28qN5xhORg"
      },
      "source": [
        "inputs = Input(shape=(10,))\n",
        "hidden1 = Dense(64, activation='relu')(inputs)\n",
        "hidden2 = Dense(64, activation='relu')(hidden1)\n",
        "output = Dense(1, activation='sigmoid')(hidden2)\n",
        "model = Model(inputs=inputs, outputs=output)"
      ],
      "execution_count": 8,
      "outputs": []
    },
    {
      "cell_type": "code",
      "metadata": {
        "id": "Dxr1LrcEhT-Q",
        "colab": {
          "base_uri": "https://localhost:8080/"
        },
        "outputId": "e58ffce2-2ec1-4d9e-dbb1-4eb99725a393"
      },
      "source": [
        "model.compile(optimizer='rmsprop', loss='categorical_crossentropy', metrics=['accuracy'])\n",
        "model.summary()"
      ],
      "execution_count": 9,
      "outputs": [
        {
          "output_type": "stream",
          "name": "stdout",
          "text": [
            "Model: \"model\"\n",
            "_________________________________________________________________\n",
            " Layer (type)                Output Shape              Param #   \n",
            "=================================================================\n",
            " input_1 (InputLayer)        [(None, 10)]              0         \n",
            "                                                                 \n",
            " dense_3 (Dense)             (None, 64)                704       \n",
            "                                                                 \n",
            " dense_4 (Dense)             (None, 64)                4160      \n",
            "                                                                 \n",
            " dense_5 (Dense)             (None, 1)                 65        \n",
            "                                                                 \n",
            "=================================================================\n",
            "Total params: 4,929\n",
            "Trainable params: 4,929\n",
            "Non-trainable params: 0\n",
            "_________________________________________________________________\n"
          ]
        }
      ]
    },
    {
      "cell_type": "code",
      "metadata": {
        "id": "CBJ3779yyvG0",
        "colab": {
          "base_uri": "https://localhost:8080/",
          "height": 369
        },
        "outputId": "57b4d527-c31c-4954-b4ae-f9002ec830a9"
      },
      "source": [
        "plot_model(model) #, show_shapes=True, show_layer_names=True, to_file='model_F.png')"
      ],
      "execution_count": 10,
      "outputs": [
        {
          "output_type": "execute_result",
          "data": {
            "image/png": "[encoded data removed]",
            "text/plain": [
              "<IPython.core.display.Image object>"
            ]
          },
          "metadata": {},
          "execution_count": 10
        }
      ]
    },
    {
      "cell_type": "markdown",
      "metadata": {
        "id": "MXNy5F8rhnYs"
      },
      "source": [
        "## 2-2. Linear Regression\n",
        "> 참고: https://wikidocs.net/111472"
      ]
    },
    {
      "cell_type": "code",
      "metadata": {
        "id": "3y3m4iG0hnHx",
        "colab": {
          "base_uri": "https://localhost:8080/"
        },
        "outputId": "13acb7f3-3362-4776-ab84-d31a5cdfdbd6"
      },
      "source": [
        "from tensorflow.keras.layers import Input, Dense\n",
        "from tensorflow.keras import optimizers\n",
        "from tensorflow.keras.models import Model\n",
        "\n",
        "X = [1, 2, 3, 4, 5, 6, 7, 8, 9] # 공부하는 시간\n",
        "y = [11, 22, 33, 44, 53, 66, 77, 87, 95] # 각 공부하는 시간에 맵핑되는 성적\n",
        "\n",
        "inputs = Input(shape=(1,))\n",
        "output = Dense(1, activation='linear')(inputs)\n",
        "linear_model = Model(inputs, output)\n",
        "\n",
        "sgd = optimizers.SGD(learning_rate=0.01)\n",
        "\n",
        "linear_model.compile(optimizer=sgd ,loss='mse',metrics=['mse'])\n",
        "linear_model.fit(X, y, epochs=300)"
      ],
      "execution_count": 11,
      "outputs": [
        {
          "output_type": "stream",
          "name": "stdout",
          "text": [
            "Epoch 1/300\n",
            "1/1 [==============================] - 0s 484ms/step - loss: 3291.3816 - mse: 3291.3816\n",
            "Epoch 2/300\n",
            "1/1 [==============================] - 0s 11ms/step - loss: 406.0191 - mse: 406.0191\n",
            "Epoch 3/300\n",
            "1/1 [==============================] - 0s 6ms/step - loss: 50.9959 - mse: 50.9959\n",
            "Epoch 4/300\n",
            "1/1 [==============================] - 0s 6ms/step - loss: 7.3121 - mse: 7.3121\n",
            "Epoch 5/300\n",
            "1/1 [==============================] - 0s 9ms/step - loss: 1.9362 - mse: 1.9362\n",
            "Epoch 6/300\n",
            "1/1 [==============================] - 0s 6ms/step - loss: 1.2739 - mse: 1.2739\n",
            "Epoch 7/300\n",
            "1/1 [==============================] - 0s 6ms/step - loss: 1.1915 - mse: 1.1915\n",
            "Epoch 8/300\n",
            "1/1 [==============================] - 0s 6ms/step - loss: 1.1806 - mse: 1.1806\n",
            "Epoch 9/300\n",
            "1/1 [==============================] - 0s 5ms/step - loss: 1.1783 - mse: 1.1783\n",
            "Epoch 10/300\n",
            "1/1 [==============================] - 0s 11ms/step - loss: 1.1772 - mse: 1.1772\n",
            "Epoch 11/300\n",
            "1/1 [==============================] - 0s 6ms/step - loss: 1.1762 - mse: 1.1762\n",
            "Epoch 12/300\n",
            "1/1 [==============================] - 0s 8ms/step - loss: 1.1753 - mse: 1.1753\n",
            "Epoch 13/300\n",
            "1/1 [==============================] - 0s 6ms/step - loss: 1.1743 - mse: 1.1743\n",
            "Epoch 14/300\n",
            "1/1 [==============================] - 0s 12ms/step - loss: 1.1734 - mse: 1.1734\n",
            "Epoch 15/300\n",
            "1/1 [==============================] - 0s 6ms/step - loss: 1.1725 - mse: 1.1725\n",
            "Epoch 16/300\n",
            "1/1 [==============================] - 0s 11ms/step - loss: 1.1715 - mse: 1.1715\n",
            "Epoch 17/300\n",
            "1/1 [==============================] - 0s 6ms/step - loss: 1.1706 - mse: 1.1706\n",
            "Epoch 18/300\n",
            "1/1 [==============================] - 0s 5ms/step - loss: 1.1697 - mse: 1.1697\n",
            "Epoch 19/300\n",
            "1/1 [==============================] - 0s 5ms/step - loss: 1.1688 - mse: 1.1688\n",
            "Epoch 20/300\n",
            "1/1 [==============================] - 0s 5ms/step - loss: 1.1679 - mse: 1.1679\n",
            "Epoch 21/300\n",
            "1/1 [==============================] - 0s 13ms/step - loss: 1.1670 - mse: 1.1670\n",
            "Epoch 22/300\n",
            "1/1 [==============================] - 0s 16ms/step - loss: 1.1662 - mse: 1.1662\n",
            "Epoch 23/300\n",
            "1/1 [==============================] - 0s 6ms/step - loss: 1.1653 - mse: 1.1653\n",
            "Epoch 24/300\n",
            "1/1 [==============================] - 0s 6ms/step - loss: 1.1644 - mse: 1.1644\n",
            "Epoch 25/300\n",
            "1/1 [==============================] - 0s 9ms/step - loss: 1.1636 - mse: 1.1636\n",
            "Epoch 26/300\n",
            "1/1 [==============================] - 0s 5ms/step - loss: 1.1627 - mse: 1.1627\n",
            "Epoch 27/300\n",
            "1/1 [==============================] - 0s 6ms/step - loss: 1.1619 - mse: 1.1619\n",
            "Epoch 28/300\n",
            "1/1 [==============================] - 0s 8ms/step - loss: 1.1610 - mse: 1.1610\n",
            "Epoch 29/300\n",
            "1/1 [==============================] - 0s 5ms/step - loss: 1.1602 - mse: 1.1602\n",
            "Epoch 30/300\n",
            "1/1 [==============================] - 0s 5ms/step - loss: 1.1594 - mse: 1.1594\n",
            "Epoch 31/300\n",
            "1/1 [==============================] - 0s 10ms/step - loss: 1.1586 - mse: 1.1586\n",
            "Epoch 32/300\n",
            "1/1 [==============================] - 0s 7ms/step - loss: 1.1578 - mse: 1.1578\n",
            "Epoch 33/300\n",
            "1/1 [==============================] - 0s 6ms/step - loss: 1.1570 - mse: 1.1570\n",
            "Epoch 34/300\n",
            "1/1 [==============================] - 0s 7ms/step - loss: 1.1562 - mse: 1.1562\n",
            "Epoch 35/300\n",
            "1/1 [==============================] - 0s 6ms/step - loss: 1.1554 - mse: 1.1554\n",
            "Epoch 36/300\n",
            "1/1 [==============================] - 0s 6ms/step - loss: 1.1546 - mse: 1.1546\n",
            "Epoch 37/300\n",
            "1/1 [==============================] - 0s 8ms/step - loss: 1.1538 - mse: 1.1538\n",
            "Epoch 38/300\n",
            "1/1 [==============================] - 0s 6ms/step - loss: 1.1530 - mse: 1.1530\n",
            "Epoch 39/300\n",
            "1/1 [==============================] - 0s 7ms/step - loss: 1.1523 - mse: 1.1523\n",
            "Epoch 40/300\n",
            "1/1 [==============================] - 0s 7ms/step - loss: 1.1515 - mse: 1.1515\n",
            "Epoch 41/300\n",
            "1/1 [==============================] - 0s 9ms/step - loss: 1.1508 - mse: 1.1508\n",
            "Epoch 42/300\n",
            "1/1 [==============================] - 0s 5ms/step - loss: 1.1500 - mse: 1.1500\n",
            "Epoch 43/300\n",
            "1/1 [==============================] - 0s 6ms/step - loss: 1.1493 - mse: 1.1493\n",
            "Epoch 44/300\n",
            "1/1 [==============================] - 0s 6ms/step - loss: 1.1486 - mse: 1.1486\n",
            "Epoch 45/300\n",
            "1/1 [==============================] - 0s 6ms/step - loss: 1.1478 - mse: 1.1478\n",
            "Epoch 46/300\n",
            "1/1 [==============================] - 0s 6ms/step - loss: 1.1471 - mse: 1.1471\n",
            "Epoch 47/300\n",
            "1/1 [==============================] - 0s 6ms/step - loss: 1.1464 - mse: 1.1464\n",
            "Epoch 48/300\n",
            "1/1 [==============================] - 0s 6ms/step - loss: 1.1457 - mse: 1.1457\n",
            "Epoch 49/300\n",
            "1/1 [==============================] - 0s 6ms/step - loss: 1.1450 - mse: 1.1450\n",
            "Epoch 50/300\n",
            "1/1 [==============================] - 0s 17ms/step - loss: 1.1443 - mse: 1.1443\n",
            "Epoch 51/300\n",
            "1/1 [==============================] - 0s 9ms/step - loss: 1.1436 - mse: 1.1436\n",
            "Epoch 52/300\n",
            "1/1 [==============================] - 0s 9ms/step - loss: 1.1429 - mse: 1.1429\n",
            "Epoch 53/300\n",
            "1/1 [==============================] - 0s 7ms/step - loss: 1.1422 - mse: 1.1422\n",
            "Epoch 54/300\n",
            "1/1 [==============================] - 0s 5ms/step - loss: 1.1415 - mse: 1.1415\n",
            "Epoch 55/300\n",
            "1/1 [==============================] - 0s 7ms/step - loss: 1.1409 - mse: 1.1409\n",
            "Epoch 56/300\n",
            "1/1 [==============================] - 0s 5ms/step - loss: 1.1402 - mse: 1.1402\n",
            "Epoch 57/300\n",
            "1/1 [==============================] - 0s 8ms/step - loss: 1.1396 - mse: 1.1396\n",
            "Epoch 58/300\n",
            "1/1 [==============================] - 0s 5ms/step - loss: 1.1389 - mse: 1.1389\n",
            "Epoch 59/300\n",
            "1/1 [==============================] - 0s 5ms/step - loss: 1.1383 - mse: 1.1383\n",
            "Epoch 60/300\n",
            "1/1 [==============================] - 0s 6ms/step - loss: 1.1376 - mse: 1.1376\n",
            "Epoch 61/300\n",
            "1/1 [==============================] - 0s 5ms/step - loss: 1.1370 - mse: 1.1370\n",
            "Epoch 62/300\n",
            "1/1 [==============================] - 0s 5ms/step - loss: 1.1363 - mse: 1.1363\n",
            "Epoch 63/300\n",
            "1/1 [==============================] - 0s 5ms/step - loss: 1.1357 - mse: 1.1357\n",
            "Epoch 64/300\n",
            "1/1 [==============================] - 0s 8ms/step - loss: 1.1351 - mse: 1.1351\n",
            "Epoch 65/300\n",
            "1/1 [==============================] - 0s 6ms/step - loss: 1.1345 - mse: 1.1345\n",
            "Epoch 66/300\n",
            "1/1 [==============================] - 0s 5ms/step - loss: 1.1339 - mse: 1.1339\n",
            "Epoch 67/300\n",
            "1/1 [==============================] - 0s 6ms/step - loss: 1.1333 - mse: 1.1333\n",
            "Epoch 68/300\n",
            "1/1 [==============================] - 0s 5ms/step - loss: 1.1327 - mse: 1.1327\n",
            "Epoch 69/300\n",
            "1/1 [==============================] - 0s 5ms/step - loss: 1.1321 - mse: 1.1321\n",
            "Epoch 70/300\n",
            "1/1 [==============================] - 0s 5ms/step - loss: 1.1315 - mse: 1.1315\n",
            "Epoch 71/300\n",
            "1/1 [==============================] - 0s 6ms/step - loss: 1.1309 - mse: 1.1309\n",
            "Epoch 72/300\n",
            "1/1 [==============================] - 0s 7ms/step - loss: 1.1303 - mse: 1.1303\n",
            "Epoch 73/300\n",
            "1/1 [==============================] - 0s 6ms/step - loss: 1.1297 - mse: 1.1297\n",
            "Epoch 74/300\n",
            "1/1 [==============================] - 0s 6ms/step - loss: 1.1292 - mse: 1.1292\n",
            "Epoch 75/300\n",
            "1/1 [==============================] - 0s 9ms/step - loss: 1.1286 - mse: 1.1286\n",
            "Epoch 76/300\n",
            "1/1 [==============================] - 0s 5ms/step - loss: 1.1280 - mse: 1.1280\n",
            "Epoch 77/300\n",
            "1/1 [==============================] - 0s 5ms/step - loss: 1.1275 - mse: 1.1275\n",
            "Epoch 78/300\n",
            "1/1 [==============================] - 0s 5ms/step - loss: 1.1269 - mse: 1.1269\n",
            "Epoch 79/300\n",
            "1/1 [==============================] - 0s 5ms/step - loss: 1.1264 - mse: 1.1264\n",
            "Epoch 80/300\n",
            "1/1 [==============================] - 0s 6ms/step - loss: 1.1258 - mse: 1.1258\n",
            "Epoch 81/300\n",
            "1/1 [==============================] - 0s 5ms/step - loss: 1.1253 - mse: 1.1253\n",
            "Epoch 82/300\n",
            "1/1 [==============================] - 0s 5ms/step - loss: 1.1247 - mse: 1.1247\n",
            "Epoch 83/300\n",
            "1/1 [==============================] - 0s 5ms/step - loss: 1.1242 - mse: 1.1242\n",
            "Epoch 84/300\n",
            "1/1 [==============================] - 0s 5ms/step - loss: 1.1237 - mse: 1.1237\n",
            "Epoch 85/300\n",
            "1/1 [==============================] - 0s 6ms/step - loss: 1.1232 - mse: 1.1232\n",
            "Epoch 86/300\n",
            "1/1 [==============================] - 0s 6ms/step - loss: 1.1226 - mse: 1.1226\n",
            "Epoch 87/300\n",
            "1/1 [==============================] - 0s 5ms/step - loss: 1.1221 - mse: 1.1221\n",
            "Epoch 88/300\n",
            "1/1 [==============================] - 0s 7ms/step - loss: 1.1216 - mse: 1.1216\n",
            "Epoch 89/300\n",
            "1/1 [==============================] - 0s 5ms/step - loss: 1.1211 - mse: 1.1211\n",
            "Epoch 90/300\n",
            "1/1 [==============================] - 0s 5ms/step - loss: 1.1206 - mse: 1.1206\n",
            "Epoch 91/300\n",
            "1/1 [==============================] - 0s 12ms/step - loss: 1.1201 - mse: 1.1201\n",
            "Epoch 92/300\n",
            "1/1 [==============================] - 0s 6ms/step - loss: 1.1196 - mse: 1.1196\n",
            "Epoch 93/300\n",
            "1/1 [==============================] - 0s 5ms/step - loss: 1.1191 - mse: 1.1191\n",
            "Epoch 94/300\n",
            "1/1 [==============================] - 0s 8ms/step - loss: 1.1186 - mse: 1.1186\n",
            "Epoch 95/300\n",
            "1/1 [==============================] - 0s 6ms/step - loss: 1.1182 - mse: 1.1182\n",
            "Epoch 96/300\n",
            "1/1 [==============================] - 0s 6ms/step - loss: 1.1177 - mse: 1.1177\n",
            "Epoch 97/300\n",
            "1/1 [==============================] - 0s 7ms/step - loss: 1.1172 - mse: 1.1172\n",
            "Epoch 98/300\n",
            "1/1 [==============================] - 0s 8ms/step - loss: 1.1167 - mse: 1.1167\n",
            "Epoch 99/300\n",
            "1/1 [==============================] - 0s 7ms/step - loss: 1.1163 - mse: 1.1163\n",
            "Epoch 100/300\n",
            "1/1 [==============================] - 0s 8ms/step - loss: 1.1158 - mse: 1.1158\n",
            "Epoch 101/300\n",
            "1/1 [==============================] - 0s 6ms/step - loss: 1.1153 - mse: 1.1153\n",
            "Epoch 102/300\n",
            "1/1 [==============================] - 0s 6ms/step - loss: 1.1149 - mse: 1.1149\n",
            "Epoch 103/300\n",
            "1/1 [==============================] - 0s 6ms/step - loss: 1.1144 - mse: 1.1144\n",
            "Epoch 104/300\n",
            "1/1 [==============================] - 0s 6ms/step - loss: 1.1140 - mse: 1.1140\n",
            "Epoch 105/300\n",
            "1/1 [==============================] - 0s 6ms/step - loss: 1.1136 - mse: 1.1136\n",
            "Epoch 106/300\n",
            "1/1 [==============================] - 0s 11ms/step - loss: 1.1131 - mse: 1.1131\n",
            "Epoch 107/300\n",
            "1/1 [==============================] - 0s 6ms/step - loss: 1.1127 - mse: 1.1127\n",
            "Epoch 108/300\n",
            "1/1 [==============================] - 0s 11ms/step - loss: 1.1122 - mse: 1.1122\n",
            "Epoch 109/300\n",
            "1/1 [==============================] - 0s 8ms/step - loss: 1.1118 - mse: 1.1118\n",
            "Epoch 110/300\n",
            "1/1 [==============================] - 0s 10ms/step - loss: 1.1114 - mse: 1.1114\n",
            "Epoch 111/300\n",
            "1/1 [==============================] - 0s 7ms/step - loss: 1.1110 - mse: 1.1110\n",
            "Epoch 112/300\n",
            "1/1 [==============================] - 0s 8ms/step - loss: 1.1105 - mse: 1.1105\n",
            "Epoch 113/300\n",
            "1/1 [==============================] - 0s 6ms/step - loss: 1.1101 - mse: 1.1101\n",
            "Epoch 114/300\n",
            "1/1 [==============================] - 0s 5ms/step - loss: 1.1097 - mse: 1.1097\n",
            "Epoch 115/300\n",
            "1/1 [==============================] - 0s 5ms/step - loss: 1.1093 - mse: 1.1093\n",
            "Epoch 116/300\n",
            "1/1 [==============================] - 0s 5ms/step - loss: 1.1089 - mse: 1.1089\n",
            "Epoch 117/300\n",
            "1/1 [==============================] - 0s 6ms/step - loss: 1.1085 - mse: 1.1085\n",
            "Epoch 118/300\n",
            "1/1 [==============================] - 0s 5ms/step - loss: 1.1081 - mse: 1.1081\n",
            "Epoch 119/300\n",
            "1/1 [==============================] - 0s 9ms/step - loss: 1.1077 - mse: 1.1077\n",
            "Epoch 120/300\n",
            "1/1 [==============================] - 0s 5ms/step - loss: 1.1073 - mse: 1.1073\n",
            "Epoch 121/300\n",
            "1/1 [==============================] - 0s 5ms/step - loss: 1.1069 - mse: 1.1069\n",
            "Epoch 122/300\n",
            "1/1 [==============================] - 0s 7ms/step - loss: 1.1065 - mse: 1.1065\n",
            "Epoch 123/300\n",
            "1/1 [==============================] - 0s 6ms/step - loss: 1.1062 - mse: 1.1062\n",
            "Epoch 124/300\n",
            "1/1 [==============================] - 0s 4ms/step - loss: 1.1058 - mse: 1.1058\n",
            "Epoch 125/300\n",
            "1/1 [==============================] - 0s 6ms/step - loss: 1.1054 - mse: 1.1054\n",
            "Epoch 126/300\n",
            "1/1 [==============================] - 0s 5ms/step - loss: 1.1050 - mse: 1.1050\n",
            "Epoch 127/300\n",
            "1/1 [==============================] - 0s 8ms/step - loss: 1.1047 - mse: 1.1047\n",
            "Epoch 128/300\n",
            "1/1 [==============================] - 0s 6ms/step - loss: 1.1043 - mse: 1.1043\n",
            "Epoch 129/300\n",
            "1/1 [==============================] - 0s 5ms/step - loss: 1.1039 - mse: 1.1039\n",
            "Epoch 130/300\n",
            "1/1 [==============================] - 0s 8ms/step - loss: 1.1036 - mse: 1.1036\n",
            "Epoch 131/300\n",
            "1/1 [==============================] - 0s 6ms/step - loss: 1.1032 - mse: 1.1032\n",
            "Epoch 132/300\n",
            "1/1 [==============================] - 0s 5ms/step - loss: 1.1029 - mse: 1.1029\n",
            "Epoch 133/300\n",
            "1/1 [==============================] - 0s 7ms/step - loss: 1.1025 - mse: 1.1025\n",
            "Epoch 134/300\n",
            "1/1 [==============================] - 0s 4ms/step - loss: 1.1021 - mse: 1.1021\n",
            "Epoch 135/300\n",
            "1/1 [==============================] - 0s 4ms/step - loss: 1.1018 - mse: 1.1018\n",
            "Epoch 136/300\n",
            "1/1 [==============================] - 0s 5ms/step - loss: 1.1015 - mse: 1.1015\n",
            "Epoch 137/300\n",
            "1/1 [==============================] - 0s 5ms/step - loss: 1.1011 - mse: 1.1011\n",
            "Epoch 138/300\n",
            "1/1 [==============================] - 0s 6ms/step - loss: 1.1008 - mse: 1.1008\n",
            "Epoch 139/300\n",
            "1/1 [==============================] - 0s 15ms/step - loss: 1.1004 - mse: 1.1004\n",
            "Epoch 140/300\n",
            "1/1 [==============================] - 0s 6ms/step - loss: 1.1001 - mse: 1.1001\n",
            "Epoch 141/300\n",
            "1/1 [==============================] - 0s 5ms/step - loss: 1.0998 - mse: 1.0998\n",
            "Epoch 142/300\n",
            "1/1 [==============================] - 0s 9ms/step - loss: 1.0995 - mse: 1.0995\n",
            "Epoch 143/300\n",
            "1/1 [==============================] - 0s 5ms/step - loss: 1.0991 - mse: 1.0991\n",
            "Epoch 144/300\n",
            "1/1 [==============================] - 0s 6ms/step - loss: 1.0988 - mse: 1.0988\n",
            "Epoch 145/300\n",
            "1/1 [==============================] - 0s 8ms/step - loss: 1.0985 - mse: 1.0985\n",
            "Epoch 146/300\n",
            "1/1 [==============================] - 0s 5ms/step - loss: 1.0982 - mse: 1.0982\n",
            "Epoch 147/300\n",
            "1/1 [==============================] - 0s 5ms/step - loss: 1.0979 - mse: 1.0979\n",
            "Epoch 148/300\n",
            "1/1 [==============================] - 0s 6ms/step - loss: 1.0976 - mse: 1.0976\n",
            "Epoch 149/300\n",
            "1/1 [==============================] - 0s 9ms/step - loss: 1.0972 - mse: 1.0972\n",
            "Epoch 150/300\n",
            "1/1 [==============================] - 0s 5ms/step - loss: 1.0969 - mse: 1.0969\n",
            "Epoch 151/300\n",
            "1/1 [==============================] - 0s 7ms/step - loss: 1.0966 - mse: 1.0966\n",
            "Epoch 152/300\n",
            "1/1 [==============================] - 0s 5ms/step - loss: 1.0963 - mse: 1.0963\n",
            "Epoch 153/300\n",
            "1/1 [==============================] - 0s 5ms/step - loss: 1.0960 - mse: 1.0960\n",
            "Epoch 154/300\n",
            "1/1 [==============================] - 0s 4ms/step - loss: 1.0957 - mse: 1.0957\n",
            "Epoch 155/300\n",
            "1/1 [==============================] - 0s 5ms/step - loss: 1.0954 - mse: 1.0954\n",
            "Epoch 156/300\n",
            "1/1 [==============================] - 0s 5ms/step - loss: 1.0951 - mse: 1.0951\n",
            "Epoch 157/300\n",
            "1/1 [==============================] - 0s 6ms/step - loss: 1.0949 - mse: 1.0949\n",
            "Epoch 158/300\n",
            "1/1 [==============================] - 0s 4ms/step - loss: 1.0946 - mse: 1.0946\n",
            "Epoch 159/300\n",
            "1/1 [==============================] - 0s 5ms/step - loss: 1.0943 - mse: 1.0943\n",
            "Epoch 160/300\n",
            "1/1 [==============================] - 0s 6ms/step - loss: 1.0940 - mse: 1.0940\n",
            "Epoch 161/300\n",
            "1/1 [==============================] - 0s 5ms/step - loss: 1.0937 - mse: 1.0937\n",
            "Epoch 162/300\n",
            "1/1 [==============================] - 0s 5ms/step - loss: 1.0934 - mse: 1.0934\n",
            "Epoch 163/300\n",
            "1/1 [==============================] - 0s 6ms/step - loss: 1.0932 - mse: 1.0932\n",
            "Epoch 164/300\n",
            "1/1 [==============================] - 0s 4ms/step - loss: 1.0929 - mse: 1.0929\n",
            "Epoch 165/300\n",
            "1/1 [==============================] - 0s 6ms/step - loss: 1.0926 - mse: 1.0926\n",
            "Epoch 166/300\n",
            "1/1 [==============================] - 0s 6ms/step - loss: 1.0924 - mse: 1.0924\n",
            "Epoch 167/300\n",
            "1/1 [==============================] - 0s 5ms/step - loss: 1.0921 - mse: 1.0921\n",
            "Epoch 168/300\n",
            "1/1 [==============================] - 0s 5ms/step - loss: 1.0918 - mse: 1.0918\n",
            "Epoch 169/300\n",
            "1/1 [==============================] - 0s 4ms/step - loss: 1.0916 - mse: 1.0916\n",
            "Epoch 170/300\n",
            "1/1 [==============================] - 0s 6ms/step - loss: 1.0913 - mse: 1.0913\n",
            "Epoch 171/300\n",
            "1/1 [==============================] - 0s 7ms/step - loss: 1.0911 - mse: 1.0911\n",
            "Epoch 172/300\n",
            "1/1 [==============================] - 0s 6ms/step - loss: 1.0908 - mse: 1.0908\n",
            "Epoch 173/300\n",
            "1/1 [==============================] - 0s 4ms/step - loss: 1.0905 - mse: 1.0905\n",
            "Epoch 174/300\n",
            "1/1 [==============================] - 0s 7ms/step - loss: 1.0903 - mse: 1.0903\n",
            "Epoch 175/300\n",
            "1/1 [==============================] - 0s 6ms/step - loss: 1.0900 - mse: 1.0900\n",
            "Epoch 176/300\n",
            "1/1 [==============================] - 0s 7ms/step - loss: 1.0898 - mse: 1.0898\n",
            "Epoch 177/300\n",
            "1/1 [==============================] - 0s 4ms/step - loss: 1.0895 - mse: 1.0895\n",
            "Epoch 178/300\n",
            "1/1 [==============================] - 0s 8ms/step - loss: 1.0893 - mse: 1.0893\n",
            "Epoch 179/300\n",
            "1/1 [==============================] - 0s 6ms/step - loss: 1.0891 - mse: 1.0891\n",
            "Epoch 180/300\n",
            "1/1 [==============================] - 0s 6ms/step - loss: 1.0888 - mse: 1.0888\n",
            "Epoch 181/300\n",
            "1/1 [==============================] - 0s 5ms/step - loss: 1.0886 - mse: 1.0886\n",
            "Epoch 182/300\n",
            "1/1 [==============================] - 0s 5ms/step - loss: 1.0884 - mse: 1.0884\n",
            "Epoch 183/300\n",
            "1/1 [==============================] - 0s 9ms/step - loss: 1.0881 - mse: 1.0881\n",
            "Epoch 184/300\n",
            "1/1 [==============================] - 0s 11ms/step - loss: 1.0879 - mse: 1.0879\n",
            "Epoch 185/300\n",
            "1/1 [==============================] - 0s 6ms/step - loss: 1.0877 - mse: 1.0877\n",
            "Epoch 186/300\n",
            "1/1 [==============================] - 0s 7ms/step - loss: 1.0874 - mse: 1.0874\n",
            "Epoch 187/300\n",
            "1/1 [==============================] - 0s 5ms/step - loss: 1.0872 - mse: 1.0872\n",
            "Epoch 188/300\n",
            "1/1 [==============================] - 0s 6ms/step - loss: 1.0870 - mse: 1.0870\n",
            "Epoch 189/300\n",
            "1/1 [==============================] - 0s 6ms/step - loss: 1.0868 - mse: 1.0868\n",
            "Epoch 190/300\n",
            "1/1 [==============================] - 0s 12ms/step - loss: 1.0865 - mse: 1.0865\n",
            "Epoch 191/300\n",
            "1/1 [==============================] - 0s 8ms/step - loss: 1.0863 - mse: 1.0863\n",
            "Epoch 192/300\n",
            "1/1 [==============================] - 0s 7ms/step - loss: 1.0861 - mse: 1.0861\n",
            "Epoch 193/300\n",
            "1/1 [==============================] - 0s 5ms/step - loss: 1.0859 - mse: 1.0859\n",
            "Epoch 194/300\n",
            "1/1 [==============================] - 0s 6ms/step - loss: 1.0857 - mse: 1.0857\n",
            "Epoch 195/300\n",
            "1/1 [==============================] - 0s 5ms/step - loss: 1.0855 - mse: 1.0855\n",
            "Epoch 196/300\n",
            "1/1 [==============================] - 0s 5ms/step - loss: 1.0853 - mse: 1.0853\n",
            "Epoch 197/300\n",
            "1/1 [==============================] - 0s 5ms/step - loss: 1.0850 - mse: 1.0850\n",
            "Epoch 198/300\n",
            "1/1 [==============================] - 0s 6ms/step - loss: 1.0848 - mse: 1.0848\n",
            "Epoch 199/300\n",
            "1/1 [==============================] - 0s 5ms/step - loss: 1.0846 - mse: 1.0846\n",
            "Epoch 200/300\n",
            "1/1 [==============================] - 0s 5ms/step - loss: 1.0844 - mse: 1.0844\n",
            "Epoch 201/300\n",
            "1/1 [==============================] - 0s 8ms/step - loss: 1.0842 - mse: 1.0842\n",
            "Epoch 202/300\n",
            "1/1 [==============================] - 0s 5ms/step - loss: 1.0840 - mse: 1.0840\n",
            "Epoch 203/300\n",
            "1/1 [==============================] - 0s 8ms/step - loss: 1.0838 - mse: 1.0838\n",
            "Epoch 204/300\n",
            "1/1 [==============================] - 0s 6ms/step - loss: 1.0836 - mse: 1.0836\n",
            "Epoch 205/300\n",
            "1/1 [==============================] - 0s 12ms/step - loss: 1.0834 - mse: 1.0834\n",
            "Epoch 206/300\n",
            "1/1 [==============================] - 0s 5ms/step - loss: 1.0832 - mse: 1.0832\n",
            "Epoch 207/300\n",
            "1/1 [==============================] - 0s 5ms/step - loss: 1.0831 - mse: 1.0831\n",
            "Epoch 208/300\n",
            "1/1 [==============================] - 0s 5ms/step - loss: 1.0829 - mse: 1.0829\n",
            "Epoch 209/300\n",
            "1/1 [==============================] - 0s 5ms/step - loss: 1.0827 - mse: 1.0827\n",
            "Epoch 210/300\n",
            "1/1 [==============================] - 0s 7ms/step - loss: 1.0825 - mse: 1.0825\n",
            "Epoch 211/300\n",
            "1/1 [==============================] - 0s 8ms/step - loss: 1.0823 - mse: 1.0823\n",
            "Epoch 212/300\n",
            "1/1 [==============================] - 0s 6ms/step - loss: 1.0821 - mse: 1.0821\n",
            "Epoch 213/300\n",
            "1/1 [==============================] - 0s 5ms/step - loss: 1.0819 - mse: 1.0819\n",
            "Epoch 214/300\n",
            "1/1 [==============================] - 0s 5ms/step - loss: 1.0818 - mse: 1.0818\n",
            "Epoch 215/300\n",
            "1/1 [==============================] - 0s 6ms/step - loss: 1.0816 - mse: 1.0816\n",
            "Epoch 216/300\n",
            "1/1 [==============================] - 0s 4ms/step - loss: 1.0814 - mse: 1.0814\n",
            "Epoch 217/300\n",
            "1/1 [==============================] - 0s 6ms/step - loss: 1.0812 - mse: 1.0812\n",
            "Epoch 218/300\n",
            "1/1 [==============================] - 0s 5ms/step - loss: 1.0810 - mse: 1.0810\n",
            "Epoch 219/300\n",
            "1/1 [==============================] - 0s 6ms/step - loss: 1.0809 - mse: 1.0809\n",
            "Epoch 220/300\n",
            "1/1 [==============================] - 0s 6ms/step - loss: 1.0807 - mse: 1.0807\n",
            "Epoch 221/300\n",
            "1/1 [==============================] - 0s 7ms/step - loss: 1.0805 - mse: 1.0805\n",
            "Epoch 222/300\n",
            "1/1 [==============================] - 0s 7ms/step - loss: 1.0804 - mse: 1.0804\n",
            "Epoch 223/300\n",
            "1/1 [==============================] - 0s 8ms/step - loss: 1.0802 - mse: 1.0802\n",
            "Epoch 224/300\n",
            "1/1 [==============================] - 0s 7ms/step - loss: 1.0800 - mse: 1.0800\n",
            "Epoch 225/300\n",
            "1/1 [==============================] - 0s 14ms/step - loss: 1.0799 - mse: 1.0799\n",
            "Epoch 226/300\n",
            "1/1 [==============================] - 0s 10ms/step - loss: 1.0797 - mse: 1.0797\n",
            "Epoch 227/300\n",
            "1/1 [==============================] - 0s 11ms/step - loss: 1.0795 - mse: 1.0795\n",
            "Epoch 228/300\n",
            "1/1 [==============================] - 0s 9ms/step - loss: 1.0794 - mse: 1.0794\n",
            "Epoch 229/300\n",
            "1/1 [==============================] - 0s 6ms/step - loss: 1.0792 - mse: 1.0792\n",
            "Epoch 230/300\n",
            "1/1 [==============================] - 0s 5ms/step - loss: 1.0791 - mse: 1.0791\n",
            "Epoch 231/300\n",
            "1/1 [==============================] - 0s 12ms/step - loss: 1.0789 - mse: 1.0789\n",
            "Epoch 232/300\n",
            "1/1 [==============================] - 0s 6ms/step - loss: 1.0787 - mse: 1.0787\n",
            "Epoch 233/300\n",
            "1/1 [==============================] - 0s 16ms/step - loss: 1.0786 - mse: 1.0786\n",
            "Epoch 234/300\n",
            "1/1 [==============================] - 0s 8ms/step - loss: 1.0784 - mse: 1.0784\n",
            "Epoch 235/300\n",
            "1/1 [==============================] - 0s 13ms/step - loss: 1.0783 - mse: 1.0783\n",
            "Epoch 236/300\n",
            "1/1 [==============================] - 0s 7ms/step - loss: 1.0781 - mse: 1.0781\n",
            "Epoch 237/300\n",
            "1/1 [==============================] - 0s 10ms/step - loss: 1.0780 - mse: 1.0780\n",
            "Epoch 238/300\n",
            "1/1 [==============================] - 0s 7ms/step - loss: 1.0778 - mse: 1.0778\n",
            "Epoch 239/300\n",
            "1/1 [==============================] - 0s 13ms/step - loss: 1.0777 - mse: 1.0777\n",
            "Epoch 240/300\n",
            "1/1 [==============================] - 0s 6ms/step - loss: 1.0775 - mse: 1.0775\n",
            "Epoch 241/300\n",
            "1/1 [==============================] - 0s 6ms/step - loss: 1.0774 - mse: 1.0774\n",
            "Epoch 242/300\n",
            "1/1 [==============================] - 0s 8ms/step - loss: 1.0773 - mse: 1.0773\n",
            "Epoch 243/300\n",
            "1/1 [==============================] - 0s 5ms/step - loss: 1.0771 - mse: 1.0771\n",
            "Epoch 244/300\n",
            "1/1 [==============================] - 0s 5ms/step - loss: 1.0770 - mse: 1.0770\n",
            "Epoch 245/300\n",
            "1/1 [==============================] - 0s 5ms/step - loss: 1.0768 - mse: 1.0768\n",
            "Epoch 246/300\n",
            "1/1 [==============================] - 0s 10ms/step - loss: 1.0767 - mse: 1.0767\n",
            "Epoch 247/300\n",
            "1/1 [==============================] - 0s 10ms/step - loss: 1.0766 - mse: 1.0766\n",
            "Epoch 248/300\n",
            "1/1 [==============================] - 0s 9ms/step - loss: 1.0764 - mse: 1.0764\n",
            "Epoch 249/300\n",
            "1/1 [==============================] - 0s 10ms/step - loss: 1.0763 - mse: 1.0763\n",
            "Epoch 250/300\n",
            "1/1 [==============================] - 0s 6ms/step - loss: 1.0761 - mse: 1.0761\n",
            "Epoch 251/300\n",
            "1/1 [==============================] - 0s 9ms/step - loss: 1.0760 - mse: 1.0760\n",
            "Epoch 252/300\n",
            "1/1 [==============================] - 0s 6ms/step - loss: 1.0759 - mse: 1.0759\n",
            "Epoch 253/300\n",
            "1/1 [==============================] - 0s 10ms/step - loss: 1.0757 - mse: 1.0757\n",
            "Epoch 254/300\n",
            "1/1 [==============================] - 0s 9ms/step - loss: 1.0756 - mse: 1.0756\n",
            "Epoch 255/300\n",
            "1/1 [==============================] - 0s 11ms/step - loss: 1.0755 - mse: 1.0755\n",
            "Epoch 256/300\n",
            "1/1 [==============================] - 0s 5ms/step - loss: 1.0754 - mse: 1.0754\n",
            "Epoch 257/300\n",
            "1/1 [==============================] - 0s 7ms/step - loss: 1.0752 - mse: 1.0752\n",
            "Epoch 258/300\n",
            "1/1 [==============================] - 0s 9ms/step - loss: 1.0751 - mse: 1.0751\n",
            "Epoch 259/300\n",
            "1/1 [==============================] - 0s 11ms/step - loss: 1.0750 - mse: 1.0750\n",
            "Epoch 260/300\n",
            "1/1 [==============================] - 0s 6ms/step - loss: 1.0749 - mse: 1.0749\n",
            "Epoch 261/300\n",
            "1/1 [==============================] - 0s 6ms/step - loss: 1.0747 - mse: 1.0747\n",
            "Epoch 262/300\n",
            "1/1 [==============================] - 0s 6ms/step - loss: 1.0746 - mse: 1.0746\n",
            "Epoch 263/300\n",
            "1/1 [==============================] - 0s 6ms/step - loss: 1.0745 - mse: 1.0745\n",
            "Epoch 264/300\n",
            "1/1 [==============================] - 0s 6ms/step - loss: 1.0744 - mse: 1.0744\n",
            "Epoch 265/300\n",
            "1/1 [==============================] - 0s 5ms/step - loss: 1.0743 - mse: 1.0743\n",
            "Epoch 266/300\n",
            "1/1 [==============================] - 0s 14ms/step - loss: 1.0741 - mse: 1.0741\n",
            "Epoch 267/300\n",
            "1/1 [==============================] - 0s 7ms/step - loss: 1.0740 - mse: 1.0740\n",
            "Epoch 268/300\n",
            "1/1 [==============================] - 0s 14ms/step - loss: 1.0739 - mse: 1.0739\n",
            "Epoch 269/300\n",
            "1/1 [==============================] - 0s 6ms/step - loss: 1.0738 - mse: 1.0738\n",
            "Epoch 270/300\n",
            "1/1 [==============================] - 0s 13ms/step - loss: 1.0737 - mse: 1.0737\n",
            "Epoch 271/300\n",
            "1/1 [==============================] - 0s 6ms/step - loss: 1.0736 - mse: 1.0736\n",
            "Epoch 272/300\n",
            "1/1 [==============================] - 0s 6ms/step - loss: 1.0735 - mse: 1.0735\n",
            "Epoch 273/300\n",
            "1/1 [==============================] - 0s 6ms/step - loss: 1.0733 - mse: 1.0733\n",
            "Epoch 274/300\n",
            "1/1 [==============================] - 0s 7ms/step - loss: 1.0732 - mse: 1.0732\n",
            "Epoch 275/300\n",
            "1/1 [==============================] - 0s 7ms/step - loss: 1.0731 - mse: 1.0731\n",
            "Epoch 276/300\n",
            "1/1 [==============================] - 0s 6ms/step - loss: 1.0730 - mse: 1.0730\n",
            "Epoch 277/300\n",
            "1/1 [==============================] - 0s 8ms/step - loss: 1.0729 - mse: 1.0729\n",
            "Epoch 278/300\n",
            "1/1 [==============================] - 0s 6ms/step - loss: 1.0728 - mse: 1.0728\n",
            "Epoch 279/300\n",
            "1/1 [==============================] - 0s 7ms/step - loss: 1.0727 - mse: 1.0727\n",
            "Epoch 280/300\n",
            "1/1 [==============================] - 0s 6ms/step - loss: 1.0726 - mse: 1.0726\n",
            "Epoch 281/300\n",
            "1/1 [==============================] - 0s 9ms/step - loss: 1.0725 - mse: 1.0725\n",
            "Epoch 282/300\n",
            "1/1 [==============================] - 0s 7ms/step - loss: 1.0724 - mse: 1.0724\n",
            "Epoch 283/300\n",
            "1/1 [==============================] - 0s 6ms/step - loss: 1.0723 - mse: 1.0723\n",
            "Epoch 284/300\n",
            "1/1 [==============================] - 0s 8ms/step - loss: 1.0722 - mse: 1.0722\n",
            "Epoch 285/300\n",
            "1/1 [==============================] - 0s 5ms/step - loss: 1.0721 - mse: 1.0721\n",
            "Epoch 286/300\n",
            "1/1 [==============================] - 0s 6ms/step - loss: 1.0720 - mse: 1.0720\n",
            "Epoch 287/300\n",
            "1/1 [==============================] - 0s 5ms/step - loss: 1.0719 - mse: 1.0719\n",
            "Epoch 288/300\n",
            "1/1 [==============================] - 0s 6ms/step - loss: 1.0718 - mse: 1.0718\n",
            "Epoch 289/300\n",
            "1/1 [==============================] - 0s 8ms/step - loss: 1.0717 - mse: 1.0717\n",
            "Epoch 290/300\n",
            "1/1 [==============================] - 0s 8ms/step - loss: 1.0716 - mse: 1.0716\n",
            "Epoch 291/300\n",
            "1/1 [==============================] - 0s 5ms/step - loss: 1.0715 - mse: 1.0715\n",
            "Epoch 292/300\n",
            "1/1 [==============================] - 0s 6ms/step - loss: 1.0714 - mse: 1.0714\n",
            "Epoch 293/300\n",
            "1/1 [==============================] - 0s 10ms/step - loss: 1.0713 - mse: 1.0713\n",
            "Epoch 294/300\n",
            "1/1 [==============================] - 0s 10ms/step - loss: 1.0712 - mse: 1.0712\n",
            "Epoch 295/300\n",
            "1/1 [==============================] - 0s 20ms/step - loss: 1.0711 - mse: 1.0711\n",
            "Epoch 296/300\n",
            "1/1 [==============================] - 0s 5ms/step - loss: 1.0710 - mse: 1.0710\n",
            "Epoch 297/300\n",
            "1/1 [==============================] - 0s 12ms/step - loss: 1.0709 - mse: 1.0709\n",
            "Epoch 298/300\n",
            "1/1 [==============================] - 0s 6ms/step - loss: 1.0708 - mse: 1.0708\n",
            "Epoch 299/300\n",
            "1/1 [==============================] - 0s 6ms/step - loss: 1.0707 - mse: 1.0707\n",
            "Epoch 300/300\n",
            "1/1 [==============================] - 0s 5ms/step - loss: 1.0707 - mse: 1.0707\n"
          ]
        },
        {
          "output_type": "execute_result",
          "data": {
            "text/plain": [
              "<keras.callbacks.History at 0x7f7e1f251090>"
            ]
          },
          "metadata": {},
          "execution_count": 11
        }
      ]
    },
    {
      "cell_type": "code",
      "metadata": {
        "id": "U-k31dqbrTIO",
        "colab": {
          "base_uri": "https://localhost:8080/"
        },
        "outputId": "3dc8f450-2e11-4dc4-b9fc-5bbd1fbddc9b"
      },
      "source": [
        "linear_model.get_config()"
      ],
      "execution_count": 12,
      "outputs": [
        {
          "output_type": "execute_result",
          "data": {
            "text/plain": [
              "{'input_layers': [['input_2', 0, 0]],\n",
              " 'layers': [{'class_name': 'InputLayer',\n",
              "   'config': {'batch_input_shape': (None, 1),\n",
              "    'dtype': 'float32',\n",
              "    'name': 'input_2',\n",
              "    'ragged': False,\n",
              "    'sparse': False},\n",
              "   'inbound_nodes': [],\n",
              "   'name': 'input_2'},\n",
              "  {'class_name': 'Dense',\n",
              "   'config': {'activation': 'linear',\n",
              "    'activity_regularizer': None,\n",
              "    'bias_constraint': None,\n",
              "    'bias_initializer': {'class_name': 'Zeros', 'config': {}},\n",
              "    'bias_regularizer': None,\n",
              "    'dtype': 'float32',\n",
              "    'kernel_constraint': None,\n",
              "    'kernel_initializer': {'class_name': 'GlorotUniform',\n",
              "     'config': {'seed': None}},\n",
              "    'kernel_regularizer': None,\n",
              "    'name': 'dense_6',\n",
              "    'trainable': True,\n",
              "    'units': 1,\n",
              "    'use_bias': True},\n",
              "   'inbound_nodes': [[['input_2', 0, 0, {}]]],\n",
              "   'name': 'dense_6'}],\n",
              " 'name': 'model_1',\n",
              " 'output_layers': [['dense_6', 0, 0]]}"
            ]
          },
          "metadata": {},
          "execution_count": 12
        }
      ]
    },
    {
      "cell_type": "code",
      "metadata": {
        "id": "JI0SNxAmGTLS",
        "colab": {
          "base_uri": "https://localhost:8080/"
        },
        "outputId": "1240cefb-8d50-4c8d-fe7f-dce1ba7860be"
      },
      "source": [
        "linear_model.predict([11,15])"
      ],
      "execution_count": 13,
      "outputs": [
        {
          "output_type": "execute_result",
          "data": {
            "text/plain": [
              "array([[118.15363],\n",
              "       [160.74373]], dtype=float32)"
            ]
          },
          "metadata": {},
          "execution_count": 13
        }
      ]
    },
    {
      "cell_type": "code",
      "metadata": {
        "id": "UKjDK9vluj9T",
        "colab": {
          "base_uri": "https://localhost:8080/"
        },
        "outputId": "f39e2a41-242a-40c9-b02e-922c549b0954"
      },
      "source": [
        "X"
      ],
      "execution_count": 14,
      "outputs": [
        {
          "output_type": "execute_result",
          "data": {
            "text/plain": [
              "[1, 2, 3, 4, 5, 6, 7, 8, 9]"
            ]
          },
          "metadata": {},
          "execution_count": 14
        }
      ]
    },
    {
      "cell_type": "code",
      "metadata": {
        "id": "XTRhSt8UuFSD",
        "colab": {
          "base_uri": "https://localhost:8080/"
        },
        "outputId": "daade2e6-12c8-4bb6-8cc4-63e2d3edbfb0"
      },
      "source": [
        "linear_model.predict(X)"
      ],
      "execution_count": 15,
      "outputs": [
        {
          "output_type": "execute_result",
          "data": {
            "text/plain": [
              "array([[11.678414],\n",
              "       [22.325937],\n",
              "       [32.973457],\n",
              "       [43.62098 ],\n",
              "       [54.2685  ],\n",
              "       [64.91602 ],\n",
              "       [75.563545],\n",
              "       [86.21107 ],\n",
              "       [96.85859 ]], dtype=float32)"
            ]
          },
          "metadata": {},
          "execution_count": 15
        }
      ]
    },
    {
      "cell_type": "code",
      "metadata": {
        "id": "TnH-qxlDtLej"
      },
      "source": [
        "import matplotlib.pyplot as plt"
      ],
      "execution_count": 16,
      "outputs": []
    },
    {
      "cell_type": "code",
      "metadata": {
        "id": "5G-0TsZItDzO",
        "colab": {
          "base_uri": "https://localhost:8080/",
          "height": 267
        },
        "outputId": "df53361f-a2d3-4a59-f1c4-10230abf4bff"
      },
      "source": [
        "plt.plot(X, linear_model.predict(X), 'b', X, y, 'k.')\n",
        "plt.show()"
      ],
      "execution_count": 17,
      "outputs": [
        {
          "output_type": "display_data",
          "data": {
            "image/png": "[encoded data removed]",
            "text/plain": [
              "<Figure size 432x288 with 1 Axes>"
            ]
          },
          "metadata": {
            "needs_background": "light"
          }
        }
      ]
    },
    {
      "cell_type": "markdown",
      "metadata": {
        "id": "6w69xEAThwUk"
      },
      "source": [
        "## 2-3. Logisitic Regression"
      ]
    },
    {
      "cell_type": "code",
      "metadata": {
        "id": "EEtnlKmMhqgY",
        "colab": {
          "base_uri": "https://localhost:8080/"
        },
        "outputId": "80bfaf3b-e828-4bb0-a36f-58d697f4ceab"
      },
      "source": [
        "from tensorflow.keras.layers import Input, Dense\n",
        "from tensorflow.keras.models import Model\n",
        "\n",
        "inputs = Input(shape=(3,))\n",
        "output = Dense(1, activation='sigmoid')(inputs)\n",
        "logistic_model = Model(inputs, output)\n",
        "logistic_model.summary()"
      ],
      "execution_count": 18,
      "outputs": [
        {
          "output_type": "stream",
          "name": "stdout",
          "text": [
            "Model: \"model_2\"\n",
            "_________________________________________________________________\n",
            " Layer (type)                Output Shape              Param #   \n",
            "=================================================================\n",
            " input_3 (InputLayer)        [(None, 3)]               0         \n",
            "                                                                 \n",
            " dense_7 (Dense)             (None, 1)                 4         \n",
            "                                                                 \n",
            "=================================================================\n",
            "Total params: 4\n",
            "Trainable params: 4\n",
            "Non-trainable params: 0\n",
            "_________________________________________________________________\n"
          ]
        }
      ]
    },
    {
      "cell_type": "code",
      "metadata": {
        "colab": {
          "base_uri": "https://localhost:8080/",
          "height": 174
        },
        "id": "6E7AxORPlNK8",
        "outputId": "7b87fcf6-14d7-410f-82a9-9864af71b061"
      },
      "source": [
        "plot_model(logistic_model)"
      ],
      "execution_count": 27,
      "outputs": [
        {
          "output_type": "execute_result",
          "data": {
            "image/png": "[encoded data removed]",
            "text/plain": [
              "<IPython.core.display.Image object>"
            ]
          },
          "metadata": {},
          "execution_count": 27
        }
      ]
    },
    {
      "cell_type": "markdown",
      "metadata": {
        "id": "IBPe6iUth1vi"
      },
      "source": [
        "## 2-4. model that accepts multiple inputs\n"
      ]
    },
    {
      "cell_type": "code",
      "metadata": {
        "id": "TEhnaVoAh0GI",
        "colab": {
          "base_uri": "https://localhost:8080/"
        },
        "outputId": "32240b4c-8b00-427c-b81b-5cb13c79ecbe"
      },
      "source": [
        "from tensorflow.keras.layers import Input, Dense, concatenate\n",
        "from tensorflow.keras.models import Model\n",
        "\n",
        "# 두 개의 입력층을 정의\n",
        "inputA = Input(shape=(64,))\n",
        "inputB = Input(shape=(128,))\n",
        "\n",
        "# 첫번째 입력층으로부터 분기되어 진행되는 인공 신경망을 정의\n",
        "x = Dense(16, activation=\"relu\")(inputA)\n",
        "x = Dense(8, activation=\"relu\")(x)\n",
        "x = Model(inputs=inputA, outputs=x)\n",
        "\n",
        "# 두번째 입력층으로부터 분기되어 진행되는 인공 신경망을 정의\n",
        "y = Dense(64, activation=\"relu\")(inputB)\n",
        "y = Dense(32, activation=\"relu\")(y)\n",
        "y = Dense(8, activation=\"relu\")(y)\n",
        "y = Model(inputs=inputB, outputs=y)\n",
        "\n",
        "# 두개의 인공 신경망의 출력을 연결(concatenate)\n",
        "result = concatenate([x.output, y.output])\n",
        "\n",
        "z = Dense(2, activation=\"relu\")(result)\n",
        "z = Dense(1, activation=\"linear\")(z)\n",
        "\n",
        "multi_model = Model(inputs=[x.input, y.input], outputs=z)\n",
        "multi_model.summary()"
      ],
      "execution_count": 19,
      "outputs": [
        {
          "output_type": "stream",
          "name": "stdout",
          "text": [
            "Model: \"model_5\"\n",
            "__________________________________________________________________________________________________\n",
            " Layer (type)                   Output Shape         Param #     Connected to                     \n",
            "==================================================================================================\n",
            " input_5 (InputLayer)           [(None, 128)]        0           []                               \n",
            "                                                                                                  \n",
            " input_4 (InputLayer)           [(None, 64)]         0           []                               \n",
            "                                                                                                  \n",
            " dense_10 (Dense)               (None, 64)           8256        ['input_5[0][0]']                \n",
            "                                                                                                  \n",
            " dense_8 (Dense)                (None, 16)           1040        ['input_4[0][0]']                \n",
            "                                                                                                  \n",
            " dense_11 (Dense)               (None, 32)           2080        ['dense_10[0][0]']               \n",
            "                                                                                                  \n",
            " dense_9 (Dense)                (None, 8)            136         ['dense_8[0][0]']                \n",
            "                                                                                                  \n",
            " dense_12 (Dense)               (None, 8)            264         ['dense_11[0][0]']               \n",
            "                                                                                                  \n",
            " concatenate (Concatenate)      (None, 16)           0           ['dense_9[0][0]',                \n",
            "                                                                  'dense_12[0][0]']               \n",
            "                                                                                                  \n",
            " dense_13 (Dense)               (None, 2)            34          ['concatenate[0][0]']            \n",
            "                                                                                                  \n",
            " dense_14 (Dense)               (None, 1)            3           ['dense_13[0][0]']               \n",
            "                                                                                                  \n",
            "==================================================================================================\n",
            "Total params: 11,813\n",
            "Trainable params: 11,813\n",
            "Non-trainable params: 0\n",
            "__________________________________________________________________________________________________\n"
          ]
        }
      ]
    },
    {
      "cell_type": "code",
      "metadata": {
        "id": "motoX6C-Ms3H",
        "colab": {
          "base_uri": "https://localhost:8080/",
          "height": 661
        },
        "outputId": "d835ef43-c2fd-4b2a-e802-01fb0506480f"
      },
      "source": [
        "#  Plot model\n",
        "plot_model(multi_model)"
      ],
      "execution_count": 23,
      "outputs": [
        {
          "output_type": "execute_result",
          "data": {
            "image/png": "[encoded data removed]",
            "text/plain": [
              "<IPython.core.display.Image object>"
            ]
          },
          "metadata": {},
          "execution_count": 23
        }
      ]
    },
    {
      "cell_type": "markdown",
      "metadata": {
        "id": "uIzhaMfjiAPa"
      },
      "source": [
        "## 2-5. LSTM"
      ]
    },
    {
      "cell_type": "code",
      "metadata": {
        "id": "TQPevdlGiBuW",
        "colab": {
          "base_uri": "https://localhost:8080/"
        },
        "outputId": "f9db26a2-f2f0-4f3e-f4d6-136164e9266d"
      },
      "source": [
        "from tensorflow.keras.layers import Input, Dense, LSTM\n",
        "from tensorflow.keras.models import Model\n",
        "\n",
        "inputs = Input(shape=(50,1))\n",
        "lstm_layer = LSTM(10)(inputs)\n",
        "x = Dense(10, activation='relu')(lstm_layer)\n",
        "output = Dense(1, activation='sigmoid')(x)\n",
        "\n",
        "lstm_model = Model(inputs=inputs, outputs=output)\n",
        "lstm_model.summary()"
      ],
      "execution_count": 21,
      "outputs": [
        {
          "output_type": "stream",
          "name": "stdout",
          "text": [
            "Model: \"model_6\"\n",
            "_________________________________________________________________\n",
            " Layer (type)                Output Shape              Param #   \n",
            "=================================================================\n",
            " input_6 (InputLayer)        [(None, 50, 1)]           0         \n",
            "                                                                 \n",
            " lstm (LSTM)                 (None, 10)                480       \n",
            "                                                                 \n",
            " dense_15 (Dense)            (None, 10)                110       \n",
            "                                                                 \n",
            " dense_16 (Dense)            (None, 1)                 11        \n",
            "                                                                 \n",
            "=================================================================\n",
            "Total params: 601\n",
            "Trainable params: 601\n",
            "Non-trainable params: 0\n",
            "_________________________________________________________________\n"
          ]
        }
      ]
    },
    {
      "cell_type": "markdown",
      "metadata": {
        "id": "XdbiBz1WFaR8"
      },
      "source": [
        "## Number of parameters in an lstm layer\n",
        "> 4 * lstm_hidden_state_size * (lstm_inputs_size + bias_variable + lstm_outputs_size) \n",
        "- lstm_hidden_state_size = 10\n",
        "- lstm_inputs_size = 1\n",
        "- bias_variable = 1\n",
        "- lstm_outputs_size = 10\n",
        "\n",
        ">> 4*10(1 + 1 + 100 = 480"
      ]
    },
    {
      "cell_type": "code",
      "metadata": {
        "id": "YfRtCEbzMyLO",
        "colab": {
          "base_uri": "https://localhost:8080/",
          "height": 369
        },
        "outputId": "68c62dfb-0101-4836-80f1-375f722c018a"
      },
      "source": [
        "# Plot model\n",
        "plot_model(lstm_model)"
      ],
      "execution_count": 26,
      "outputs": [
        {
          "output_type": "execute_result",
          "data": {
            "image/png": "[encoded data removed]",
            "text/plain": [
              "<IPython.core.display.Image object>"
            ]
          },
          "metadata": {},
          "execution_count": 26
        }
      ]
    }
  ]
}