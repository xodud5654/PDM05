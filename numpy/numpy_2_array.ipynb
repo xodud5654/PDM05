{
  "nbformat": 4,
  "nbformat_minor": 0,
  "metadata": {
    "kernelspec": {
      "display_name": "Python 3",
      "language": "python",
      "name": "python3"
    },
    "language_info": {
      "codemirror_mode": {
        "name": "ipython",
        "version": 3
      },
      "file_extension": ".py",
      "mimetype": "text/x-python",
      "name": "python",
      "nbconvert_exporter": "python",
      "pygments_lexer": "ipython3",
      "version": "3.7.5"
    },
    "colab": {
      "name": "numpy_2_array.ipynb",
      "provenance": [],
      "collapsed_sections": [],
      "include_colab_link": true
    }
  },
  "cells": [
    {
      "cell_type": "markdown",
      "metadata": {
        "id": "view-in-github",
        "colab_type": "text"
      },
      "source": [
        "<a href=\"https://colab.research.google.com/github/xodud5654/PDM05/blob/main/numpy/numpy_2_array.ipynb\" target=\"_parent\"><img src=\"https://colab.research.google.com/assets/colab-badge.svg\" alt=\"Open In Colab\"/></a>"
      ]
    },
    {
      "cell_type": "markdown",
      "metadata": {
        "id": "qLtLw3l3DC1l"
      },
      "source": [
        "# numpy array\n",
        "\n",
        "- 생성\n",
        "- 구조 살펴보기\n",
        "- 수학연산 (columnwise, rowwise)"
      ]
    },
    {
      "cell_type": "code",
      "metadata": {
        "id": "1ZpPRcynDC1l",
        "colab": {
          "base_uri": "https://localhost:8080/"
        },
        "outputId": "84b6bb5c-2db1-43e9-f78f-adc0fb54c086"
      },
      "source": [
        "from numpy import asarray\n",
        "# define data as a list\n",
        "data = [[1,2,3], [4,5,6]]\n",
        "# convert to a numpy array\n",
        "data = asarray(data)\n",
        "# summarize the array content\n",
        "print(data)\n",
        "# summarize the array shape\n",
        "print(data.shape)"
      ],
      "execution_count": 2,
      "outputs": [
        {
          "output_type": "stream",
          "name": "stdout",
          "text": [
            "[[1 2 3]\n",
            " [4 5 6]]\n",
            "(2, 3)\n"
          ]
        }
      ]
    },
    {
      "cell_type": "markdown",
      "metadata": {
        "id": "1pmgPh3DDC1p"
      },
      "source": [
        "## Print rows"
      ]
    },
    {
      "cell_type": "code",
      "metadata": {
        "id": "0rLupYCmDC1q",
        "colab": {
          "base_uri": "https://localhost:8080/"
        },
        "outputId": "dcf28c93-d76a-421a-e504-80ad874f95fb"
      },
      "source": [
        "# enumerate rows in a numpy array\n",
        "from numpy import asarray\n",
        "# define data as a list\n",
        "data = [[1,2,3], [4,5,6]]\n",
        "# data.shape # Error!\n",
        "# convert to a numpy array\n",
        "data = asarray(data)\n",
        "# step through rows\n",
        "for row in range(data.shape[0]):\n",
        "\tprint(data[row])"
      ],
      "execution_count": null,
      "outputs": [
        {
          "output_type": "stream",
          "name": "stdout",
          "text": [
            "[1 2 3]\n",
            "[4 5 6]\n"
          ]
        }
      ]
    },
    {
      "cell_type": "code",
      "metadata": {
        "colab": {
          "base_uri": "https://localhost:8080/"
        },
        "id": "qYwG69qXbNjj",
        "outputId": "588abfb0-b588-4f14-ec82-927e4e4076c4"
      },
      "source": [
        "\n",
        "data.shape,data.shape[0],data.shape[1]"
      ],
      "execution_count": 3,
      "outputs": [
        {
          "output_type": "execute_result",
          "data": {
            "text/plain": [
              "((2, 3), 2, 3)"
            ]
          },
          "metadata": {},
          "execution_count": 3
        }
      ]
    },
    {
      "cell_type": "markdown",
      "metadata": {
        "id": "S1Bl58KpDC1s"
      },
      "source": [
        "## Print columns"
      ]
    },
    {
      "cell_type": "code",
      "metadata": {
        "id": "2jS_7YIWDC1t",
        "colab": {
          "base_uri": "https://localhost:8080/"
        },
        "outputId": "17e99d92-047b-4270-97ce-8c502963c3e1"
      },
      "source": [
        "# enumerate rows in a numpy array\n",
        "from numpy import asarray\n",
        "# define data as a list\n",
        "data = [[1,2,3], [4,5,6]]\n",
        "# convert to a numpy array\n",
        "data = asarray(data)\n",
        "print(data)\n",
        "# step through columns\n",
        "for col in range(data.shape[1]):\n",
        "\tprint(data[:,col])"
      ],
      "execution_count": null,
      "outputs": [
        {
          "output_type": "stream",
          "name": "stdout",
          "text": [
            "[[1 2 3]\n",
            " [4 5 6]]\n",
            "[1 4]\n",
            "[2 5]\n",
            "[3 6]\n"
          ]
        }
      ]
    },
    {
      "cell_type": "markdown",
      "metadata": {
        "id": "BTdfAyqRlVM1"
      },
      "source": [
        "---"
      ]
    },
    {
      "cell_type": "markdown",
      "metadata": {
        "id": "tGhULkDaDC1v"
      },
      "source": [
        "## NumPy Array Operations By Row and Column\n",
        "- axis=None: Apply operation array-wise.\n",
        "- axis=0: Apply operation column-wise, across all rows for each column.\n",
        "- axis=1: Apply operation row-wise, across all columns for each row."
      ]
    },
    {
      "cell_type": "code",
      "metadata": {
        "id": "nFCQ6buxDC1v",
        "colab": {
          "base_uri": "https://localhost:8080/"
        },
        "outputId": "2ccdbc8d-613c-4a04-e684-efa6b4c4cd04"
      },
      "source": [
        "# sum values array-wise\n",
        "from numpy import asarray\n",
        "# define data as a list\n",
        "data = [[1,2,3], [4,5,6]]\n",
        "# convert to a numpy array\n",
        "data = asarray(data)\n",
        "# summarize the array content\n",
        "print(data)\n",
        "# sum data by array\n",
        "result = data.sum(axis=None)\n",
        "# summarize the result\n",
        "print(result)"
      ],
      "execution_count": null,
      "outputs": [
        {
          "output_type": "stream",
          "name": "stdout",
          "text": [
            "[[1 2 3]\n",
            " [4 5 6]]\n",
            "21\n"
          ]
        }
      ]
    },
    {
      "cell_type": "markdown",
      "metadata": {
        "id": "Mcmj1qCwDC1y"
      },
      "source": [
        "### Axis=0 Column-Wise Operation (수직으로)"
      ]
    },
    {
      "cell_type": "code",
      "metadata": {
        "id": "irwyItrKDC10",
        "colab": {
          "base_uri": "https://localhost:8080/"
        },
        "outputId": "6d5cfe39-53c1-4cd7-caac-a7f3d55370a4"
      },
      "source": [
        "# sum values column-wise\n",
        "from numpy import asarray\n",
        "# define data as a list\n",
        "data = [[1,2,3], [4,5,6]]\n",
        "# convert to a numpy array\n",
        "data = asarray(data)\n",
        "# summarize the array content\n",
        "print(data)\n",
        "# sum data by column\n",
        "result = data.sum(axis=0)\n",
        "# summarize the result\n",
        "print(result)"
      ],
      "execution_count": 4,
      "outputs": [
        {
          "output_type": "stream",
          "name": "stdout",
          "text": [
            "[[1 2 3]\n",
            " [4 5 6]]\n",
            "[5 7 9]\n"
          ]
        }
      ]
    },
    {
      "cell_type": "markdown",
      "metadata": {
        "id": "OXNCVoP1DC13"
      },
      "source": [
        "### Axis=1 Row-Wise Operation (수평으로)"
      ]
    },
    {
      "cell_type": "code",
      "metadata": {
        "id": "QmStdHwqDC13",
        "colab": {
          "base_uri": "https://localhost:8080/"
        },
        "outputId": "2efa3fe0-973e-435b-c7d6-0cfef18c2a25"
      },
      "source": [
        "# sum values row-wise\n",
        "from numpy import asarray\n",
        "# define data as a list\n",
        "data = [[1,2,3], [4,5,6]]\n",
        "# convert to a numpy array\n",
        "data = asarray(data)\n",
        "# summarize the array content\n",
        "print(data)\n",
        "# sum data by row\n",
        "result = data.sum(axis=1)\n",
        "# summarize the result\n",
        "print(result)"
      ],
      "execution_count": 5,
      "outputs": [
        {
          "output_type": "stream",
          "name": "stdout",
          "text": [
            "[[1 2 3]\n",
            " [4 5 6]]\n",
            "[ 6 15]\n"
          ]
        }
      ]
    },
    {
      "cell_type": "markdown",
      "metadata": {
        "id": "WD-mr8TylTH-"
      },
      "source": [
        "---"
      ]
    },
    {
      "cell_type": "markdown",
      "metadata": {
        "id": "JNfFF_h-DC2A"
      },
      "source": [
        "## [Challenge]\n",
        "- 3d-array\n",
        "    * axis = 0\n",
        "    * axis = 1\n",
        "    * axis = 2\n",
        "    * axis = (0,1)"
      ]
    },
    {
      "cell_type": "markdown",
      "metadata": {
        "id": "w7qMCHmrGHTQ"
      },
      "source": [
        "## [DIY: 도전하기]\n",
        "\n",
        "- 3차원 배열을 리스트로부터 만드시오.\n",
        "- [참고: numpy_sum_axis](http://taewan.kim/post/numpy_sum_axis/)"
      ]
    },
    {
      "cell_type": "code",
      "metadata": {
        "id": "dMOzrginDC2A"
      },
      "source": [
        "# Make 3d-array in numpy\n",
        "\n",
        "data = [[1,2,3], [4,5,6]],[[7,8,9], [1,4,7]],[[7,8,9], [6,7,8]]\n",
        "\n"
      ],
      "execution_count": 7,
      "outputs": []
    },
    {
      "cell_type": "code",
      "metadata": {
        "id": "idjZZCwTDC2E",
        "colab": {
          "base_uri": "https://localhost:8080/"
        },
        "outputId": "915a5460-b147-4ecc-ddbe-759696fb216c"
      },
      "source": [
        "\n",
        "data = asarray(data)\n",
        "print(data)"
      ],
      "execution_count": 8,
      "outputs": [
        {
          "output_type": "stream",
          "name": "stdout",
          "text": [
            "[[[1 2 3]\n",
            "  [4 5 6]]\n",
            "\n",
            " [[7 8 9]\n",
            "  [1 4 7]]\n",
            "\n",
            " [[7 8 9]\n",
            "  [6 7 8]]]\n"
          ]
        }
      ]
    }
  ]
}